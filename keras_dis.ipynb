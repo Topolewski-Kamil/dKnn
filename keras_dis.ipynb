{
  "nbformat": 4,
  "nbformat_minor": 0,
  "metadata": {
    "colab": {
      "name": "keras_dis.ipynb",
      "provenance": [],
      "collapsed_sections": [],
      "machine_shape": "hm",
      "include_colab_link": true
    },
    "kernelspec": {
      "name": "python3",
      "display_name": "Python 3"
    },
    "language_info": {
      "name": "python"
    },
    "accelerator": "GPU"
  },
  "cells": [
    {
      "cell_type": "markdown",
      "metadata": {
        "id": "view-in-github",
        "colab_type": "text"
      },
      "source": [
        "<a href=\"https://colab.research.google.com/github/Topolewski-Kamil/dKnn/blob/main/keras_dis.ipynb\" target=\"_parent\"><img src=\"https://colab.research.google.com/assets/colab-badge.svg\" alt=\"Open In Colab\"/></a>"
      ]
    },
    {
      "cell_type": "code",
      "source": [
        "from google.colab import drive\n",
        "drive.mount('/content/drive')\n",
        "%cd /content/drive/My Drive/disseration/"
      ],
      "metadata": {
        "colab": {
          "base_uri": "https://localhost:8080/"
        },
        "id": "PLe7HBrK7CbQ",
        "outputId": "6df5c4c6-5192-4b89-9667-d892dfe7a1fd"
      },
      "execution_count": 1,
      "outputs": [
        {
          "output_type": "stream",
          "name": "stdout",
          "text": [
            "Drive already mounted at /content/drive; to attempt to forcibly remount, call drive.mount(\"/content/drive\", force_remount=True).\n",
            "/content/drive/My Drive/disseration\n"
          ]
        }
      ]
    },
    {
      "cell_type": "markdown",
      "source": [
        "Import modules"
      ],
      "metadata": {
        "id": "PJn05KsnfDLI"
      }
    },
    {
      "cell_type": "code",
      "execution_count": 2,
      "metadata": {
        "id": "SnZbGpex18E5",
        "colab": {
          "base_uri": "https://localhost:8080/"
        },
        "outputId": "7269d567-9927-4ff7-ed1e-6757a19a1412"
      },
      "outputs": [
        {
          "output_type": "stream",
          "name": "stdout",
          "text": [
            "Requirement already satisfied: pynndescent in /usr/local/lib/python3.7/dist-packages (0.5.6)\n",
            "Requirement already satisfied: scikit-learn>=0.18 in /usr/local/lib/python3.7/dist-packages (from pynndescent) (1.0.2)\n",
            "Requirement already satisfied: llvmlite>=0.30 in /usr/local/lib/python3.7/dist-packages (from pynndescent) (0.34.0)\n",
            "Requirement already satisfied: numba>=0.51.2 in /usr/local/lib/python3.7/dist-packages (from pynndescent) (0.51.2)\n",
            "Requirement already satisfied: joblib>=0.11 in /usr/local/lib/python3.7/dist-packages (from pynndescent) (1.1.0)\n",
            "Requirement already satisfied: scipy>=1.0 in /usr/local/lib/python3.7/dist-packages (from pynndescent) (1.4.1)\n",
            "Requirement already satisfied: numpy>=1.15 in /usr/local/lib/python3.7/dist-packages (from numba>=0.51.2->pynndescent) (1.21.5)\n",
            "Requirement already satisfied: setuptools in /usr/local/lib/python3.7/dist-packages (from numba>=0.51.2->pynndescent) (57.4.0)\n",
            "Requirement already satisfied: threadpoolctl>=2.0.0 in /usr/local/lib/python3.7/dist-packages (from scikit-learn>=0.18->pynndescent) (3.1.0)\n"
          ]
        }
      ],
      "source": [
        "%tensorflow_version 2.x\n",
        "!pip install pynndescent\n",
        "\n",
        "import tensorflow as tf\n",
        "import numpy as np\n",
        "from tensorflow import keras\n",
        "from tensorflow.keras import layers\n",
        "from keras import backend as K\n",
        "import matplotlib\n",
        "import matplotlib.pyplot as plt\n",
        "from keras.models import load_model\n",
        "import string\n",
        "\n",
        "import pynndescent\n",
        "import numpy as np\n",
        "import h5py\n",
        "from urllib.request import urlretrieve\n",
        "import os\n",
        "import seaborn as sns"
      ]
    },
    {
      "cell_type": "markdown",
      "source": [
        "Import Mnist dataset"
      ],
      "metadata": {
        "id": "XvbVxy5tfCwQ"
      }
    },
    {
      "cell_type": "code",
      "source": [
        "# Model / data parameters\n",
        "num_classes = 10\n",
        "input_shape = (28, 28, 1)\n",
        "\n",
        "# the data, split between train and test sets\n",
        "(x_train, y_train), (x_test, y_test) = keras.datasets.mnist.load_data()\n",
        "# Scale images to the [0, 1] range\n",
        "x_train = x_train.astype(\"float32\") / 255\n",
        "x_test = x_test.astype(\"float32\") / 255\n",
        "# Make sure images have shape (28, 28, 1)\n",
        "x_train = np.expand_dims(x_train, -1)\n",
        "x_test = np.expand_dims(x_test, -1)\n",
        "\n",
        "# convert class vectors to binary class matrices\n",
        "y_train = keras.utils.to_categorical(y_train, num_classes)\n",
        "y_test = keras.utils.to_categorical(y_test, num_classes)\n",
        "\n",
        "# split test set into calibration set\n",
        "x_cal = x_test[0:750]\n",
        "y_cal = y_test[0:750]\n",
        "x_test = x_test[750:10000]\n",
        "y_test = y_test[750:10000]\n",
        "\n",
        "\n",
        "# x_cal = x_test[9250:10000]\n",
        "# y_cal = y_test[9250:10000]\n",
        "# x_test = x_test[0:9250]\n",
        "# y_test = y_test[0:9250]"
      ],
      "metadata": {
        "id": "hXAsY2jo1_y7"
      },
      "execution_count": 89,
      "outputs": []
    },
    {
      "cell_type": "markdown",
      "source": [
        "Initialize CNN model"
      ],
      "metadata": {
        "id": "jNU51mw7fU3A"
      }
    },
    {
      "cell_type": "code",
      "source": [
        "model = keras.Sequential(\n",
        "    [\n",
        "        keras.Input(shape=input_shape),\n",
        "        layers.Conv2D(64, kernel_size=(8, 8), strides=(2,2), padding=\"same\", activation=\"relu\", input_shape=x_train.shape[1:]),\n",
        "        layers.Conv2D(128, kernel_size=(6, 6), strides=(2,2), padding=\"valid\", activation=\"relu\"),\n",
        "        layers.Conv2D(128, kernel_size=(5, 5), strides=(1,1), padding=\"valid\", activation=\"relu\"),\n",
        "        layers.Flatten(),\n",
        "        layers.Dropout(0.5),\n",
        "        layers.Dense(128, activation=None),\n",
        "        layers.Dense(10, activation=tf.nn.softmax),\n",
        "    ]\n",
        ")\n",
        "\n",
        "batch_size = 500\n",
        "epochs = 8\n",
        "\n",
        "opt = keras.optimizers.Adam(learning_rate=0.001)\n",
        "model.compile(loss=\"categorical_crossentropy\", optimizer=opt, metrics=[\"accuracy\"])"
      ],
      "metadata": {
        "id": "9_iCpdEz2HSB"
      },
      "execution_count": 64,
      "outputs": []
    },
    {
      "cell_type": "markdown",
      "source": [
        "Train model\n"
      ],
      "metadata": {
        "id": "HEN5GHtXts6c"
      }
    },
    {
      "cell_type": "code",
      "source": [
        "try:\n",
        "  keras.backend.set_learning_phase(False)\n",
        "  model = load_model('deepKNN_model.h5')\n",
        "  print(\"loaded model successfully\")\n",
        "except: \n",
        "  model.fit(x_train, y_train, batch_size=batch_size, epochs=epochs, validation_split=0.1) #0.1\n",
        "  model.save('deepKNN_model.h5')  # creates a HDF5 file\n",
        "  print(\"saved model successfully\")"
      ],
      "metadata": {
        "colab": {
          "base_uri": "https://localhost:8080/"
        },
        "id": "40vD00Gi--3N",
        "outputId": "f29519dc-debe-49f8-e6a9-affe736c3692"
      },
      "execution_count": 65,
      "outputs": [
        {
          "output_type": "stream",
          "name": "stdout",
          "text": [
            "loaded model successfully\n"
          ]
        },
        {
          "output_type": "stream",
          "name": "stderr",
          "text": [
            "/usr/local/lib/python3.7/dist-packages/keras/backend.py:450: UserWarning: `tf.keras.backend.set_learning_phase` is deprecated and will be removed after 2020-10-11. To update it, simply pass a True/False value to the `training` argument of the `__call__` method of your layer or model.\n",
            "  warnings.warn('`tf.keras.backend.set_learning_phase` is deprecated and '\n"
          ]
        }
      ]
    },
    {
      "cell_type": "markdown",
      "source": [
        "Evaluate model"
      ],
      "metadata": {
        "id": "hpLgAqfwuBOH"
      }
    },
    {
      "cell_type": "code",
      "source": [
        "score = model.evaluate(x_test, y_test, verbose=0)\n",
        "print(\"Test loss:\", score[0])\n",
        "print(\"Test accuracy:\", score[1])"
      ],
      "metadata": {
        "colab": {
          "base_uri": "https://localhost:8080/"
        },
        "id": "0k9rrKu2_6dT",
        "outputId": "00caa3cc-5ee2-4dbc-8876-277fff8d29af"
      },
      "execution_count": 66,
      "outputs": [
        {
          "output_type": "stream",
          "name": "stdout",
          "text": [
            "Test loss: 0.028061550110578537\n",
            "Test accuracy: 0.9912432432174683\n"
          ]
        }
      ]
    },
    {
      "cell_type": "markdown",
      "source": [
        "Plot image"
      ],
      "metadata": {
        "id": "qzmF9TLSuNPe"
      }
    },
    {
      "cell_type": "code",
      "source": [
        "def plot_image(img):\n",
        "  plt.imshow(img.reshape((28, 28)), cmap='gray', interpolation='none')\n",
        "  cbar = plt.colorbar()\n",
        "  cbar.set_label('Pixel Intensity')\n",
        "  plt.show()"
      ],
      "metadata": {
        "id": "6r73aUUQfBvC"
      },
      "execution_count": 7,
      "outputs": []
    },
    {
      "cell_type": "markdown",
      "source": [
        "Generate Adversarial Examples"
      ],
      "metadata": {
        "id": "5peKiYbPuO9S"
      }
    },
    {
      "cell_type": "code",
      "source": [
        "# import the necessary packages\n",
        "from tensorflow.keras.losses import MSE\n",
        "import tensorflow as tf\n",
        "def generate_image_adversary(model, image, label, eps):\n",
        "  # cast the image\n",
        "  image = tf.cast(image.reshape(1, 28, 28, 1), tf.float32)\n",
        "  # record our gradients\n",
        "  with tf.GradientTape() as tape:\n",
        "    # explicitly indicate that our image should be tacked for\n",
        "    # gradient updates\n",
        "    tape.watch(image)\n",
        "    # use our model to make predictions on the input image and\n",
        "    # then compute the loss\n",
        "    pred = model(image)\n",
        "    loss = MSE(label, pred)\n",
        "\n",
        "    # calculate the gradients of loss with respect to the image, then\n",
        "    # compute the sign of the gradient\n",
        "    gradient = tape.gradient(loss, image)\n",
        "    signedGrad = tf.sign(gradient)\n",
        "    # construct the image adversary\n",
        "    adversary = (image + (signedGrad * eps)).numpy()\n",
        "    # return the image adversary to the calling function\n",
        "    return adversary.reshape(28, 28, 1)"
      ],
      "metadata": {
        "id": "Xwul9XrXGnlu"
      },
      "execution_count": 8,
      "outputs": []
    },
    {
      "cell_type": "code",
      "source": [
        "epsilons = [0.05, 0.1, 0.15, 0.2, 0.25]\n",
        "adversaries = {}\n",
        "\n",
        "def load_adversaries(adversaries):  \n",
        "  for eps in epsilons:\n",
        "    eps_str = str(eps)\n",
        "    eps_str = eps_str.translate(str.maketrans('', '', string.punctuation))\n",
        "    path = 'adv_datasets/adversaries' + eps_str + '.npy'\n",
        "    adversaries[eps] = np.load(path)\n",
        "\n",
        "def save_adversaries():\n",
        "  for eps in epsilons:\n",
        "    eps_str = str(eps)\n",
        "    eps_str = eps_str.translate(str.maketrans('', '', string.punctuation))\n",
        "    filename = 'adv_datasets/adversaries' + eps_str + '.npy'\n",
        "    np.save(filename, adversaries[eps])\n",
        "\n",
        "try:\n",
        "  epsilons.insert(0, 0.0)\n",
        "  load_adversaries(adversaries)\n",
        "  print('loaded adversaries dataset successfully')\n",
        "except:\n",
        "  for eps in epsilons:\n",
        "    adv = []\n",
        "    for i in range(x_test.shape[0]):\n",
        "      adv.append(generate_image_adversary(model, x_test[i], y_test[i], eps))\n",
        "    adversaries[eps] = np.array(adv)\n",
        "  epsilons.insert(0, 0.0)\n",
        "  adversaries[0.0] = x_test\n",
        "  save_adversaries()\n",
        "  print('saved adversaries dataset successfully')"
      ],
      "metadata": {
        "colab": {
          "base_uri": "https://localhost:8080/"
        },
        "id": "dZDacbiljIqC",
        "outputId": "40b3446d-db0d-4fed-e80b-80e5d758581e"
      },
      "execution_count": 9,
      "outputs": [
        {
          "output_type": "stream",
          "name": "stdout",
          "text": [
            "loaded adversaries dataset successfully\n"
          ]
        }
      ]
    },
    {
      "cell_type": "markdown",
      "source": [
        "Test model on adversarial attacks"
      ],
      "metadata": {
        "id": "ag3lTS_6uXlK"
      }
    },
    {
      "cell_type": "code",
      "source": [
        "accuracies_plot = []\n",
        "for eps in epsilons:\n",
        "  adversary_score = model.evaluate(adversaries[eps], y_test, verbose=0)\n",
        "  accuracies_plot.append(adversary_score[1] * 100)\n",
        "  \n",
        "plt.figure(figsize=(5,5))\n",
        "plt.plot(epsilons, accuracies_plot, linestyle='--', marker='o', color='b')\n",
        "plt.yticks(np.arange(0, 101, step=10))\n",
        "plt.xticks(np.arange(0, .26, step=0.05))\n",
        "plt.xlabel(\"Epsilon\")\n",
        "plt.ylabel(\"Accuracy\")\n",
        "plt.title(\"Accuracy vs Epsilon\")\n",
        "plt.show()"
      ],
      "metadata": {
        "colab": {
          "base_uri": "https://localhost:8080/",
          "height": 350
        },
        "id": "N8h0dWvU46HD",
        "outputId": "5a017f0f-a00c-43d7-a7ff-2c8c73f6fd85"
      },
      "execution_count": 10,
      "outputs": [
        {
          "output_type": "display_data",
          "data": {
            "text/plain": [
              "<Figure size 360x360 with 1 Axes>"
            ],
            "image/png": "[encoded data removed]"
          },
          "metadata": {
            "needs_background": "light"
          }
        }
      ]
    },
    {
      "cell_type": "markdown",
      "source": [
        "Plot some adversarial examples"
      ],
      "metadata": {
        "id": "mpwkx6_vubcU"
      }
    },
    {
      "cell_type": "code",
      "source": [
        "cnt = 0\n",
        "plt.figure(figsize=(10,15))\n",
        "for eps in epsilons:\n",
        "  adv_img = adversaries[eps][5:10]\n",
        "  true_label = y_test[5:10]\n",
        "\n",
        "  adv_results = model.predict(adversaries[eps][5:10])\n",
        "  predicted_labels = []\n",
        "  for result in adv_results:\n",
        "    predicted_labels.append(np.argmax(result))\n",
        "\n",
        "  for i in range(5):\n",
        "      cnt += 1\n",
        "      plt.subplot(len(epsilons), 5, cnt)\n",
        "      plt.xticks([], [])\n",
        "      plt.yticks([], [])\n",
        "      if i == 0:\n",
        "        plt.ylabel(\"Eps: {}\".format(eps), fontsize=14)\n",
        "      plt.title(\"Pred. label: {}\".format(predicted_labels[i]))\n",
        "      plt.imshow(np.squeeze(adv_img[i]), cmap=\"gray\")\n",
        "# plt.tight_layout()\n",
        "plt.show()"
      ],
      "metadata": {
        "colab": {
          "base_uri": "https://localhost:8080/",
          "height": 846
        },
        "id": "xWlEh8ax2Wif",
        "outputId": "d10cfbf0-9160-43f2-b8d5-c31673dd73e9"
      },
      "execution_count": 11,
      "outputs": [
        {
          "output_type": "display_data",
          "data": {
            "text/plain": [
              "<Figure size 720x1080 with 30 Axes>"
            ],
            "image/png": "[encoded data removed]"
          },
          "metadata": {}
        }
      ]
    },
    {
      "cell_type": "markdown",
      "source": [
        "KNN for patterns"
      ],
      "metadata": {
        "id": "qOXIfd2XHS_O"
      }
    },
    {
      "cell_type": "code",
      "source": [
        "# # reformat training data\n",
        "# x_train_knn = np.squeeze(x_train, -1)\n",
        "# x_train_knn = x_train_knn.reshape((60000, 784))\n",
        "\n",
        "# # index training data\n",
        "# index = pynndescent.NNDescent(x_train_knn)\n",
        "\n",
        "# # prepare for faster query\n",
        "# index.prepare()\n",
        "\n",
        "# # reformat test data\n",
        "# x_test_knn = np.squeeze(x_test, -1)\n",
        "# x_test_knn = x_test_knn.reshape((10000, 784))\n",
        "\n",
        "# # find neighbors for test data\n",
        "# neighbors = index.query(x_test_knn)\n",
        "\n",
        "# ## create gold standard from KDTree ###\n",
        "# from sklearn.neighbors import KDTree\n",
        "# tree_index = KDTree(x_train)\n",
        "\n",
        "# tree_neighbors = tree_index.query(x_test, k=10)\n",
        "\n",
        "# def accuracy_per_query_point(approx_neighbors, true_neighbors):\n",
        "#     approx_indices = approx_neighbors[0]\n",
        "#     result = np.zeros(approx_indices.shape[0])\n",
        "#     for i in range(approx_indices.shape[0]):\n",
        "#         n_correct = np.intersect1d(approx_indices[i], true_neighbors[i]).shape[0]\n",
        "#         result[i] = n_correct / true_neighbors.shape[1]\n",
        "#     return result\n",
        "\n",
        "# tree_N = np.load('test_true_neighbors.npy')\n",
        "\n",
        "# accuracy_stats = accuracy_per_query_point(neighbors, tree_N)\n",
        "# sns.set(rc={\"figure.figsize\":(10,6)})\n",
        "\n",
        "# sns.distplot(accuracy_stats, kde=False)\n",
        "# plt.title(\"Distribution of accuracy per query point\")\n",
        "# plt.xlabel(\"Accuracy\")\n",
        "# print(f\"Average accuracy of {np.mean(accuracy_stats)}\")"
      ],
      "metadata": {
        "id": "37tY9-h39-5T"
      },
      "execution_count": 12,
      "outputs": []
    },
    {
      "cell_type": "markdown",
      "source": [
        "KNN for first CNN layer"
      ],
      "metadata": {
        "id": "B8Q8QQKfuiK-"
      }
    },
    {
      "cell_type": "markdown",
      "source": [
        "Get activations on each layer"
      ],
      "metadata": {
        "id": "ypCORPPYuCnD"
      }
    },
    {
      "cell_type": "code",
      "source": [
        "def reshaped_layer(model, x):\n",
        "    #function to get the layer wise output representation of the model for data x\n",
        "    layer_output = []\n",
        "\n",
        "    for i in [0,1,2,5]:\n",
        "        layer = model.layers[i]\n",
        "        l_op = K.function([model.layers[0].input], [layer.output])([x])[0]\n",
        "        layer_output.append(l_op)\n",
        "\n",
        "    reshaped_output_layer = []\n",
        "    \n",
        "    for output in layer_output[0:3]:\n",
        "        reshaped_output_layer.append(output.reshape(output.shape[0], output.shape[1]*output.shape[2]*output.shape[3]))\n",
        "        \n",
        "    reshaped_output_layer.append(layer_output[3])\n",
        "    \n",
        "    for layer in reshaped_output_layer:\n",
        "        assert layer.dtype == np.float32\n",
        "        layer /= np.linalg.norm(layer, axis=1).reshape(-1, 1)\n",
        "    return(reshaped_output_layer)"
      ],
      "metadata": {
        "id": "bsYotmhJWx8O"
      },
      "execution_count": 67,
      "outputs": []
    },
    {
      "cell_type": "markdown",
      "source": [
        "Index trainingset knn"
      ],
      "metadata": {
        "id": "GZ6NnXKwRGEi"
      }
    },
    {
      "cell_type": "code",
      "source": [
        "%%time\n",
        "# With GPU\n",
        "# CPU times: user 12min 3s, sys: 5.39 s, total: 12min 8s\n",
        "# Wall time: 3min 46s\n",
        "def index_layer(layer):\n",
        "  layer_act = activations_train[layer]\n",
        "  index_act = pynndescent.NNDescent(layer_act) # index training data\n",
        "  index_act.prepare()# prepare for faster query\n",
        "  return index_act\n",
        "\n",
        "activations_train = reshaped_layer(model, x_train)\n",
        "\n",
        "index_act = {}\n",
        "for layer in range (0,4):\n",
        "  index_act[layer] = index_layer(layer)"
      ],
      "metadata": {
        "colab": {
          "base_uri": "https://localhost:8080/"
        },
        "id": "9TXtYx9avPz6",
        "outputId": "87ab0136-6cb7-47bd-d554-b7fbbfb3e6e4"
      },
      "execution_count": 14,
      "outputs": [
        {
          "output_type": "stream",
          "name": "stderr",
          "text": [
            "/usr/local/lib/python3.7/dist-packages/numba/np/ufunc/parallel.py:363: NumbaWarning: The TBB threading layer requires TBB version 2019.5 or later i.e., TBB_INTERFACE_VERSION >= 11005. Found TBB_INTERFACE_VERSION = 9107. The TBB threading layer is disabled.\n",
            "  warnings.warn(problem)\n"
          ]
        },
        {
          "output_type": "stream",
          "name": "stdout",
          "text": [
            "CPU times: user 12min 3s, sys: 5.39 s, total: 12min 8s\n",
            "Wall time: 3min 46s\n"
          ]
        }
      ]
    },
    {
      "cell_type": "markdown",
      "source": [
        "Find Neigbours"
      ],
      "metadata": {
        "id": "-FCe9Kq0RLY9"
      }
    },
    {
      "cell_type": "code",
      "source": [
        "def find_neighbours(activations, index, layer, knn_eps):\n",
        "  act = activations[layer]\n",
        "  neighbors = index.query(act, epsilon=knn_eps)\n",
        "  return neighbors\n",
        "\n",
        "def correct_neighbours_count(neihgbours):\n",
        "  correct_neighbours = [0] * 11\n",
        "  for i in range(0, neihgbours[0].shape[0]):\n",
        "    correct = 0\n",
        "    for j in neihgbours[0][i]:\n",
        "      if (np.argmax(y_train[j]) == (np.argmax(y_test[i]))):\n",
        "        correct += 1\n",
        "    correct_neighbours[correct] += 1\n",
        "  return correct_neighbours\n",
        "\n",
        "def compare_neigbours(neighbours, layer, eps):\n",
        "  x_ax = np.arange(len(neighbours[layer][0.0]))\n",
        "  plt.bar(x_ax-0.2, neighbours[layer][0.0], 0.4, label = 'Epsilon: 0.0')\n",
        "  plt.bar(x_ax+0.2, neighbours[layer][eps], 0.4, label = 'Epsilon: ' + str(eps))\n",
        "\n",
        "  plt.xlabel(\"Neigbours\")\n",
        "  plt.ylabel(\"Number of correct neigbours\")\n",
        "  plt.title(\"Number of correct neigbours on layer number: \" + str(layer))\n",
        "  plt.legend()\n",
        "\n",
        "  plt.xticks(x_ax);\n",
        "  plt.show() "
      ],
      "metadata": {
        "id": "vN0zmLu51IYz"
      },
      "execution_count": 15,
      "outputs": []
    },
    {
      "cell_type": "code",
      "source": [
        "activations = {}\n",
        "for eps in epsilons:\n",
        "  activations[eps] = reshaped_layer(model, adversaries[eps])"
      ],
      "metadata": {
        "id": "4i4Cl-XHrpsL"
      },
      "execution_count": 16,
      "outputs": []
    },
    {
      "cell_type": "code",
      "source": [
        "%%time\n",
        "# With GPU\n",
        "# CPU times: user 2min 2s, sys: 971 ms, total: 2min 3s\n",
        "# Wall time: 2min 2s\n",
        "neighbors = {}\n",
        "for layer in range (0,4):\n",
        "  neighbors[layer] = {} # useless?\n",
        "  for eps in epsilons:\n",
        "    neighbors[layer][eps] = find_neighbours(activations[eps], index_act[layer], layer, 0.1)"
      ],
      "metadata": {
        "id": "bIXj_A2LYaGG",
        "colab": {
          "base_uri": "https://localhost:8080/"
        },
        "outputId": "bb797368-5707-4e77-97a3-0af202887de8"
      },
      "execution_count": 17,
      "outputs": [
        {
          "output_type": "stream",
          "name": "stdout",
          "text": [
            "CPU times: user 2min 2s, sys: 971 ms, total: 2min 3s\n",
            "Wall time: 2min 2s\n"
          ]
        }
      ]
    },
    {
      "cell_type": "code",
      "source": [
        "correct_neighbours = {}\n",
        "for layer in range (0,4):\n",
        "  correct_neighbours[layer] = {}\n",
        "  for eps in epsilons:\n",
        "    correct_neighbours[layer][eps] = correct_neighbours_count(neighbors[layer][eps])"
      ],
      "metadata": {
        "id": "HP59_0wGDbLe"
      },
      "execution_count": null,
      "outputs": []
    },
    {
      "cell_type": "code",
      "source": [
        "correct_neighbours[0]"
      ],
      "metadata": {
        "colab": {
          "base_uri": "https://localhost:8080/"
        },
        "id": "vCeHceBwX26M",
        "outputId": "6a3ae78f-17a9-470b-a9ad-448d7ca9cde5"
      },
      "execution_count": 55,
      "outputs": [
        {
          "output_type": "execute_result",
          "data": {
            "text/plain": [
              "{0.0: [93, 31, 21, 36, 40, 63, 74, 71, 139, 359, 8323],\n",
              " 0.05: [169, 61, 70, 56, 68, 78, 110, 124, 222, 525, 7767],\n",
              " 0.1: [320, 118, 111, 97, 146, 154, 173, 233, 317, 676, 6905],\n",
              " 0.15: [612, 220, 216, 199, 230, 234, 279, 339, 498, 888, 5535],\n",
              " 0.2: [1233, 432, 369, 349, 364, 392, 431, 479, 639, 978, 3584],\n",
              " 0.25: [2570, 788, 617, 471, 452, 458, 449, 472, 526, 709, 1738]}"
            ]
          },
          "metadata": {},
          "execution_count": 55
        }
      ]
    },
    {
      "cell_type": "code",
      "source": [
        "avg = 93*10 + 31*9 + 21*8 + 36*7 + 40*6 + 63*5 + 74*4 + 71*3 + 139*2 + 359*1 + 8323*0\n",
        "avg = avg / 9250\n",
        "avg"
      ],
      "metadata": {
        "colab": {
          "base_uri": "https://localhost:8080/"
        },
        "id": "ee1bZJtNYTfp",
        "outputId": "d3225765-8f4a-487d-a5cc-cdab4154d256"
      },
      "execution_count": 114,
      "outputs": [
        {
          "output_type": "execute_result",
          "data": {
            "text/plain": [
              "0.36"
            ]
          },
          "metadata": {},
          "execution_count": 114
        }
      ]
    },
    {
      "cell_type": "code",
      "source": [
        "compare_neigbours(correct_neighbours, 0, 0.05)"
      ],
      "metadata": {
        "id": "R8FSDrFEg3M8",
        "colab": {
          "base_uri": "https://localhost:8080/",
          "height": 295
        },
        "outputId": "7339a586-5d36-45f8-aa91-35efc9d3d01e"
      },
      "execution_count": 53,
      "outputs": [
        {
          "output_type": "display_data",
          "data": {
            "text/plain": [
              "<Figure size 432x288 with 1 Axes>"
            ],
            "image/png": "[encoded data removed]"
          },
          "metadata": {
            "needs_background": "light"
          }
        }
      ]
    },
    {
      "cell_type": "markdown",
      "source": [
        "Calibration set"
      ],
      "metadata": {
        "id": "X3aDIbZFVkNI"
      }
    },
    {
      "cell_type": "code",
      "source": [
        "activations_calib = reshaped_layer(model, x_cal)\n",
        "neigbours_calib = {}\n",
        "for layer in range (0,4):\n",
        "  neigbours_calib[layer] = find_neighbours(activations_calib, index_act[layer], layer, 0.1)[0]"
      ],
      "metadata": {
        "id": "r0c49p1zRh4Y"
      },
      "execution_count": 116,
      "outputs": []
    },
    {
      "cell_type": "code",
      "source": [
        "def nonconformity_count(neihgbours_arr):\n",
        "  nonconformity = []\n",
        "  for i in range(0, neihgbours_arr.shape[0]):\n",
        "    incorrect = 0\n",
        "    for j in neihgbours_arr[i]:\n",
        "      if (np.argmax(y_train[j]) != (np.argmax(y_cal[i]))):\n",
        "        incorrect += 1\n",
        "    nonconformity.append(incorrect)\n",
        "  return np.array(nonconformity)\n",
        "\n",
        "nonconformity = np.zeros(neigbours_calib[0].shape[0])\n",
        "for layer in range (0,4):\n",
        "  nonconformity += nonconformity_count(neigbours_calib[layer])"
      ],
      "metadata": {
        "id": "parOfY6ZLmsN"
      },
      "execution_count": 134,
      "outputs": []
    }
  ]
}