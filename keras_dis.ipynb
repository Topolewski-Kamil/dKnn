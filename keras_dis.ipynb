{
  "nbformat": 4,
  "nbformat_minor": 0,
  "metadata": {
    "colab": {
      "name": "keras_dis.ipynb",
      "provenance": [],
      "include_colab_link": true
    },
    "kernelspec": {
      "name": "python3",
      "display_name": "Python 3"
    },
    "language_info": {
      "name": "python"
    },
    "accelerator": "GPU"
  },
  "cells": [
    {
      "cell_type": "markdown",
      "metadata": {
        "id": "view-in-github",
        "colab_type": "text"
      },
      "source": [
        "<a href=\"https://colab.research.google.com/github/Topolewski-Kamil/dKnn/blob/main/keras_dis.ipynb\" target=\"_parent\"><img src=\"https://colab.research.google.com/assets/colab-badge.svg\" alt=\"Open In Colab\"/></a>"
      ]
    },
    {
      "cell_type": "markdown",
      "source": [
        "Import modules"
      ],
      "metadata": {
        "id": "PJn05KsnfDLI"
      }
    },
    {
      "cell_type": "code",
      "execution_count": 9,
      "metadata": {
        "id": "SnZbGpex18E5",
        "colab": {
          "base_uri": "https://localhost:8080/"
        },
        "outputId": "1f578f00-be6d-4f80-fb13-ded55447b9e7"
      },
      "outputs": [
        {
          "output_type": "stream",
          "name": "stdout",
          "text": [
            "mkdir: cannot create directory ‘adv_datasets’: File exists\n"
          ]
        }
      ],
      "source": [
        "%tensorflow_version 2.x\n",
        "# !pip install pynndescent\n",
        "\n",
        "import tensorflow as tf\n",
        "import numpy as np\n",
        "from tensorflow import keras\n",
        "from tensorflow.keras import layers\n",
        "from keras import backend as K\n",
        "import matplotlib\n",
        "import matplotlib.pyplot as plt\n",
        "from keras.models import load_model\n",
        "import string\n",
        "\n",
        "import pynndescent\n",
        "import numpy as np\n",
        "import h5py\n",
        "from urllib.request import urlretrieve\n",
        "import os\n",
        "import seaborn as sns\n",
        "\n",
        "!mkdir adv_datasets"
      ]
    },
    {
      "cell_type": "markdown",
      "source": [
        "Import Mnist dataset"
      ],
      "metadata": {
        "id": "XvbVxy5tfCwQ"
      }
    },
    {
      "cell_type": "code",
      "source": [
        "# Model / data parameters\n",
        "num_classes = 10\n",
        "input_shape = (28, 28, 1)\n",
        "\n",
        "# the data, split between train and test sets\n",
        "(x_train, y_train), (x_test, y_test) = keras.datasets.mnist.load_data()\n",
        "# Scale images to the [0, 1] range\n",
        "x_train = x_train.astype(\"float32\") / 255\n",
        "x_test = x_test.astype(\"float32\") / 255\n",
        "# Make sure images have shape (28, 28, 1)\n",
        "x_train = np.expand_dims(x_train, -1)\n",
        "x_test = np.expand_dims(x_test, -1)\n",
        "\n",
        "# convert class vectors to binary class matrices\n",
        "y_train = keras.utils.to_categorical(y_train, num_classes)\n",
        "y_test = keras.utils.to_categorical(y_test, num_classes)"
      ],
      "metadata": {
        "id": "hXAsY2jo1_y7"
      },
      "execution_count": 10,
      "outputs": []
    },
    {
      "cell_type": "markdown",
      "source": [
        "Initialize CNN model"
      ],
      "metadata": {
        "id": "jNU51mw7fU3A"
      }
    },
    {
      "cell_type": "code",
      "source": [
        "model = keras.Sequential(\n",
        "    [\n",
        "        keras.Input(shape=input_shape),\n",
        "        layers.Conv2D(64, kernel_size=(8, 8), strides=(2,2), padding=\"same\", activation=\"relu\", input_shape=x_train.shape[1:]),\n",
        "        layers.Conv2D(128, kernel_size=(6, 6), strides=(2,2), padding=\"valid\", activation=\"relu\"),\n",
        "        layers.Conv2D(128, kernel_size=(5, 5), strides=(1,1), padding=\"valid\", activation=\"relu\"),\n",
        "        layers.Flatten(),\n",
        "        layers.Dropout(0.5),\n",
        "        layers.Dense(128, activation=None),\n",
        "        layers.Dense(10, activation=tf.nn.softmax),\n",
        "    ]\n",
        ")\n",
        "\n",
        "batch_size = 500\n",
        "epochs = 8\n",
        "\n",
        "opt = keras.optimizers.Adam(learning_rate=0.001)\n",
        "model.compile(loss=\"categorical_crossentropy\", optimizer=opt, metrics=[\"accuracy\"])"
      ],
      "metadata": {
        "id": "9_iCpdEz2HSB"
      },
      "execution_count": 11,
      "outputs": []
    },
    {
      "cell_type": "markdown",
      "source": [
        "Train model\n"
      ],
      "metadata": {
        "id": "HEN5GHtXts6c"
      }
    },
    {
      "cell_type": "code",
      "source": [
        "try:\n",
        "  keras.backend.set_learning_phase(False)\n",
        "  model = load_model('deepKNN_model.h5')\n",
        "  print(\"loaded model successfully\")\n",
        "except: \n",
        "  model.fit(x_train, y_train, batch_size=batch_size, epochs=epochs, validation_split=0.1) #0.1\n",
        "  model.save('deepKNN_model.h5')  # creates a HDF5 file\n",
        "  print(\"saved model successfully\")"
      ],
      "metadata": {
        "colab": {
          "base_uri": "https://localhost:8080/"
        },
        "id": "40vD00Gi--3N",
        "outputId": "19290944-3055-41eb-b6c0-5fe63eafb465"
      },
      "execution_count": 12,
      "outputs": [
        {
          "output_type": "stream",
          "name": "stdout",
          "text": [
            "loaded model successfully\n"
          ]
        },
        {
          "output_type": "stream",
          "name": "stderr",
          "text": [
            "/usr/local/lib/python3.7/dist-packages/keras/backend.py:450: UserWarning: `tf.keras.backend.set_learning_phase` is deprecated and will be removed after 2020-10-11. To update it, simply pass a True/False value to the `training` argument of the `__call__` method of your layer or model.\n",
            "  warnings.warn('`tf.keras.backend.set_learning_phase` is deprecated and '\n"
          ]
        }
      ]
    },
    {
      "cell_type": "markdown",
      "source": [
        "Evaluate model"
      ],
      "metadata": {
        "id": "hpLgAqfwuBOH"
      }
    },
    {
      "cell_type": "code",
      "source": [
        "score = model.evaluate(x_test, y_test, verbose=0)\n",
        "print(\"Test loss:\", score[0])\n",
        "print(\"Test accuracy:\", score[1])"
      ],
      "metadata": {
        "colab": {
          "base_uri": "https://localhost:8080/"
        },
        "id": "0k9rrKu2_6dT",
        "outputId": "dcb4fc1f-18d1-4f30-cc70-10afb7cfcf23"
      },
      "execution_count": 13,
      "outputs": [
        {
          "output_type": "stream",
          "name": "stdout",
          "text": [
            "Test loss: 0.03186888247728348\n",
            "Test accuracy: 0.9901000261306763\n"
          ]
        }
      ]
    },
    {
      "cell_type": "markdown",
      "source": [
        "Plot image"
      ],
      "metadata": {
        "id": "qzmF9TLSuNPe"
      }
    },
    {
      "cell_type": "code",
      "source": [
        "def plot_image(img):\n",
        "  plt.imshow(img.reshape((28, 28)), cmap='gray', interpolation='none')\n",
        "  cbar = plt.colorbar()\n",
        "  cbar.set_label('Pixel Intensity')\n",
        "  plt.show()"
      ],
      "metadata": {
        "id": "6r73aUUQfBvC"
      },
      "execution_count": 14,
      "outputs": []
    },
    {
      "cell_type": "markdown",
      "source": [
        "Generate Adversarial Examples"
      ],
      "metadata": {
        "id": "5peKiYbPuO9S"
      }
    },
    {
      "cell_type": "code",
      "source": [
        "# import the necessary packages\n",
        "from tensorflow.keras.losses import MSE\n",
        "import tensorflow as tf\n",
        "def generate_image_adversary(model, image, label, eps):\n",
        "  # cast the image\n",
        "  image = tf.cast(image.reshape(1, 28, 28, 1), tf.float32)\n",
        "  # record our gradients\n",
        "  with tf.GradientTape() as tape:\n",
        "    # explicitly indicate that our image should be tacked for\n",
        "    # gradient updates\n",
        "    tape.watch(image)\n",
        "    # use our model to make predictions on the input image and\n",
        "    # then compute the loss\n",
        "    pred = model(image)\n",
        "    loss = MSE(label, pred)\n",
        "\n",
        "    # calculate the gradients of loss with respect to the image, then\n",
        "    # compute the sign of the gradient\n",
        "    gradient = tape.gradient(loss, image)\n",
        "    signedGrad = tf.sign(gradient)\n",
        "    # construct the image adversary\n",
        "    adversary = (image + (signedGrad * eps)).numpy()\n",
        "    # return the image adversary to the calling function\n",
        "    return adversary.reshape(28, 28, 1)"
      ],
      "metadata": {
        "id": "Xwul9XrXGnlu"
      },
      "execution_count": 15,
      "outputs": []
    },
    {
      "cell_type": "code",
      "source": [
        "epsilons = [0.05, 0.1, 0.15, 0.2, 0.25]\n",
        "adversaries = {}\n",
        "\n",
        "def load_adversaries(adversaries):  \n",
        "  for eps in epsilons:\n",
        "    eps_str = str(eps)\n",
        "    eps_str = eps_str.translate(str.maketrans('', '', string.punctuation))\n",
        "    path = 'adv_datasets/adversaries' + eps_str + '.npy'\n",
        "    adversaries[eps] = np.load(path)\n",
        "\n",
        "def save_adversaries():\n",
        "  for eps in epsilons:\n",
        "    eps_str = str(eps)\n",
        "    eps_str = eps_str.translate(str.maketrans('', '', string.punctuation))\n",
        "    filename = 'adv_datasets/adversaries' + eps_str + '.npy'\n",
        "    np.save(filename, adversaries[eps])\n",
        "\n",
        "try:\n",
        "  epsilons.insert(0, 0.0)\n",
        "  load_adversaries(adversaries)\n",
        "  print('loaded adversaries dataset successfully')\n",
        "except:\n",
        "  for eps in epsilons:\n",
        "    adv = []\n",
        "    for i in range(x_test.shape[0]):\n",
        "      adv.append(generate_image_adversary(model, x_test[i], y_test[i], eps))\n",
        "    adversaries[eps] = np.array(adv)\n",
        "  epsilons.insert(0, 0.0)\n",
        "  adversaries[0.0] = x_test\n",
        "  save_adversaries()\n",
        "  print('saved adversaries dataset successfully')"
      ],
      "metadata": {
        "colab": {
          "base_uri": "https://localhost:8080/"
        },
        "id": "dZDacbiljIqC",
        "outputId": "75c02e27-2ce9-4c8b-f7e0-07283ecaca13"
      },
      "execution_count": 16,
      "outputs": [
        {
          "output_type": "stream",
          "name": "stdout",
          "text": [
            "loaded adversaries dataset successfully\n"
          ]
        }
      ]
    },
    {
      "cell_type": "markdown",
      "source": [
        "Test model on adversarial attacks"
      ],
      "metadata": {
        "id": "ag3lTS_6uXlK"
      }
    },
    {
      "cell_type": "code",
      "source": [
        "accuracies_plot = []\n",
        "for eps in epsilons:\n",
        "  adversary_score = model.evaluate(adversaries[eps], y_test, verbose=0)\n",
        "  accuracies_plot.append(adversary_score[1] * 100)\n",
        "  \n",
        "plt.figure(figsize=(5,5))\n",
        "plt.plot(epsilons, accuracies_plot, linestyle='--', marker='o', color='b')\n",
        "plt.yticks(np.arange(0, 101, step=10))\n",
        "plt.xticks(np.arange(0, .26, step=0.05))\n",
        "plt.xlabel(\"Epsilon\")\n",
        "plt.ylabel(\"Accuracy\")\n",
        "plt.title(\"Accuracy vs Epsilon\")\n",
        "plt.show()"
      ],
      "metadata": {
        "colab": {
          "base_uri": "https://localhost:8080/",
          "height": 350
        },
        "id": "N8h0dWvU46HD",
        "outputId": "ff2606b0-3280-42c9-a40f-c5844d25964d"
      },
      "execution_count": 17,
      "outputs": [
        {
          "output_type": "display_data",
          "data": {
            "text/plain": [
              "<Figure size 360x360 with 1 Axes>"
            ],
            "image/png": "[encoded data removed]"
          },
          "metadata": {
            "needs_background": "light"
          }
        }
      ]
    },
    {
      "cell_type": "markdown",
      "source": [
        "Plot some adversarial examples"
      ],
      "metadata": {
        "id": "mpwkx6_vubcU"
      }
    },
    {
      "cell_type": "code",
      "source": [
        "cnt = 0\n",
        "plt.figure(figsize=(10,15))\n",
        "for eps in epsilons:\n",
        "  adv_img = adversaries[eps][5:10]\n",
        "  true_label = y_test[5:10]\n",
        "\n",
        "  adv_results = model.predict(adversaries[eps][5:10])\n",
        "  predicted_labels = []\n",
        "  for result in adv_results:\n",
        "    predicted_labels.append(np.argmax(result))\n",
        "\n",
        "  for i in range(5):\n",
        "      cnt += 1\n",
        "      plt.subplot(len(epsilons), 5, cnt)\n",
        "      plt.xticks([], [])\n",
        "      plt.yticks([], [])\n",
        "      if i == 0:\n",
        "        plt.ylabel(\"Eps: {}\".format(eps), fontsize=14)\n",
        "      plt.title(\"Pred. label: {}\".format(predicted_labels[i]))\n",
        "      plt.imshow(np.squeeze(adv_img[i]), cmap=\"gray\")\n",
        "# plt.tight_layout()\n",
        "plt.show()"
      ],
      "metadata": {
        "colab": {
          "base_uri": "https://localhost:8080/",
          "height": 846
        },
        "id": "xWlEh8ax2Wif",
        "outputId": "ded8b40e-4a74-4342-d0f2-1ac17e63300b"
      },
      "execution_count": 18,
      "outputs": [
        {
          "output_type": "display_data",
          "data": {
            "text/plain": [
              "<Figure size 720x1080 with 30 Axes>"
            ],
            "image/png": "[encoded data removed]"
          },
          "metadata": {}
        }
      ]
    },
    {
      "cell_type": "markdown",
      "source": [
        "KNN for patterns"
      ],
      "metadata": {
        "id": "qOXIfd2XHS_O"
      }
    },
    {
      "cell_type": "code",
      "source": [
        "# reformat training data\n",
        "x_train_knn = np.squeeze(x_train, -1)\n",
        "x_train_knn = x_train_knn.reshape((60000, 784))\n",
        "\n",
        "# index training data\n",
        "index = pynndescent.NNDescent(x_train_knn)\n",
        "\n",
        "# prepare for faster query\n",
        "index.prepare()\n",
        "\n",
        "# reformat test data\n",
        "x_test_knn = np.squeeze(x_test, -1)\n",
        "x_test_knn = x_test_knn.reshape((10000, 784))\n",
        "\n",
        "# find neighbors for test data\n",
        "neighbors = index.query(x_test_knn)"
      ],
      "metadata": {
        "id": "TFRTqTjk82CO"
      },
      "execution_count": 19,
      "outputs": []
    },
    {
      "cell_type": "code",
      "source": [
        "### create gold standard from KDTree ###\n",
        "# from sklearn.neighbors import KDTree\n",
        "# tree_index = KDTree(x_train)\n",
        "\n",
        "# %%time\n",
        "# tree_neighbors = tree_index.query(x_test, k=10)"
      ],
      "metadata": {
        "id": "O6jy8i1R9xRg"
      },
      "execution_count": 20,
      "outputs": []
    },
    {
      "cell_type": "code",
      "source": [
        "def accuracy_per_query_point(approx_neighbors, true_neighbors):\n",
        "    approx_indices = approx_neighbors[0]\n",
        "    result = np.zeros(approx_indices.shape[0])\n",
        "    for i in range(approx_indices.shape[0]):\n",
        "        n_correct = np.intersect1d(approx_indices[i], true_neighbors[i]).shape[0]\n",
        "        result[i] = n_correct / true_neighbors.shape[1]\n",
        "    return result"
      ],
      "metadata": {
        "id": "37tY9-h39-5T"
      },
      "execution_count": 21,
      "outputs": []
    },
    {
      "cell_type": "code",
      "source": [
        "tree_N = np.load('test_true_neighbors.npy')\n",
        "\n",
        "accuracy_stats = accuracy_per_query_point(neighbors, tree_N)\n",
        "sns.set(rc={\"figure.figsize\":(10,6)})\n",
        "\n",
        "sns.distplot(accuracy_stats, kde=False)\n",
        "plt.title(\"Distribution of accuracy per query point\")\n",
        "plt.xlabel(\"Accuracy\")\n",
        "print(f\"Average accuracy of {np.mean(accuracy_stats)}\")"
      ],
      "metadata": {
        "colab": {
          "base_uri": "https://localhost:8080/",
          "height": 482
        },
        "id": "pSAgs8fxEsA0",
        "outputId": "c17235fb-aada-41bd-8a29-7fc04e426111"
      },
      "execution_count": 22,
      "outputs": [
        {
          "output_type": "stream",
          "name": "stderr",
          "text": [
            "/usr/local/lib/python3.7/dist-packages/seaborn/distributions.py:2619: FutureWarning: `distplot` is a deprecated function and will be removed in a future version. Please adapt your code to use either `displot` (a figure-level function with similar flexibility) or `histplot` (an axes-level function for histograms).\n",
            "  warnings.warn(msg, FutureWarning)\n"
          ]
        },
        {
          "output_type": "stream",
          "name": "stdout",
          "text": [
            "Average accuracy of 0.9678400000000001\n"
          ]
        },
        {
          "output_type": "display_data",
          "data": {
            "text/plain": [
              "<Figure size 720x432 with 1 Axes>"
            ],
            "image/png": "[encoded data removed]"
          },
          "metadata": {}
        }
      ]
    },
    {
      "cell_type": "markdown",
      "source": [
        "KNN for first CNN layer"
      ],
      "metadata": {
        "id": "B8Q8QQKfuiK-"
      }
    },
    {
      "cell_type": "markdown",
      "source": [
        "Get activations on each layer"
      ],
      "metadata": {
        "id": "ypCORPPYuCnD"
      }
    },
    {
      "cell_type": "code",
      "source": [
        "def reshaped_layer(model, x):\n",
        "    #function to get the layer wise output representation of the model for data x\n",
        "    layer_output = []\n",
        "\n",
        "    for i in [0,1,2,5]:\n",
        "        layer = model.layers[i]\n",
        "        l_op = K.function([model.layers[0].input], [layer.output])([x])[0]\n",
        "        layer_output.append(l_op)\n",
        "\n",
        "    reshaped_output_layer = []\n",
        "    \n",
        "    for output in layer_output[0:3]:\n",
        "        reshaped_output_layer.append(output.reshape(output.shape[0], output.shape[1]*output.shape[2]*output.shape[3]))\n",
        "        \n",
        "    reshaped_output_layer.append(layer_output[3])\n",
        "    \n",
        "    for layer in reshaped_output_layer:\n",
        "        assert layer.dtype == np.float32\n",
        "        layer /= np.linalg.norm(layer, axis=1).reshape(-1, 1)\n",
        "    return(reshaped_output_layer)\n",
        "\n",
        "activations = reshaped_layer(model, x_test)"
      ],
      "metadata": {
        "id": "bsYotmhJWx8O"
      },
      "execution_count": 23,
      "outputs": []
    },
    {
      "cell_type": "code",
      "source": [
        "# first_act = activations[0]\n",
        "# print(activations[0].shape)\n",
        "# # index training data\n",
        "# index_act_1 = pynndescent.NNDescent(first_act)\n",
        "\n",
        "# # prepare for faster query\n",
        "# index_act_1.prepare()"
      ],
      "metadata": {
        "id": "9TXtYx9avPz6"
      },
      "execution_count": 24,
      "outputs": []
    },
    {
      "cell_type": "code",
      "source": [
        "# # reformat test data\n",
        "# x_test_knn = np.squeeze(x_test, -1)\n",
        "# x_test_knn = x_test_knn.reshape((10000, 784))"
      ],
      "metadata": {
        "id": "wfDdPy7ov2mY"
      },
      "execution_count": 25,
      "outputs": []
    },
    {
      "cell_type": "code",
      "source": [
        "# # find neighbors for test data\n",
        "# neighbors = index.query(x_test_knn)"
      ],
      "metadata": {
        "id": "ylkN-lQEv3Sk"
      },
      "execution_count": 26,
      "outputs": []
    }
  ]
}