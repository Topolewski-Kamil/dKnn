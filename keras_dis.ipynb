{
  "nbformat": 4,
  "nbformat_minor": 0,
  "metadata": {
    "colab": {
      "name": "keras_dis.ipynb",
      "provenance": [],
      "collapsed_sections": [],
      "machine_shape": "hm",
      "include_colab_link": true
    },
    "kernelspec": {
      "name": "python3",
      "display_name": "Python 3"
    },
    "language_info": {
      "name": "python"
    }
  },
  "cells": [
    {
      "cell_type": "markdown",
      "metadata": {
        "id": "view-in-github",
        "colab_type": "text"
      },
      "source": [
        "<a href=\"https://colab.research.google.com/github/Topolewski-Kamil/dKnn/blob/main/keras_dis.ipynb\" target=\"_parent\"><img src=\"https://colab.research.google.com/assets/colab-badge.svg\" alt=\"Open In Colab\"/></a>"
      ]
    },
    {
      "cell_type": "code",
      "source": [
        "from google.colab import drive\n",
        "drive.mount('/content/drive')\n",
        "%cd /content/drive/My Drive/disseration/"
      ],
      "metadata": {
        "colab": {
          "base_uri": "https://localhost:8080/"
        },
        "id": "PLe7HBrK7CbQ",
        "outputId": "dfc077ff-d484-429c-fe6a-e62da9c4ae5c"
      },
      "execution_count": null,
      "outputs": [
        {
          "output_type": "stream",
          "name": "stdout",
          "text": [
            "Drive already mounted at /content/drive; to attempt to forcibly remount, call drive.mount(\"/content/drive\", force_remount=True).\n",
            "/content/drive/My Drive/disseration\n"
          ]
        }
      ]
    },
    {
      "cell_type": "markdown",
      "source": [
        "Import modules"
      ],
      "metadata": {
        "id": "PJn05KsnfDLI"
      }
    },
    {
      "cell_type": "code",
      "execution_count": null,
      "metadata": {
        "id": "SnZbGpex18E5",
        "colab": {
          "base_uri": "https://localhost:8080/"
        },
        "outputId": "b3632ffa-c10d-4485-f035-d1e4bff8354c"
      },
      "outputs": [
        {
          "output_type": "stream",
          "name": "stdout",
          "text": [
            "Requirement already satisfied: pynndescent in /usr/local/lib/python3.7/dist-packages (0.5.6)\n",
            "Requirement already satisfied: scipy>=1.0 in /usr/local/lib/python3.7/dist-packages (from pynndescent) (1.4.1)\n",
            "Requirement already satisfied: scikit-learn>=0.18 in /usr/local/lib/python3.7/dist-packages (from pynndescent) (1.0.2)\n",
            "Requirement already satisfied: numba>=0.51.2 in /usr/local/lib/python3.7/dist-packages (from pynndescent) (0.51.2)\n",
            "Requirement already satisfied: joblib>=0.11 in /usr/local/lib/python3.7/dist-packages (from pynndescent) (1.1.0)\n",
            "Requirement already satisfied: llvmlite>=0.30 in /usr/local/lib/python3.7/dist-packages (from pynndescent) (0.34.0)\n",
            "Requirement already satisfied: numpy>=1.15 in /usr/local/lib/python3.7/dist-packages (from numba>=0.51.2->pynndescent) (1.21.5)\n",
            "Requirement already satisfied: setuptools in /usr/local/lib/python3.7/dist-packages (from numba>=0.51.2->pynndescent) (57.4.0)\n",
            "Requirement already satisfied: threadpoolctl>=2.0.0 in /usr/local/lib/python3.7/dist-packages (from scikit-learn>=0.18->pynndescent) (3.1.0)\n"
          ]
        }
      ],
      "source": [
        "%tensorflow_version 2.x\n",
        "!pip install pynndescent\n",
        "\n",
        "import tensorflow as tf\n",
        "import numpy as np\n",
        "from tensorflow import keras\n",
        "from tensorflow.keras import layers\n",
        "from keras import backend as K\n",
        "import matplotlib\n",
        "import matplotlib.pyplot as plt\n",
        "from keras.models import load_model\n",
        "import string\n",
        "\n",
        "import pynndescent\n",
        "import numpy as np\n",
        "import h5py\n",
        "from urllib.request import urlretrieve\n",
        "import os\n",
        "import seaborn as sns"
      ]
    },
    {
      "cell_type": "markdown",
      "source": [
        "Import Mnist dataset"
      ],
      "metadata": {
        "id": "XvbVxy5tfCwQ"
      }
    },
    {
      "cell_type": "code",
      "source": [
        "# Model / data parameters\n",
        "num_classes = 10\n",
        "input_shape = (28, 28, 1)\n",
        "\n",
        "# the data, split between train and test sets\n",
        "(x_train, y_train), (x_test, y_test) = keras.datasets.mnist.load_data()\n",
        "# Scale images to the [0, 1] range\n",
        "x_train = x_train.astype(\"float32\") / 255\n",
        "x_test = x_test.astype(\"float32\") / 255\n",
        "# Make sure images have shape (28, 28, 1)\n",
        "x_train = np.expand_dims(x_train, -1)\n",
        "x_test = np.expand_dims(x_test, -1)\n",
        "\n",
        "# convert class vectors to binary class matrices\n",
        "y_train = keras.utils.to_categorical(y_train, num_classes)\n",
        "y_test = keras.utils.to_categorical(y_test, num_classes)"
      ],
      "metadata": {
        "id": "hXAsY2jo1_y7"
      },
      "execution_count": null,
      "outputs": []
    },
    {
      "cell_type": "markdown",
      "source": [
        "Initialize CNN model"
      ],
      "metadata": {
        "id": "jNU51mw7fU3A"
      }
    },
    {
      "cell_type": "code",
      "source": [
        "model = keras.Sequential(\n",
        "    [\n",
        "        keras.Input(shape=input_shape),\n",
        "        layers.Conv2D(64, kernel_size=(8, 8), strides=(2,2), padding=\"same\", activation=\"relu\", input_shape=x_train.shape[1:]),\n",
        "        layers.Conv2D(128, kernel_size=(6, 6), strides=(2,2), padding=\"valid\", activation=\"relu\"),\n",
        "        layers.Conv2D(128, kernel_size=(5, 5), strides=(1,1), padding=\"valid\", activation=\"relu\"),\n",
        "        layers.Flatten(),\n",
        "        layers.Dropout(0.5),\n",
        "        layers.Dense(128, activation=None),\n",
        "        layers.Dense(10, activation=tf.nn.softmax),\n",
        "    ]\n",
        ")\n",
        "\n",
        "batch_size = 500\n",
        "epochs = 8\n",
        "\n",
        "opt = keras.optimizers.Adam(learning_rate=0.001)\n",
        "model.compile(loss=\"categorical_crossentropy\", optimizer=opt, metrics=[\"accuracy\"])"
      ],
      "metadata": {
        "id": "9_iCpdEz2HSB"
      },
      "execution_count": null,
      "outputs": []
    },
    {
      "cell_type": "markdown",
      "source": [
        "Train model\n"
      ],
      "metadata": {
        "id": "HEN5GHtXts6c"
      }
    },
    {
      "cell_type": "code",
      "source": [
        "try:\n",
        "  keras.backend.set_learning_phase(False)\n",
        "  model = load_model('deepKNN_model.h5')\n",
        "  print(\"loaded model successfully\")\n",
        "except: \n",
        "  model.fit(x_train, y_train, batch_size=batch_size, epochs=epochs, validation_split=0.1) #0.1\n",
        "  model.save('deepKNN_model.h5')  # creates a HDF5 file\n",
        "  print(\"saved model successfully\")"
      ],
      "metadata": {
        "colab": {
          "base_uri": "https://localhost:8080/"
        },
        "id": "40vD00Gi--3N",
        "outputId": "0e0eafed-97c7-4191-b122-389b79a2f91e"
      },
      "execution_count": null,
      "outputs": [
        {
          "output_type": "stream",
          "name": "stderr",
          "text": [
            "/usr/local/lib/python3.7/dist-packages/keras/backend.py:450: UserWarning: `tf.keras.backend.set_learning_phase` is deprecated and will be removed after 2020-10-11. To update it, simply pass a True/False value to the `training` argument of the `__call__` method of your layer or model.\n",
            "  warnings.warn('`tf.keras.backend.set_learning_phase` is deprecated and '\n"
          ]
        },
        {
          "output_type": "stream",
          "name": "stdout",
          "text": [
            "loaded model successfully\n"
          ]
        }
      ]
    },
    {
      "cell_type": "markdown",
      "source": [
        "Evaluate model"
      ],
      "metadata": {
        "id": "hpLgAqfwuBOH"
      }
    },
    {
      "cell_type": "code",
      "source": [
        "score = model.evaluate(x_test, y_test, verbose=0)\n",
        "print(\"Test loss:\", score[0])\n",
        "print(\"Test accuracy:\", score[1])"
      ],
      "metadata": {
        "colab": {
          "base_uri": "https://localhost:8080/"
        },
        "id": "0k9rrKu2_6dT",
        "outputId": "cd4e3845-db60-47eb-c5b2-0b21d1519459"
      },
      "execution_count": null,
      "outputs": [
        {
          "output_type": "stream",
          "name": "stdout",
          "text": [
            "Test loss: 0.02789144031703472\n",
            "Test accuracy: 0.9911999702453613\n"
          ]
        }
      ]
    },
    {
      "cell_type": "markdown",
      "source": [
        "Plot image"
      ],
      "metadata": {
        "id": "qzmF9TLSuNPe"
      }
    },
    {
      "cell_type": "code",
      "source": [
        "def plot_image(img):\n",
        "  plt.imshow(img.reshape((28, 28)), cmap='gray', interpolation='none')\n",
        "  cbar = plt.colorbar()\n",
        "  cbar.set_label('Pixel Intensity')\n",
        "  plt.show()"
      ],
      "metadata": {
        "id": "6r73aUUQfBvC"
      },
      "execution_count": null,
      "outputs": []
    },
    {
      "cell_type": "markdown",
      "source": [
        "Generate Adversarial Examples"
      ],
      "metadata": {
        "id": "5peKiYbPuO9S"
      }
    },
    {
      "cell_type": "code",
      "source": [
        "# import the necessary packages\n",
        "from tensorflow.keras.losses import MSE\n",
        "import tensorflow as tf\n",
        "def generate_image_adversary(model, image, label, eps):\n",
        "  # cast the image\n",
        "  image = tf.cast(image.reshape(1, 28, 28, 1), tf.float32)\n",
        "  # record our gradients\n",
        "  with tf.GradientTape() as tape:\n",
        "    # explicitly indicate that our image should be tacked for\n",
        "    # gradient updates\n",
        "    tape.watch(image)\n",
        "    # use our model to make predictions on the input image and\n",
        "    # then compute the loss\n",
        "    pred = model(image)\n",
        "    loss = MSE(label, pred)\n",
        "\n",
        "    # calculate the gradients of loss with respect to the image, then\n",
        "    # compute the sign of the gradient\n",
        "    gradient = tape.gradient(loss, image)\n",
        "    signedGrad = tf.sign(gradient)\n",
        "    # construct the image adversary\n",
        "    adversary = (image + (signedGrad * eps)).numpy()\n",
        "    # return the image adversary to the calling function\n",
        "    return adversary.reshape(28, 28, 1)"
      ],
      "metadata": {
        "id": "Xwul9XrXGnlu"
      },
      "execution_count": null,
      "outputs": []
    },
    {
      "cell_type": "code",
      "source": [
        "epsilons = [0.05, 0.1, 0.15, 0.2, 0.25]\n",
        "adversaries = {}\n",
        "\n",
        "def load_adversaries(adversaries):  \n",
        "  for eps in epsilons:\n",
        "    eps_str = str(eps)\n",
        "    eps_str = eps_str.translate(str.maketrans('', '', string.punctuation))\n",
        "    path = 'adv_datasets/adversaries' + eps_str + '.npy'\n",
        "    adversaries[eps] = np.load(path)\n",
        "\n",
        "def save_adversaries():\n",
        "  for eps in epsilons:\n",
        "    eps_str = str(eps)\n",
        "    eps_str = eps_str.translate(str.maketrans('', '', string.punctuation))\n",
        "    filename = 'adv_datasets/adversaries' + eps_str + '.npy'\n",
        "    np.save(filename, adversaries[eps])\n",
        "\n",
        "try:\n",
        "  epsilons.insert(0, 0.0)\n",
        "  load_adversaries(adversaries)\n",
        "  print('loaded adversaries dataset successfully')\n",
        "except:\n",
        "  for eps in epsilons:\n",
        "    adv = []\n",
        "    for i in range(x_test.shape[0]):\n",
        "      adv.append(generate_image_adversary(model, x_test[i], y_test[i], eps))\n",
        "    adversaries[eps] = np.array(adv)\n",
        "  epsilons.insert(0, 0.0)\n",
        "  adversaries[0.0] = x_test\n",
        "  save_adversaries()\n",
        "  print('saved adversaries dataset successfully')"
      ],
      "metadata": {
        "colab": {
          "base_uri": "https://localhost:8080/"
        },
        "id": "dZDacbiljIqC",
        "outputId": "c93521e0-90bd-418e-f60a-6792f9d3b2fc"
      },
      "execution_count": null,
      "outputs": [
        {
          "output_type": "stream",
          "name": "stdout",
          "text": [
            "loaded adversaries dataset successfully\n"
          ]
        }
      ]
    },
    {
      "cell_type": "markdown",
      "source": [
        "Test model on adversarial attacks"
      ],
      "metadata": {
        "id": "ag3lTS_6uXlK"
      }
    },
    {
      "cell_type": "code",
      "source": [
        "accuracies_plot = []\n",
        "for eps in epsilons:\n",
        "  adversary_score = model.evaluate(adversaries[eps], y_test, verbose=0)\n",
        "  accuracies_plot.append(adversary_score[1] * 100)\n",
        "  \n",
        "plt.figure(figsize=(5,5))\n",
        "plt.plot(epsilons, accuracies_plot, linestyle='--', marker='o', color='b')\n",
        "plt.yticks(np.arange(0, 101, step=10))\n",
        "plt.xticks(np.arange(0, .26, step=0.05))\n",
        "plt.xlabel(\"Epsilon\")\n",
        "plt.ylabel(\"Accuracy\")\n",
        "plt.title(\"Accuracy vs Epsilon\")\n",
        "plt.show()"
      ],
      "metadata": {
        "colab": {
          "base_uri": "https://localhost:8080/",
          "height": 350
        },
        "id": "N8h0dWvU46HD",
        "outputId": "1bac8413-daaf-4d6c-ea3b-dc3f2505686c"
      },
      "execution_count": null,
      "outputs": [
        {
          "output_type": "display_data",
          "data": {
            "text/plain": [
              "<Figure size 360x360 with 1 Axes>"
            ],
            "image/png": "[encoded data removed]"
          },
          "metadata": {
            "needs_background": "light"
          }
        }
      ]
    },
    {
      "cell_type": "markdown",
      "source": [
        "Plot some adversarial examples"
      ],
      "metadata": {
        "id": "mpwkx6_vubcU"
      }
    },
    {
      "cell_type": "code",
      "source": [
        "cnt = 0\n",
        "plt.figure(figsize=(10,15))\n",
        "for eps in epsilons:\n",
        "  adv_img = adversaries[eps][5:10]\n",
        "  true_label = y_test[5:10]\n",
        "\n",
        "  adv_results = model.predict(adversaries[eps][5:10])\n",
        "  predicted_labels = []\n",
        "  for result in adv_results:\n",
        "    predicted_labels.append(np.argmax(result))\n",
        "\n",
        "  for i in range(5):\n",
        "      cnt += 1\n",
        "      plt.subplot(len(epsilons), 5, cnt)\n",
        "      plt.xticks([], [])\n",
        "      plt.yticks([], [])\n",
        "      if i == 0:\n",
        "        plt.ylabel(\"Eps: {}\".format(eps), fontsize=14)\n",
        "      plt.title(\"Pred. label: {}\".format(predicted_labels[i]))\n",
        "      plt.imshow(np.squeeze(adv_img[i]), cmap=\"gray\")\n",
        "# plt.tight_layout()\n",
        "plt.show()"
      ],
      "metadata": {
        "colab": {
          "base_uri": "https://localhost:8080/",
          "height": 846
        },
        "id": "xWlEh8ax2Wif",
        "outputId": "6d210db0-d42e-4d45-8f19-3e610047dac3"
      },
      "execution_count": null,
      "outputs": [
        {
          "output_type": "display_data",
          "data": {
            "text/plain": [
              "<Figure size 720x1080 with 30 Axes>"
            ],
            "image/png": "[encoded data removed]"
          },
          "metadata": {}
        }
      ]
    },
    {
      "cell_type": "markdown",
      "source": [
        "KNN for patterns"
      ],
      "metadata": {
        "id": "qOXIfd2XHS_O"
      }
    },
    {
      "cell_type": "code",
      "source": [
        "# # reformat training data\n",
        "# x_train_knn = np.squeeze(x_train, -1)\n",
        "# x_train_knn = x_train_knn.reshape((60000, 784))\n",
        "\n",
        "# # index training data\n",
        "# index = pynndescent.NNDescent(x_train_knn)\n",
        "\n",
        "# # prepare for faster query\n",
        "# index.prepare()\n",
        "\n",
        "# # reformat test data\n",
        "# x_test_knn = np.squeeze(x_test, -1)\n",
        "# x_test_knn = x_test_knn.reshape((10000, 784))\n",
        "\n",
        "# # find neighbors for test data\n",
        "# neighbors = index.query(x_test_knn)\n",
        "\n",
        "# ## create gold standard from KDTree ###\n",
        "# from sklearn.neighbors import KDTree\n",
        "# tree_index = KDTree(x_train)\n",
        "\n",
        "# tree_neighbors = tree_index.query(x_test, k=10)\n",
        "\n",
        "# def accuracy_per_query_point(approx_neighbors, true_neighbors):\n",
        "#     approx_indices = approx_neighbors[0]\n",
        "#     result = np.zeros(approx_indices.shape[0])\n",
        "#     for i in range(approx_indices.shape[0]):\n",
        "#         n_correct = np.intersect1d(approx_indices[i], true_neighbors[i]).shape[0]\n",
        "#         result[i] = n_correct / true_neighbors.shape[1]\n",
        "#     return result\n",
        "\n",
        "# tree_N = np.load('test_true_neighbors.npy')\n",
        "\n",
        "# accuracy_stats = accuracy_per_query_point(neighbors, tree_N)\n",
        "# sns.set(rc={\"figure.figsize\":(10,6)})\n",
        "\n",
        "# sns.distplot(accuracy_stats, kde=False)\n",
        "# plt.title(\"Distribution of accuracy per query point\")\n",
        "# plt.xlabel(\"Accuracy\")\n",
        "# print(f\"Average accuracy of {np.mean(accuracy_stats)}\")"
      ],
      "metadata": {
        "id": "37tY9-h39-5T"
      },
      "execution_count": null,
      "outputs": []
    },
    {
      "cell_type": "markdown",
      "source": [
        "KNN for first CNN layer"
      ],
      "metadata": {
        "id": "B8Q8QQKfuiK-"
      }
    },
    {
      "cell_type": "markdown",
      "source": [
        "Get activations on each layer"
      ],
      "metadata": {
        "id": "ypCORPPYuCnD"
      }
    },
    {
      "cell_type": "code",
      "source": [
        "def reshaped_layer(model, x):\n",
        "    #function to get the layer wise output representation of the model for data x\n",
        "    layer_output = []\n",
        "\n",
        "    for i in [0,1,2,5]:\n",
        "        layer = model.layers[i]\n",
        "        l_op = K.function([model.layers[0].input], [layer.output])([x])[0]\n",
        "        layer_output.append(l_op)\n",
        "\n",
        "    reshaped_output_layer = []\n",
        "    \n",
        "    for output in layer_output[0:3]:\n",
        "        reshaped_output_layer.append(output.reshape(output.shape[0], output.shape[1]*output.shape[2]*output.shape[3]))\n",
        "        \n",
        "    reshaped_output_layer.append(layer_output[3])\n",
        "    \n",
        "    for layer in reshaped_output_layer:\n",
        "        assert layer.dtype == np.float32\n",
        "        layer /= np.linalg.norm(layer, axis=1).reshape(-1, 1)\n",
        "    return(reshaped_output_layer)"
      ],
      "metadata": {
        "id": "bsYotmhJWx8O"
      },
      "execution_count": null,
      "outputs": []
    },
    {
      "cell_type": "markdown",
      "source": [
        "Index trainingset knn"
      ],
      "metadata": {
        "id": "GZ6NnXKwRGEi"
      }
    },
    {
      "cell_type": "code",
      "source": [
        "%%time\n",
        "def index_layer(layer):\n",
        "  layer_act = activations_train[layer]\n",
        "  index_act = pynndescent.NNDescent(layer_act) # index training data\n",
        "  index_act.prepare()# prepare for faster query\n",
        "  return index_act\n",
        "\n",
        "activations_train = reshaped_layer(model, x_train)\n",
        "\n",
        "index_act = {}\n",
        "for layer in range (0,4):\n",
        "  index_act[layer] = index_layer(layer)"
      ],
      "metadata": {
        "colab": {
          "base_uri": "https://localhost:8080/"
        },
        "id": "9TXtYx9avPz6",
        "outputId": "99aaec1b-e94f-4842-e571-8ca3bade6513"
      },
      "execution_count": null,
      "outputs": [
        {
          "output_type": "stream",
          "name": "stderr",
          "text": [
            "/usr/local/lib/python3.7/dist-packages/numba/np/ufunc/parallel.py:363: NumbaWarning: The TBB threading layer requires TBB version 2019.5 or later i.e., TBB_INTERFACE_VERSION >= 11005. Found TBB_INTERFACE_VERSION = 9107. The TBB threading layer is disabled.\n",
            "  warnings.warn(problem)\n"
          ]
        },
        {
          "output_type": "stream",
          "name": "stdout",
          "text": [
            "CPU times: user 17min 5s, sys: 19.8 s, total: 17min 25s\n",
            "Wall time: 5min 12s\n"
          ]
        }
      ]
    },
    {
      "cell_type": "markdown",
      "source": [
        "Find Neigbours"
      ],
      "metadata": {
        "id": "-FCe9Kq0RLY9"
      }
    },
    {
      "cell_type": "code",
      "source": [
        "def find_neighbours(activations, index, layer, eps):\n",
        "  first_act = activations[layer]\n",
        "  neighbors = index.query(first_act, epsilon=eps)\n",
        "  return neighbors\n",
        "\n",
        "def correct_neighbours_count(neihgbours):\n",
        "  correct_neighbours = [0] * 11\n",
        "  for i in range(0, neihgbours[0].shape[0]):\n",
        "    correct = 0\n",
        "    for j in neihgbours[0][i]:\n",
        "      if (np.argmax(y_train[j]) == (np.argmax(y_test[i]))):\n",
        "        correct += 1\n",
        "    correct_neighbours[correct] += 1\n",
        "  return correct_neighbours\n",
        "\n",
        "def compare_neigbours(neighbours, layer, eps):\n",
        "  x_ax = np.arange(len(neighbours[layer][0.0]))\n",
        "  plt.bar(x_ax-0.2, neighbours[layer][0.0], 0.4, label = 'Epsilon: 0.0')\n",
        "  plt.bar(x_ax+0.2, neighbours[layer][eps], 0.4, label = 'Epsilon: ' + str(eps))\n",
        "\n",
        "  plt.xlabel(\"Neigbours\")\n",
        "  plt.ylabel(\"Number of correct neigbours\")\n",
        "  plt.title(\"Number of correct neigbours on layer number: \" + str(layer))\n",
        "  plt.legend()\n",
        "\n",
        "  plt.xticks(x_ax);\n",
        "  plt.show() "
      ],
      "metadata": {
        "id": "vN0zmLu51IYz"
      },
      "execution_count": 20,
      "outputs": []
    },
    {
      "cell_type": "code",
      "source": [
        "activations = {}\n",
        "for eps in epsilons:\n",
        "  activations[eps] = reshaped_layer(model, adversaries[eps])"
      ],
      "metadata": {
        "id": "4i4Cl-XHrpsL"
      },
      "execution_count": null,
      "outputs": []
    },
    {
      "cell_type": "code",
      "source": [
        "%%time\n",
        "neighbors = {}\n",
        "for layer in range (0,4):\n",
        "  neighbors[layer] = {}\n",
        "  for eps in epsilons:\n",
        "    neighbors[layer][eps] = find_neighbours(activations[eps], index_act[layer], layer, 0.1)"
      ],
      "metadata": {
        "id": "bIXj_A2LYaGG",
        "colab": {
          "base_uri": "https://localhost:8080/"
        },
        "outputId": "9b4b1e5b-5118-4059-f798-62510c748bc6"
      },
      "execution_count": 17,
      "outputs": [
        {
          "output_type": "stream",
          "name": "stdout",
          "text": [
            "CPU times: user 2min 45s, sys: 1.36 s, total: 2min 46s\n",
            "Wall time: 2min 44s\n"
          ]
        }
      ]
    },
    {
      "cell_type": "code",
      "source": [
        "correct_neighbours = {}\n",
        "for layer in range (0,4):\n",
        "  correct_neighbours[layer] = {}\n",
        "  for eps in epsilons:\n",
        "    correct_neighbours[layer][eps] = correct_neighbours_count(neighbors[layer][eps])"
      ],
      "metadata": {
        "id": "HP59_0wGDbLe"
      },
      "execution_count": 18,
      "outputs": []
    },
    {
      "cell_type": "code",
      "source": [
        "compare_neigbours(correct_neighbours, 3, 0.25)"
      ],
      "metadata": {
        "id": "R8FSDrFEg3M8",
        "colab": {
          "base_uri": "https://localhost:8080/",
          "height": 295
        },
        "outputId": "78d2607f-9daf-4e6b-bac0-dc4cb9a27ede"
      },
      "execution_count": 30,
      "outputs": [
        {
          "output_type": "display_data",
          "data": {
            "text/plain": [
              "<Figure size 432x288 with 1 Axes>"
            ],
            "image/png": "[encoded data removed]"
          },
          "metadata": {
            "needs_background": "light"
          }
        }
      ]
    }
  ]
}