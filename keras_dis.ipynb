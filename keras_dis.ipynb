{
  "cells": [
    {
      "cell_type": "markdown",
      "metadata": {
        "id": "view-in-github",
        "colab_type": "text"
      },
      "source": [
        "<a href=\"https://colab.research.google.com/github/Topolewski-Kamil/dKnn/blob/main/keras_dis.ipynb\" target=\"_parent\"><img src=\"https://colab.research.google.com/assets/colab-badge.svg\" alt=\"Open In Colab\"/></a>"
      ]
    },
    {
      "cell_type": "markdown",
      "metadata": {
        "id": "7bimNvVLP0XD"
      },
      "source": [
        "Mount drive"
      ]
    },
    {
      "cell_type": "code",
      "execution_count": 1,
      "metadata": {
        "colab": {
          "base_uri": "https://localhost:8080/"
        },
        "id": "PLe7HBrK7CbQ",
        "outputId": "44ce92c7-fac6-4eac-d0bb-03a62847430f"
      },
      "outputs": [
        {
          "output_type": "stream",
          "name": "stdout",
          "text": [
            "Drive already mounted at /content/drive; to attempt to forcibly remount, call drive.mount(\"/content/drive\", force_remount=True).\n",
            "/content/drive/My Drive/disseration\n"
          ]
        }
      ],
      "source": [
        "from google.colab import drive\n",
        "drive.mount('/content/drive')\n",
        "%cd /content/drive/My Drive/disseration/"
      ]
    },
    {
      "cell_type": "markdown",
      "metadata": {
        "id": "PJn05KsnfDLI"
      },
      "source": [
        "Import modules"
      ]
    },
    {
      "cell_type": "code",
      "execution_count": 2,
      "metadata": {
        "colab": {
          "base_uri": "https://localhost:8080/"
        },
        "id": "SnZbGpex18E5",
        "outputId": "a21b0e33-05fb-4cb1-8286-82fe62b9bed5"
      },
      "outputs": [
        {
          "output_type": "stream",
          "name": "stdout",
          "text": [
            "Requirement already satisfied: pynndescent in /usr/local/lib/python3.7/dist-packages (0.5.6)\n",
            "Requirement already satisfied: llvmlite>=0.30 in /usr/local/lib/python3.7/dist-packages (from pynndescent) (0.34.0)\n",
            "Requirement already satisfied: joblib>=0.11 in /usr/local/lib/python3.7/dist-packages (from pynndescent) (1.1.0)\n",
            "Requirement already satisfied: numba>=0.51.2 in /usr/local/lib/python3.7/dist-packages (from pynndescent) (0.51.2)\n",
            "Requirement already satisfied: scipy>=1.0 in /usr/local/lib/python3.7/dist-packages (from pynndescent) (1.4.1)\n",
            "Requirement already satisfied: scikit-learn>=0.18 in /usr/local/lib/python3.7/dist-packages (from pynndescent) (1.0.2)\n",
            "Requirement already satisfied: setuptools in /usr/local/lib/python3.7/dist-packages (from numba>=0.51.2->pynndescent) (57.4.0)\n",
            "Requirement already satisfied: numpy>=1.15 in /usr/local/lib/python3.7/dist-packages (from numba>=0.51.2->pynndescent) (1.21.5)\n",
            "Requirement already satisfied: threadpoolctl>=2.0.0 in /usr/local/lib/python3.7/dist-packages (from scikit-learn>=0.18->pynndescent) (3.1.0)\n",
            "Requirement already satisfied: tbb in /usr/local/lib/python3.7/dist-packages (2021.5.1)\n"
          ]
        }
      ],
      "source": [
        "%tensorflow_version 2.x\n",
        "!pip install pynndescent\n",
        "!pip install tbb\n",
        "\n",
        "import numpy as np\n",
        "import string\n",
        "import os\n",
        "from bisect import bisect_left\n",
        "import pickle\n",
        "\n",
        "import tensorflow as tf\n",
        "from tensorflow import keras\n",
        "from keras import layers\n",
        "from keras import backend as K\n",
        "from keras.models import load_model\n",
        "from keras.losses import MSE\n",
        "import h5py\n",
        "\n",
        "import matplotlib\n",
        "import matplotlib.pyplot as plt\n",
        "import seaborn as sns\n",
        "\n",
        "import pynndescent\n",
        "from urllib.request import urlretrieve"
      ]
    },
    {
      "cell_type": "markdown",
      "metadata": {
        "id": "XvbVxy5tfCwQ"
      },
      "source": [
        "Mnist dataset"
      ]
    },
    {
      "cell_type": "code",
      "execution_count": 3,
      "metadata": {
        "id": "hXAsY2jo1_y7"
      },
      "outputs": [],
      "source": [
        "num_classes = 10\n",
        "input_shape = (28, 28, 1)\n",
        "\n",
        "# import mnist data\n",
        "(x_train, y_train), (x_test, y_test) = keras.datasets.mnist.load_data()\n",
        "\n",
        "# Scale to [0, 1] size\n",
        "x_train = x_train.astype(\"float32\") / 255\n",
        "x_test = x_test.astype(\"float32\") / 255\n",
        "\n",
        "# Make images shape (28, 28, 1)\n",
        "x_train = np.expand_dims(x_train, -1)\n",
        "x_test = np.expand_dims(x_test, -1)\n",
        "\n",
        "# keep raw labels in separate array\n",
        "y_test_raw = y_test[750:10000]\n",
        "y_train_raw = y_train\n",
        "y_cal_raw = y_test[0:750]\n",
        "\n",
        "# convert labels to one hot enconding\n",
        "y_train = keras.utils.to_categorical(y_train, num_classes)\n",
        "y_test = keras.utils.to_categorical(y_test, num_classes)\n",
        "\n",
        "# split test set into calibration set\n",
        "x_cal = x_test[0:750] \n",
        "y_cal = y_test[0:750]\n",
        "x_test = x_test[750:10000]\n",
        "y_test = y_test[750:10000]"
      ]
    },
    {
      "cell_type": "markdown",
      "metadata": {
        "id": "jNU51mw7fU3A"
      },
      "source": [
        "Initialize CNN model"
      ]
    },
    {
      "cell_type": "code",
      "execution_count": 4,
      "metadata": {
        "colab": {
          "base_uri": "https://localhost:8080/"
        },
        "id": "9_iCpdEz2HSB",
        "outputId": "61288311-b0aa-4b3a-d388-cab124516c38"
      },
      "outputs": [
        {
          "output_type": "stream",
          "name": "stdout",
          "text": [
            "Model: \"sequential\"\n",
            "_________________________________________________________________\n",
            " Layer (type)                Output Shape              Param #   \n",
            "=================================================================\n",
            " conv2d (Conv2D)             (None, 14, 14, 64)        4160      \n",
            "                                                                 \n",
            " conv2d_1 (Conv2D)           (None, 5, 5, 128)         295040    \n",
            "                                                                 \n",
            " conv2d_2 (Conv2D)           (None, 1, 1, 128)         409728    \n",
            "                                                                 \n",
            " flatten (Flatten)           (None, 128)               0         \n",
            "                                                                 \n",
            " dropout (Dropout)           (None, 128)               0         \n",
            "                                                                 \n",
            " dense (Dense)               (None, 10)                1290      \n",
            "                                                                 \n",
            "=================================================================\n",
            "Total params: 710,218\n",
            "Trainable params: 710,218\n",
            "Non-trainable params: 0\n",
            "_________________________________________________________________\n"
          ]
        }
      ],
      "source": [
        "model = keras.Sequential(\n",
        "    [\n",
        "        keras.Input(shape=input_shape),\n",
        "        layers.Conv2D(64, kernel_size=(8, 8), strides=(2,2), padding=\"same\", activation=\"relu\", input_shape=x_train.shape[1:]),\n",
        "        layers.Conv2D(128, kernel_size=(6, 6), strides=(2,2), padding=\"valid\", activation=\"relu\"),\n",
        "        layers.Conv2D(128, kernel_size=(5, 5), strides=(1,1), padding=\"valid\", activation=\"relu\"),\n",
        "        layers.Flatten(),\n",
        "        layers.Dropout(0.5),\n",
        "        layers.Dense(10, activation=tf.nn.softmax),\n",
        "    ]\n",
        ")\n",
        "\n",
        "batch_size = 500\n",
        "epochs = 8\n",
        "\n",
        "adam_opt = keras.optimizers.Adam(learning_rate=0.001)\n",
        "model.compile(loss=\"categorical_crossentropy\", optimizer=adam_opt, metrics=[\"accuracy\"])\n",
        "\n",
        "model.summary()"
      ]
    },
    {
      "cell_type": "markdown",
      "metadata": {
        "id": "HEN5GHtXts6c"
      },
      "source": [
        "Train model\n"
      ]
    },
    {
      "cell_type": "code",
      "execution_count": 5,
      "metadata": {
        "colab": {
          "base_uri": "https://localhost:8080/"
        },
        "id": "40vD00Gi--3N",
        "outputId": "ff590bca-06c1-43a3-f583-9983b71fcc0f"
      },
      "outputs": [
        {
          "output_type": "stream",
          "name": "stdout",
          "text": [
            "loaded model from disc\n"
          ]
        }
      ],
      "source": [
        "# try loading model from files\n",
        "try:\n",
        "  model = load_model('deepKNN_model1.h5')\n",
        "  print(\"loaded model from disc\")\n",
        "\n",
        "# otherwise train from scratch\n",
        "except OSError:\n",
        "  print(\"failed to load model from disc\")\n",
        "  model.fit(x_train, y_train, batch_size=batch_size, epochs=epochs, validation_split=0.1)\n",
        "  model.save('deepKNN_model_new.h5')  # creates a HDF5 file\n",
        "  print(\"saved model successfully\")"
      ]
    },
    {
      "cell_type": "markdown",
      "metadata": {
        "id": "hpLgAqfwuBOH"
      },
      "source": [
        "Evaluate model"
      ]
    },
    {
      "cell_type": "code",
      "execution_count": 6,
      "metadata": {
        "colab": {
          "base_uri": "https://localhost:8080/"
        },
        "id": "0k9rrKu2_6dT",
        "outputId": "d5a4ca5c-7053-486f-a224-e1cbacb84bd2"
      },
      "outputs": [
        {
          "output_type": "stream",
          "name": "stdout",
          "text": [
            "Test loss: 0.02895638532936573\n",
            "Test accuracy: 0.9907026886940002\n"
          ]
        }
      ],
      "source": [
        "score = model.evaluate(x_test, y_test, verbose=0)\n",
        "print(\"Test loss:\", score[0])\n",
        "print(\"Test accuracy:\", score[1])"
      ]
    },
    {
      "cell_type": "markdown",
      "metadata": {
        "id": "5peKiYbPuO9S"
      },
      "source": [
        "Generate Adversarial Examples"
      ]
    },
    {
      "cell_type": "code",
      "execution_count": 7,
      "metadata": {
        "id": "Xwul9XrXGnlu"
      },
      "outputs": [],
      "source": [
        "def generate_image_adversary(model, image, label, eps):\n",
        "\n",
        "  # Make images shape (1, 28, 28, 1)\n",
        "  image = tf.cast(image.reshape(1, 28, 28, 1), tf.float32)\n",
        "\n",
        "  # record our gradients\n",
        "  with tf.GradientTape() as tape:\n",
        "\n",
        "    # start tracing image by the Tape\n",
        "    tape.watch(image)\n",
        "\n",
        "    #compute prediction\n",
        "    pred = model(image)\n",
        "\n",
        "    # compute loss\n",
        "    loss = MSE(label, pred)\n",
        "\n",
        "    # calculate the gradient of loss function \n",
        "    grad = tape.gradient(loss, image)\n",
        "\n",
        "    # compute the sign of the gradient\n",
        "    sign = tf.sign(grad)\n",
        "\n",
        "    # create perturbation\n",
        "    perturbation = sign * eps\n",
        "\n",
        "    # apply perturbation to image\n",
        "    adversary = (image + perturbation).numpy()\n",
        "\n",
        "    # Make images shape (28, 28, 1)\n",
        "    adversary = adversary.reshape(28, 28, 1)\n",
        "    \n",
        "    return adversary"
      ]
    },
    {
      "cell_type": "code",
      "execution_count": 8,
      "metadata": {
        "id": "dZDacbiljIqC"
      },
      "outputs": [],
      "source": [
        "def load_adversarial():\n",
        "  epsilons.insert(0, 0.0)\n",
        "  adversaries = {}\n",
        "  for eps in epsilons:\n",
        "    eps_str = str(eps)\n",
        "    eps_str = eps_str.translate(str.maketrans('', '', string.punctuation))\n",
        "    path = 'adv_datasets/adversaries' + eps_str + '.npy'\n",
        "    adversaries[eps] = np.load(path)\n",
        "  return adversaries\n",
        "\n",
        "def save_adversarial(adversaries):\n",
        "  for eps in epsilons:\n",
        "    eps_str = str(eps)\n",
        "    eps_str = eps_str.translate(str.maketrans('', '', string.punctuation))\n",
        "    filename = 'adv_datasets/adversaries' + eps_str + '.npy'\n",
        "    np.save(filename, adversaries[eps])"
      ]
    },
    {
      "cell_type": "code",
      "execution_count": 9,
      "metadata": {
        "colab": {
          "base_uri": "https://localhost:8080/"
        },
        "id": "dFNscG2vGTTk",
        "outputId": "dd7647c0-b0c8-4339-b24a-5d703a10815a"
      },
      "outputs": [
        {
          "output_type": "stream",
          "name": "stdout",
          "text": [
            "loaded adversarial datasets from disc\n"
          ]
        }
      ],
      "source": [
        "# pixel-wise perturbation amount \n",
        "epsilons = [0.025, 0.05, 0.075, 0.1, 0.125, 0.15]\n",
        "\n",
        "# try loading adversarial examples from files\n",
        "try:\n",
        "  fgsm_adversarials = load_adversarial()\n",
        "  print('loaded adversarial datasets from disc')\n",
        "\n",
        "# otherwise generate adversarial examples\n",
        "except OSError:\n",
        "  print('failed to load adversarial datasets from disc')\n",
        "  fgsm_adversarials = {}\n",
        "\n",
        "  for eps in epsilons:\n",
        "    adv = []\n",
        "    for i in range(x_test.shape[0]):\n",
        "      adv.append(generate_image_adversary(model, x_test[i], y_test[i], eps))\n",
        "    fgsm_adversarials[eps] = np.array(adv)\n",
        "\n",
        "  # add raw test set as 0.0 epsilon\n",
        "  epsilons.insert(0, 0.0)\n",
        "  fgsm_adversarials[0.0] = x_test\n",
        "\n",
        "  save_adversarial(fgsm_adversarials)\n",
        "  print('saved adversarial dataset successfully')"
      ]
    },
    {
      "cell_type": "markdown",
      "metadata": {
        "id": "ag3lTS_6uXlK"
      },
      "source": [
        "Test model on adversarial attacks"
      ]
    },
    {
      "cell_type": "code",
      "execution_count": 10,
      "metadata": {
        "colab": {
          "base_uri": "https://localhost:8080/",
          "height": 350
        },
        "id": "N8h0dWvU46HD",
        "outputId": "2cc7e0c8-d675-4703-8630-b5367ef4bee7"
      },
      "outputs": [
        {
          "output_type": "display_data",
          "data": {
            "text/plain": [
              "<Figure size 360x360 with 1 Axes>"
            ],
            "image/png": "[encoded data removed]"
          },
          "metadata": {
            "needs_background": "light"
          }
        }
      ],
      "source": [
        "def plot_accuracy_vs_epsilon():\n",
        "  accuracies_plot = []\n",
        "  for eps in epsilons:\n",
        "    adversary_score = model.evaluate(fgsm_adversarials[eps], y_test, verbose=0)\n",
        "    accuracies_plot.append(adversary_score[1] * 100)\n",
        "\n",
        "  plt.figure(figsize=(5,5))\n",
        "  plt.plot(epsilons, accuracies_plot, linestyle='--', marker='o', color='b', label = 'DNN')\n",
        "\n",
        "  plt.yticks(np.arange(0, 101, step=10))\n",
        "  plt.xticks(np.arange(0, 0.16, step=0.025))\n",
        "  plt.xlabel(\"Epsilon\")\n",
        "  plt.ylabel(\"Accuracy\")\n",
        "  plt.title(\"Accuracy vs Epsilon\")\n",
        "  plt.legend()\n",
        "  \n",
        "plot_accuracy_vs_epsilon()\n",
        "plt.show()"
      ]
    },
    {
      "cell_type": "markdown",
      "metadata": {
        "id": "mpwkx6_vubcU"
      },
      "source": [
        "Plot some adversarial examples"
      ]
    },
    {
      "cell_type": "code",
      "execution_count": 11,
      "metadata": {
        "colab": {
          "base_uri": "https://localhost:8080/",
          "height": 894
        },
        "id": "xWlEh8ax2Wif",
        "outputId": "b604fe98-40e9-4301-d6ed-b4f3f7e89548"
      },
      "outputs": [
        {
          "output_type": "display_data",
          "data": {
            "text/plain": [
              "<Figure size 720x1080 with 35 Axes>"
            ],
            "image/png": "[encoded data removed]"
          },
          "metadata": {}
        }
      ],
      "source": [
        "counter = 0\n",
        "plt.figure(figsize=(10,15))\n",
        "\n",
        "for eps in epsilons:\n",
        "  adv_img = fgsm_adversarials[eps][10:15]\n",
        "  true_label = y_test[10:15]\n",
        "\n",
        "  adv_results = model.predict(fgsm_adversarials[eps][10:15])\n",
        "  predicted_labels = []\n",
        "  for result in adv_results:\n",
        "    predicted_labels.append(np.argmax(result))\n",
        "\n",
        "  for i in range(5):\n",
        "      counter += 1\n",
        "      plt.subplot(len(epsilons), 5, counter)\n",
        "      plt.xticks([], [])\n",
        "      plt.yticks([], [])\n",
        "\n",
        "      if i == 0:\n",
        "        plt.ylabel('Eps: '+ str(eps), fontsize=14)\n",
        "\n",
        "      label = np.argmax(true_label[i])\n",
        "      if predicted_labels[i] != label:\n",
        "        incorrect_label = plt.title('Pred. label: ' + str(predicted_labels[i]))\n",
        "        plt.setp(incorrect_label, color='r')\n",
        "      else:\n",
        "        if eps == 0.0:\n",
        "          plt.title(r\"$\\bf{\" + 'True label:' + str(label) + \"}$\" + '\\n\\nPred. label:' + str(predicted_labels[i]))\n",
        "        else:\n",
        "          plt.title('Pred. label: ' + str(predicted_labels[i]))\n",
        "\n",
        "      plt.imshow(np.squeeze(adv_img[i]), cmap=\"gray\")\n",
        "plt.show()"
      ]
    },
    {
      "cell_type": "markdown",
      "metadata": {
        "id": "qOXIfd2XHS_O"
      },
      "source": [
        "KNN for patterns"
      ]
    },
    {
      "cell_type": "code",
      "execution_count": 12,
      "metadata": {
        "id": "37tY9-h39-5T"
      },
      "outputs": [],
      "source": [
        "# # reformat training data\n",
        "# x_train_knn = np.squeeze(x_train, -1)\n",
        "# x_train_knn = x_train_knn.reshape((60000, 784))\n",
        "\n",
        "# # index training data\n",
        "# index = pynndescent.NNDescent(x_train_knn)\n",
        "\n",
        "# # prepare for faster query\n",
        "# index.prepare()\n",
        "\n",
        "# reformat test data\n",
        "# x_test_knn = np.squeeze(x_test, -1)\n",
        "# x_test_knn = x_test_knn.reshape((7500, 784))\n",
        "\n",
        "# find neighbors for test data\n",
        "# neighbors = index.query(x_test_knn)\n",
        "\n",
        "# # create gold standard from KDTree ###\n",
        "# from sklearn.neighbors import KDTree\n",
        "# tree_index = KDTree(x_train)\n",
        "\n",
        "# tree_neighbors = tree_index.query(x_test, k=10)\n",
        "\n",
        "# def accuracy_per_query_point(approx_neighbors, true_neighbors):\n",
        "#     approx_indices = approx_neighbors[0]\n",
        "#     result = np.zeros(approx_indices.shape[0])\n",
        "#     for i in range(approx_indices.shape[0]):\n",
        "#         n_correct = np.intersect1d(approx_indices[i], true_neighbors[i]).shape[0]\n",
        "#         result[i] = n_correct / true_neighbors.shape[1]\n",
        "#     return result\n",
        "\n",
        "# tree_N = np.load('test_true_neighbors.npy')\n",
        "\n",
        "# accuracy_stats = accuracy_per_query_point(neighbors, tree_N)\n",
        "# sns.set(rc={\"figure.figsize\":(10,6)})\n",
        "\n",
        "# sns.distplot(accuracy_stats, kde=False)\n",
        "# plt.title(\"Distribution of accuracy per query point\")\n",
        "# plt.xlabel(\"Accuracy\")\n",
        "# print(f\"Average accuracy of {np.mean(accuracy_stats)}\")"
      ]
    },
    {
      "cell_type": "markdown",
      "source": [
        "Functions for saving and loading precalulated neighbours"
      ],
      "metadata": {
        "id": "YZstnzNU1a4Q"
      }
    },
    {
      "cell_type": "code",
      "source": [
        "def save_pickle(save_object, filename):\n",
        "  with open(filename, 'wb') as f:\n",
        "    pickle.dump(save_object, f)\n",
        "\n",
        "def load_pickle(filename):\n",
        "  with open(filename, 'rb') as f:\n",
        "    loaded_object = pickle.load(f)\n",
        "    return loaded_object"
      ],
      "metadata": {
        "id": "k6FvfQiGxqkA"
      },
      "execution_count": 13,
      "outputs": []
    },
    {
      "cell_type": "markdown",
      "metadata": {
        "id": "ypCORPPYuCnD"
      },
      "source": [
        "Function getting activations on each layer"
      ]
    },
    {
      "cell_type": "code",
      "execution_count": 14,
      "metadata": {
        "id": "vbe44bA_cgDt"
      },
      "outputs": [],
      "source": [
        "def get_activations(model, dataset):\n",
        "    reshaped_output_layer = []\n",
        "\n",
        "    for i in [0,1,2,5]: # 0,1,2-convolutions layer, 5-dense layer\n",
        "        layer = model.layers[i]\n",
        "        l_op = K.function([model.layers[0].input], [layer.output])([dataset])[0]\n",
        "\n",
        "        if i != 5:\n",
        "          reshaped_output_layer.append(l_op.reshape(l_op.shape[0], l_op.shape[1]*l_op.shape[2]*l_op.shape[3]))\n",
        "        else: \n",
        "          reshaped_output_layer.append(l_op)\n",
        "    \n",
        "    for layer in reshaped_output_layer:\n",
        "        layer /= np.linalg.norm(layer, axis=1).reshape(-1, 1)\n",
        "\n",
        "    return(reshaped_output_layer)"
      ]
    },
    {
      "cell_type": "markdown",
      "metadata": {
        "id": "GZ6NnXKwRGEi"
      },
      "source": [
        "Index trainingset knn"
      ]
    },
    {
      "cell_type": "code",
      "execution_count": 15,
      "metadata": {
        "colab": {
          "base_uri": "https://localhost:8080/"
        },
        "id": "9TXtYx9avPz6",
        "outputId": "c124e341-7468-496f-ec75-da4962d6f4fc"
      },
      "outputs": [
        {
          "output_type": "stream",
          "name": "stdout",
          "text": [
            "loaded neighbours index from disc\n"
          ]
        }
      ],
      "source": [
        "def index_layer(layer):\n",
        "  activations_train = get_activations(model, x_train)\n",
        "  layer_act = activations_train[layer]\n",
        "  index_act = pynndescent.NNDescent(layer_act) # index training data\n",
        "  index_act.prepare()# prepare for faster query\n",
        "  return index_act\n",
        "\n",
        "try: \n",
        "  print('loaded neighbours index from disc')\n",
        "  index_act = load_pickle('neighbour_index.pkl')\n",
        "except FileNotFoundError:\n",
        "  print('failed to load neighbours index from disc')\n",
        "  index_act = {}\n",
        "  for layer in range (0,4):\n",
        "    index_act[layer] = index_layer(layer)"
      ]
    },
    {
      "cell_type": "markdown",
      "metadata": {
        "id": "-FCe9Kq0RLY9"
      },
      "source": [
        "Find Neigbours"
      ]
    },
    {
      "cell_type": "code",
      "execution_count": 40,
      "metadata": {
        "id": "vN0zmLu51IYz"
      },
      "outputs": [],
      "source": [
        "k_neighbours = 75\n",
        "def find_neighbours(activations, index, layer, knn_eps):\n",
        "  act = activations[layer]\n",
        "  neighbors = index.query(act, k=k_neighbours, epsilon=knn_eps)\n",
        "  return neighbors[0]\n",
        "\n",
        "def correct_neighbours_count(neihgbours):\n",
        "  correct_neighbours = [0] * (k_neighbours + 1)\n",
        "  for i in range(0, neihgbours.shape[0]):\n",
        "    correct = np.sum(y_train_raw[neihgbours[i]] == y_test_raw[i])\n",
        "    correct_neighbours[correct] += 1\n",
        "  return correct_neighbours\n",
        "\n",
        "def compare_neigbours(neighbours, layer, eps):\n",
        "  plt.figure(figsize=(15,5))\n",
        "  x_ax = np.arange(len(neighbours[layer][0.0]))\n",
        "  plt.bar(x_ax-0.2, neighbours[layer][0.0], 0.4, label = 'Epsilon: 0.0')\n",
        "  plt.bar(x_ax+0.2, neighbours[layer][eps], 0.4, label = 'Epsilon: ' + str(eps))\n",
        "\n",
        "  plt.xlabel(\"Neigbours\")\n",
        "  plt.ylabel(\"Number of correct neigbours\")\n",
        "  plt.title(\"Number of correct neigbours on layer number: \" + str(layer+1))\n",
        "  plt.legend()\n",
        "\n",
        "  plt.xticks(x_ax);\n",
        "  plt.show() "
      ]
    },
    {
      "cell_type": "markdown",
      "metadata": {
        "id": "q9kmaI6C2ZWd"
      },
      "source": [
        "Get activations on each layer\n"
      ]
    },
    {
      "cell_type": "code",
      "execution_count": 41,
      "metadata": {
        "id": "4i4Cl-XHrpsL"
      },
      "outputs": [],
      "source": [
        "activations = {}\n",
        "for eps in epsilons:\n",
        "  activations[eps] = get_activations(model, fgsm_adversarials[eps])"
      ]
    },
    {
      "cell_type": "markdown",
      "source": [
        "Find neigbours on each layer"
      ],
      "metadata": {
        "id": "5hLfbSdE1Fh8"
      }
    },
    {
      "cell_type": "code",
      "execution_count": 42,
      "metadata": {
        "id": "bIXj_A2LYaGG"
      },
      "outputs": [],
      "source": [
        "# try:\n",
        "#   neighbors = load_pickle('neighbours.pkl')\n",
        "#   print('loaded neighbours from disc')\n",
        "# except FileNotFoundError:\n",
        "#   print('failed to load neighbours from disc')\n",
        "neighbors = {}\n",
        "for layer in range (0,4):\n",
        "  neighbors[layer] = {}\n",
        "  for eps in epsilons:\n",
        "    neighbors[layer][eps] = find_neighbours(activations[eps], index_act[layer], layer, 0.1)"
      ]
    },
    {
      "cell_type": "code",
      "execution_count": 43,
      "metadata": {
        "id": "HP59_0wGDbLe"
      },
      "outputs": [],
      "source": [
        "correct_neighbours = {}\n",
        "for layer in range (0,4):\n",
        "  correct_neighbours[layer] = {}\n",
        "  for eps in epsilons:\n",
        "    correct_neighbours[layer][eps] = correct_neighbours_count(neighbors[layer][eps])"
      ]
    },
    {
      "cell_type": "code",
      "execution_count": 44,
      "metadata": {
        "colab": {
          "base_uri": "https://localhost:8080/",
          "height": 350
        },
        "id": "R8FSDrFEg3M8",
        "outputId": "a8db9981-6f4a-49c8-a8fa-c81f7afc6357"
      },
      "outputs": [
        {
          "output_type": "display_data",
          "data": {
            "text/plain": [
              "<Figure size 1080x360 with 1 Axes>"
            ],
            "image/png": "[encoded data removed]"
          },
          "metadata": {
            "needs_background": "light"
          }
        }
      ],
      "source": [
        "compare_neigbours(correct_neighbours, 3, 0.15)"
      ]
    },
    {
      "cell_type": "markdown",
      "metadata": {
        "id": "X3aDIbZFVkNI"
      },
      "source": [
        "Calibration set"
      ]
    },
    {
      "cell_type": "code",
      "execution_count": 50,
      "metadata": {
        "id": "r0c49p1zRh4Y"
      },
      "outputs": [],
      "source": [
        "activations_calib = get_activations(model, x_cal)\n",
        "neigbours_calib = {}\n",
        "for layer in range (0,4):\n",
        "  neigbours_calib[layer] = find_neighbours(activations_calib, index_act[layer], layer, 0.1)"
      ]
    },
    {
      "cell_type": "code",
      "execution_count": 51,
      "metadata": {
        "id": "parOfY6ZLmsN"
      },
      "outputs": [],
      "source": [
        "# Returns how many neighbours does not match real label\n",
        "def nonconformity_calibration(neihgbours_arr):\n",
        "  nonconformity = []\n",
        "  for i in range(0, neihgbours_arr.shape[0]):\n",
        "    incorrect = np.sum(y_train_raw[neihgbours_arr[i]] != y_cal_raw[i])\n",
        "    nonconformity.append(incorrect)\n",
        "\n",
        "  return np.array(nonconformity)"
      ]
    },
    {
      "cell_type": "code",
      "execution_count": 52,
      "metadata": {
        "id": "ABrf9OOwTn06"
      },
      "outputs": [],
      "source": [
        "# nonconformity of calib\n",
        "nonconformity_calib = np.zeros(neigbours_calib[0].shape[0])\n",
        "for layer in range (0,4):\n",
        "  nonconformity_calib += nonconformity_calibration(neigbours_calib[layer])\n",
        "\n",
        "# sort\n",
        "nonconformity_calib =  np.sort(nonconformity_calib)\n",
        "# trim zeros\n",
        "nonconformity_calib = np.trim_zeros(nonconformity_calib, trim='f')"
      ]
    },
    {
      "cell_type": "markdown",
      "metadata": {
        "id": "nS4yb4bLOrw2"
      },
      "source": [
        "Calculate p-values, credibility and predicted labels"
      ]
    },
    {
      "cell_type": "code",
      "execution_count": 72,
      "metadata": {
        "id": "4dAiFP5rkr5D"
      },
      "outputs": [],
      "source": [
        "# calculate_nonconformity for each class based on calibration\n",
        "def calculate_nonconformity(eps):\n",
        "  nonconformity_for_class = np.full((x_test.shape[0], num_classes), k_neighbours * 4, dtype=np.float32)\n",
        "  for i in range(0, x_test.shape[0]):\n",
        "    for layer in range(0,4):\n",
        "      for neigh in neighbors[layer][eps][i]:\n",
        "        nonconformity_for_class[i][y_train_raw[neigh]] -= 1\n",
        "\n",
        "  return nonconformity_for_class\n",
        "\n",
        "def calculate_p_values(nonconformity_for_class, nonconformity):\n",
        "  p_values = np.empty((x_test.shape[0], num_classes),  dtype=np.float32)\n",
        "  for i in range(0, x_test.shape[0]):\n",
        "    for j in range(0, num_classes):\n",
        "      insert_index = bisect_left(nonconformity, nonconformity_for_class[i][j])\n",
        "      p_values[i][j] = (nonconformity.shape[0] - insert_index) / nonconformity.shape[0]\n",
        "  return p_values\n",
        "\n",
        "def predict_labels(eps):\n",
        "  knn_predicted_labels = []\n",
        "  for i in range(0, x_test.shape[0]):\n",
        "    knn_predicted_labels.append(np.argmin(nonconformity_for_class[eps][i]))\n",
        "  return np.array(knn_predicted_labels)"
      ]
    },
    {
      "cell_type": "code",
      "execution_count": 73,
      "metadata": {
        "id": "lZNf4sVyvRtR"
      },
      "outputs": [],
      "source": [
        "nonconformity_for_class = {}\n",
        "p_values = {}\n",
        "knn_predicted_labels = {}\n",
        "for eps in epsilons:\n",
        "  nonconformity_for_class[eps] = calculate_nonconformity(eps)\n",
        "  p_values[eps] = calculate_p_values(nonconformity_for_class[eps], nonconformity_calib)\n",
        "  knn_predicted_labels[eps] = predict_labels(eps)"
      ]
    },
    {
      "cell_type": "code",
      "execution_count": 78,
      "metadata": {
        "id": "E_kkVTkOtfgf"
      },
      "outputs": [],
      "source": [
        "def calculate_performance_per_cred(confidence, predicted_labels):\n",
        "  credibility = np.max(confidence, axis=1)\n",
        "  distribution = np.zeros(10)\n",
        "  correct_labels = np.zeros(10)\n",
        "\n",
        "  for i in range(credibility.shape[0]):\n",
        "    bin = credibility[i] // 0.1 / 10\n",
        "    bin_index = int(bin*10)\n",
        "    distribution[bin_index] += 1\n",
        "    if (predicted_labels[i] == y_test_raw[i]):\n",
        "      correct_labels[bin_index] += 1\n",
        "\n",
        "  for i in range(correct_labels.shape[0]):\n",
        "    if correct_labels[i] != 0 and distribution[i] != 0:\n",
        "      correct_labels[i] /=  distribution[i]\n",
        "\n",
        "  return distribution, correct_labels \n",
        "\n",
        "def plot_reliability(model_type, eps):\n",
        "\n",
        "    if model_type == 'DkNN':\n",
        "      confidence = p_values[eps]\n",
        "      predicted_labels = knn_predicted_labels[eps]\n",
        "    elif model_type == 'Softmax':\n",
        "      softmax_probabilities = model.predict(fgsm_adversarials[eps])\n",
        "      softmax_classes = softmax_probabilities.argmax(axis=-1)\n",
        "      confidence = softmax_probabilities\n",
        "      predicted_labels = softmax_classes\n",
        "\n",
        "    bars_begin = [0.0, 0.1, 0.2, 0.3, 0.4, 0.5, 0.6, 0.7, 0.8, 0.9]\n",
        "    bars_end = [0.1, 0.2, 0.3, 0.4, 0.5, 0.6, 0.7, 0.8, 0.9, 1.0]\n",
        "    bars_center = [0.05, 0.15, 0.25, 0.35, 0.45, 0.55, 0.65, 0.75, 0.85, 0.95]\n",
        "\n",
        "    num_points, reliability_diag = calculate_performance_per_cred(confidence, predicted_labels)\n",
        "\n",
        "    fig, ax1 = plt.subplots()\n",
        "    ax1.bar(bars_center, reliability_diag, width=.1, alpha=0.8, edgecolor = \"black\")\n",
        "    ax1.set_ylim([0, 1.])\n",
        "\n",
        "    ax2 = ax1.twinx()\n",
        "\n",
        "    ax2.plot(bars_center, num_points, color='r', linestyle='-', linewidth=6.0)\n",
        "\n",
        "    plt.title(\"Reliability Diagram: \" + model_type + ', eps: ' + str(eps))\n",
        "    ax2.set_ylabel('Number of points in dataset', color='r')\n",
        "    ax1.set_xlabel('Prediction Credibility')\n",
        "    ax1.set_ylabel('Prediction Accuracy')\n",
        "    ax2.tick_params(colors='r')\n",
        "    plt.show()"
      ]
    },
    {
      "cell_type": "code",
      "execution_count": 79,
      "metadata": {
        "colab": {
          "base_uri": "https://localhost:8080/",
          "height": 312
        },
        "id": "rlFQQiFAzjaZ",
        "outputId": "47959187-539e-48fa-8ff7-5c67e1802e8f"
      },
      "outputs": [
        {
          "output_type": "stream",
          "name": "stdout",
          "text": [
            "[ True  True False ... False False  True]\n"
          ]
        },
        {
          "output_type": "display_data",
          "data": {
            "text/plain": [
              "<Figure size 432x288 with 2 Axes>"
            ],
            "image/png": "[encoded data removed]"
          },
          "metadata": {
            "needs_background": "light"
          }
        }
      ],
      "source": [
        "# plot_reliability('DkNN', eps = 0.0)\n",
        "# plot_reliability('Softmax', eps = 0.0)\n",
        "plot_reliability('DkNN', eps = 0.15)\n",
        "# plot_reliability('Softmax', eps = 0.15)"
      ]
    },
    {
      "cell_type": "code",
      "execution_count": 28,
      "metadata": {
        "id": "fIPj4vLIO2SP"
      },
      "outputs": [],
      "source": [
        "def test_model_accuracy(labels1, labels2):\n",
        "  correct_labels = np.sum(labels1 == labels2)\n",
        "  return correct_labels / labels1.shape[0] * 100"
      ]
    },
    {
      "cell_type": "code",
      "execution_count": 61,
      "metadata": {
        "colab": {
          "base_uri": "https://localhost:8080/",
          "height": 350
        },
        "id": "n1QpcTTZO43W",
        "outputId": "213b1475-843d-4702-da2f-346bc7affe7c"
      },
      "outputs": [
        {
          "output_type": "display_data",
          "data": {
            "text/plain": [
              "<Figure size 360x360 with 1 Axes>"
            ],
            "image/png": "[encoded data removed]"
          },
          "metadata": {
            "needs_background": "light"
          }
        }
      ],
      "source": [
        "accuracies_plot_knn = []\n",
        "for eps in epsilons:\n",
        "  model_accuracy = test_model_accuracy(knn_predicted_labels[eps], y_test_raw)\n",
        "  accuracies_plot_knn.append(model_accuracy)\n",
        "\n",
        "plot_accuracy_vs_epsilon()\n",
        "plt.plot(epsilons, accuracies_plot_knn, linestyle='--', marker='o', color='r', label = 'DkNN')\n",
        "plt.legend()\n",
        "plt.show()"
      ]
    }
  ],
  "metadata": {
    "accelerator": "GPU",
    "colab": {
      "collapsed_sections": [],
      "machine_shape": "hm",
      "name": "keras_dis.ipynb",
      "provenance": [],
      "include_colab_link": true
    },
    "kernelspec": {
      "display_name": "Python 3",
      "name": "python3"
    },
    "language_info": {
      "name": "python"
    }
  },
  "nbformat": 4,
  "nbformat_minor": 0
}