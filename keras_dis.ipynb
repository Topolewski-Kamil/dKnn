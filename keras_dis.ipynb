{
  "nbformat": 4,
  "nbformat_minor": 0,
  "metadata": {
    "colab": {
      "name": "keras_dis.ipynb",
      "provenance": [],
      "collapsed_sections": [],
      "machine_shape": "hm",
      "include_colab_link": true
    },
    "kernelspec": {
      "name": "python3",
      "display_name": "Python 3"
    },
    "language_info": {
      "name": "python"
    },
    "accelerator": "GPU"
  },
  "cells": [
    {
      "cell_type": "markdown",
      "metadata": {
        "id": "view-in-github",
        "colab_type": "text"
      },
      "source": [
        "<a href=\"https://colab.research.google.com/github/Topolewski-Kamil/dKnn/blob/main/keras_dis.ipynb\" target=\"_parent\"><img src=\"https://colab.research.google.com/assets/colab-badge.svg\" alt=\"Open In Colab\"/></a>"
      ]
    },
    {
      "cell_type": "code",
      "source": [
        "from google.colab import drive\n",
        "drive.mount('/content/drive')\n",
        "%cd /content/drive/My Drive/disseration/"
      ],
      "metadata": {
        "colab": {
          "base_uri": "https://localhost:8080/"
        },
        "id": "PLe7HBrK7CbQ",
        "outputId": "97a6ef8e-82e1-4d32-f9ea-129b9f35ffab"
      },
      "execution_count": 2,
      "outputs": [
        {
          "output_type": "stream",
          "name": "stdout",
          "text": [
            "Mounted at /content/drive\n",
            "/content/drive/My Drive/disseration\n"
          ]
        }
      ]
    },
    {
      "cell_type": "markdown",
      "source": [
        "Import modules"
      ],
      "metadata": {
        "id": "PJn05KsnfDLI"
      }
    },
    {
      "cell_type": "code",
      "execution_count": 3,
      "metadata": {
        "id": "SnZbGpex18E5",
        "colab": {
          "base_uri": "https://localhost:8080/"
        },
        "outputId": "0ceeb7a7-3ec5-4328-b770-7e0fcc586777"
      },
      "outputs": [
        {
          "output_type": "stream",
          "name": "stdout",
          "text": [
            "Collecting pynndescent\n",
            "  Downloading pynndescent-0.5.6.tar.gz (1.1 MB)\n",
            "\u001b[?25l\r\u001b[K     |▎                               | 10 kB 40.4 MB/s eta 0:00:01\r\u001b[K     |▋                               | 20 kB 25.7 MB/s eta 0:00:01\r\u001b[K     |▉                               | 30 kB 12.3 MB/s eta 0:00:01\r\u001b[K     |█▏                              | 40 kB 9.9 MB/s eta 0:00:01\r\u001b[K     |█▍                              | 51 kB 3.7 MB/s eta 0:00:01\r\u001b[K     |█▊                              | 61 kB 4.4 MB/s eta 0:00:01\r\u001b[K     |██                              | 71 kB 4.7 MB/s eta 0:00:01\r\u001b[K     |██▎                             | 81 kB 4.5 MB/s eta 0:00:01\r\u001b[K     |██▋                             | 92 kB 5.0 MB/s eta 0:00:01\r\u001b[K     |██▉                             | 102 kB 4.3 MB/s eta 0:00:01\r\u001b[K     |███▏                            | 112 kB 4.3 MB/s eta 0:00:01\r\u001b[K     |███▌                            | 122 kB 4.3 MB/s eta 0:00:01\r\u001b[K     |███▊                            | 133 kB 4.3 MB/s eta 0:00:01\r\u001b[K     |████                            | 143 kB 4.3 MB/s eta 0:00:01\r\u001b[K     |████▎                           | 153 kB 4.3 MB/s eta 0:00:01\r\u001b[K     |████▋                           | 163 kB 4.3 MB/s eta 0:00:01\r\u001b[K     |█████                           | 174 kB 4.3 MB/s eta 0:00:01\r\u001b[K     |█████▏                          | 184 kB 4.3 MB/s eta 0:00:01\r\u001b[K     |█████▌                          | 194 kB 4.3 MB/s eta 0:00:01\r\u001b[K     |█████▊                          | 204 kB 4.3 MB/s eta 0:00:01\r\u001b[K     |██████                          | 215 kB 4.3 MB/s eta 0:00:01\r\u001b[K     |██████▍                         | 225 kB 4.3 MB/s eta 0:00:01\r\u001b[K     |██████▋                         | 235 kB 4.3 MB/s eta 0:00:01\r\u001b[K     |███████                         | 245 kB 4.3 MB/s eta 0:00:01\r\u001b[K     |███████▏                        | 256 kB 4.3 MB/s eta 0:00:01\r\u001b[K     |███████▌                        | 266 kB 4.3 MB/s eta 0:00:01\r\u001b[K     |███████▉                        | 276 kB 4.3 MB/s eta 0:00:01\r\u001b[K     |████████                        | 286 kB 4.3 MB/s eta 0:00:01\r\u001b[K     |████████▍                       | 296 kB 4.3 MB/s eta 0:00:01\r\u001b[K     |████████▋                       | 307 kB 4.3 MB/s eta 0:00:01\r\u001b[K     |█████████                       | 317 kB 4.3 MB/s eta 0:00:01\r\u001b[K     |█████████▎                      | 327 kB 4.3 MB/s eta 0:00:01\r\u001b[K     |█████████▌                      | 337 kB 4.3 MB/s eta 0:00:01\r\u001b[K     |█████████▉                      | 348 kB 4.3 MB/s eta 0:00:01\r\u001b[K     |██████████                      | 358 kB 4.3 MB/s eta 0:00:01\r\u001b[K     |██████████▍                     | 368 kB 4.3 MB/s eta 0:00:01\r\u001b[K     |██████████▊                     | 378 kB 4.3 MB/s eta 0:00:01\r\u001b[K     |███████████                     | 389 kB 4.3 MB/s eta 0:00:01\r\u001b[K     |███████████▎                    | 399 kB 4.3 MB/s eta 0:00:01\r\u001b[K     |███████████▌                    | 409 kB 4.3 MB/s eta 0:00:01\r\u001b[K     |███████████▉                    | 419 kB 4.3 MB/s eta 0:00:01\r\u001b[K     |████████████▏                   | 430 kB 4.3 MB/s eta 0:00:01\r\u001b[K     |████████████▍                   | 440 kB 4.3 MB/s eta 0:00:01\r\u001b[K     |████████████▊                   | 450 kB 4.3 MB/s eta 0:00:01\r\u001b[K     |█████████████                   | 460 kB 4.3 MB/s eta 0:00:01\r\u001b[K     |█████████████▎                  | 471 kB 4.3 MB/s eta 0:00:01\r\u001b[K     |█████████████▋                  | 481 kB 4.3 MB/s eta 0:00:01\r\u001b[K     |█████████████▉                  | 491 kB 4.3 MB/s eta 0:00:01\r\u001b[K     |██████████████▏                 | 501 kB 4.3 MB/s eta 0:00:01\r\u001b[K     |██████████████▍                 | 512 kB 4.3 MB/s eta 0:00:01\r\u001b[K     |██████████████▊                 | 522 kB 4.3 MB/s eta 0:00:01\r\u001b[K     |███████████████                 | 532 kB 4.3 MB/s eta 0:00:01\r\u001b[K     |███████████████▎                | 542 kB 4.3 MB/s eta 0:00:01\r\u001b[K     |███████████████▋                | 552 kB 4.3 MB/s eta 0:00:01\r\u001b[K     |███████████████▉                | 563 kB 4.3 MB/s eta 0:00:01\r\u001b[K     |████████████████▏               | 573 kB 4.3 MB/s eta 0:00:01\r\u001b[K     |████████████████▍               | 583 kB 4.3 MB/s eta 0:00:01\r\u001b[K     |████████████████▊               | 593 kB 4.3 MB/s eta 0:00:01\r\u001b[K     |█████████████████               | 604 kB 4.3 MB/s eta 0:00:01\r\u001b[K     |█████████████████▎              | 614 kB 4.3 MB/s eta 0:00:01\r\u001b[K     |█████████████████▋              | 624 kB 4.3 MB/s eta 0:00:01\r\u001b[K     |█████████████████▉              | 634 kB 4.3 MB/s eta 0:00:01\r\u001b[K     |██████████████████▏             | 645 kB 4.3 MB/s eta 0:00:01\r\u001b[K     |██████████████████▌             | 655 kB 4.3 MB/s eta 0:00:01\r\u001b[K     |██████████████████▊             | 665 kB 4.3 MB/s eta 0:00:01\r\u001b[K     |███████████████████             | 675 kB 4.3 MB/s eta 0:00:01\r\u001b[K     |███████████████████▎            | 686 kB 4.3 MB/s eta 0:00:01\r\u001b[K     |███████████████████▋            | 696 kB 4.3 MB/s eta 0:00:01\r\u001b[K     |████████████████████            | 706 kB 4.3 MB/s eta 0:00:01\r\u001b[K     |████████████████████▏           | 716 kB 4.3 MB/s eta 0:00:01\r\u001b[K     |████████████████████▌           | 727 kB 4.3 MB/s eta 0:00:01\r\u001b[K     |████████████████████▊           | 737 kB 4.3 MB/s eta 0:00:01\r\u001b[K     |█████████████████████           | 747 kB 4.3 MB/s eta 0:00:01\r\u001b[K     |█████████████████████▍          | 757 kB 4.3 MB/s eta 0:00:01\r\u001b[K     |█████████████████████▋          | 768 kB 4.3 MB/s eta 0:00:01\r\u001b[K     |██████████████████████          | 778 kB 4.3 MB/s eta 0:00:01\r\u001b[K     |██████████████████████▏         | 788 kB 4.3 MB/s eta 0:00:01\r\u001b[K     |██████████████████████▌         | 798 kB 4.3 MB/s eta 0:00:01\r\u001b[K     |██████████████████████▉         | 808 kB 4.3 MB/s eta 0:00:01\r\u001b[K     |███████████████████████         | 819 kB 4.3 MB/s eta 0:00:01\r\u001b[K     |███████████████████████▍        | 829 kB 4.3 MB/s eta 0:00:01\r\u001b[K     |███████████████████████▋        | 839 kB 4.3 MB/s eta 0:00:01\r\u001b[K     |████████████████████████        | 849 kB 4.3 MB/s eta 0:00:01\r\u001b[K     |████████████████████████▎       | 860 kB 4.3 MB/s eta 0:00:01\r\u001b[K     |████████████████████████▌       | 870 kB 4.3 MB/s eta 0:00:01\r\u001b[K     |████████████████████████▉       | 880 kB 4.3 MB/s eta 0:00:01\r\u001b[K     |█████████████████████████       | 890 kB 4.3 MB/s eta 0:00:01\r\u001b[K     |█████████████████████████▍      | 901 kB 4.3 MB/s eta 0:00:01\r\u001b[K     |█████████████████████████▊      | 911 kB 4.3 MB/s eta 0:00:01\r\u001b[K     |██████████████████████████      | 921 kB 4.3 MB/s eta 0:00:01\r\u001b[K     |██████████████████████████▎     | 931 kB 4.3 MB/s eta 0:00:01\r\u001b[K     |██████████████████████████▌     | 942 kB 4.3 MB/s eta 0:00:01\r\u001b[K     |██████████████████████████▉     | 952 kB 4.3 MB/s eta 0:00:01\r\u001b[K     |███████████████████████████▏    | 962 kB 4.3 MB/s eta 0:00:01\r\u001b[K     |███████████████████████████▍    | 972 kB 4.3 MB/s eta 0:00:01\r\u001b[K     |███████████████████████████▊    | 983 kB 4.3 MB/s eta 0:00:01\r\u001b[K     |████████████████████████████    | 993 kB 4.3 MB/s eta 0:00:01\r\u001b[K     |████████████████████████████▎   | 1.0 MB 4.3 MB/s eta 0:00:01\r\u001b[K     |████████████████████████████▋   | 1.0 MB 4.3 MB/s eta 0:00:01\r\u001b[K     |████████████████████████████▉   | 1.0 MB 4.3 MB/s eta 0:00:01\r\u001b[K     |█████████████████████████████▏  | 1.0 MB 4.3 MB/s eta 0:00:01\r\u001b[K     |█████████████████████████████▍  | 1.0 MB 4.3 MB/s eta 0:00:01\r\u001b[K     |█████████████████████████████▊  | 1.1 MB 4.3 MB/s eta 0:00:01\r\u001b[K     |██████████████████████████████  | 1.1 MB 4.3 MB/s eta 0:00:01\r\u001b[K     |██████████████████████████████▎ | 1.1 MB 4.3 MB/s eta 0:00:01\r\u001b[K     |██████████████████████████████▋ | 1.1 MB 4.3 MB/s eta 0:00:01\r\u001b[K     |██████████████████████████████▉ | 1.1 MB 4.3 MB/s eta 0:00:01\r\u001b[K     |███████████████████████████████▏| 1.1 MB 4.3 MB/s eta 0:00:01\r\u001b[K     |███████████████████████████████▍| 1.1 MB 4.3 MB/s eta 0:00:01\r\u001b[K     |███████████████████████████████▊| 1.1 MB 4.3 MB/s eta 0:00:01\r\u001b[K     |████████████████████████████████| 1.1 MB 4.3 MB/s \n",
            "\u001b[?25hRequirement already satisfied: scikit-learn>=0.18 in /usr/local/lib/python3.7/dist-packages (from pynndescent) (1.0.2)\n",
            "Requirement already satisfied: scipy>=1.0 in /usr/local/lib/python3.7/dist-packages (from pynndescent) (1.4.1)\n",
            "Requirement already satisfied: numba>=0.51.2 in /usr/local/lib/python3.7/dist-packages (from pynndescent) (0.51.2)\n",
            "Requirement already satisfied: llvmlite>=0.30 in /usr/local/lib/python3.7/dist-packages (from pynndescent) (0.34.0)\n",
            "Requirement already satisfied: joblib>=0.11 in /usr/local/lib/python3.7/dist-packages (from pynndescent) (1.1.0)\n",
            "Requirement already satisfied: numpy>=1.15 in /usr/local/lib/python3.7/dist-packages (from numba>=0.51.2->pynndescent) (1.21.5)\n",
            "Requirement already satisfied: setuptools in /usr/local/lib/python3.7/dist-packages (from numba>=0.51.2->pynndescent) (57.4.0)\n",
            "Requirement already satisfied: threadpoolctl>=2.0.0 in /usr/local/lib/python3.7/dist-packages (from scikit-learn>=0.18->pynndescent) (3.1.0)\n",
            "Building wheels for collected packages: pynndescent\n",
            "  Building wheel for pynndescent (setup.py) ... \u001b[?25l\u001b[?25hdone\n",
            "  Created wheel for pynndescent: filename=pynndescent-0.5.6-py3-none-any.whl size=53943 sha256=0fca94c4848353fb47450cb461457de865fe2bc838625b97f6dc33b979e3e46c\n",
            "  Stored in directory: /root/.cache/pip/wheels/03/f1/56/f80d72741e400345b5a5b50ec3d929aca581bf45e0225d5c50\n",
            "Successfully built pynndescent\n",
            "Installing collected packages: pynndescent\n",
            "Successfully installed pynndescent-0.5.6\n"
          ]
        }
      ],
      "source": [
        "%tensorflow_version 2.x\n",
        "!pip install pynndescent\n",
        "\n",
        "import tensorflow as tf\n",
        "import numpy as np\n",
        "from tensorflow import keras\n",
        "from tensorflow.keras import layers\n",
        "from keras import backend as K\n",
        "import matplotlib\n",
        "import matplotlib.pyplot as plt\n",
        "from keras.models import load_model\n",
        "import string\n",
        "from bisect import bisect_left\n",
        "\n",
        "import pynndescent\n",
        "import numpy as np\n",
        "import h5py\n",
        "from urllib.request import urlretrieve\n",
        "import os\n",
        "import seaborn as sns"
      ]
    },
    {
      "cell_type": "markdown",
      "source": [
        "Import Mnist dataset"
      ],
      "metadata": {
        "id": "XvbVxy5tfCwQ"
      }
    },
    {
      "cell_type": "code",
      "source": [
        "# Model / data parameters\n",
        "num_classes = 10\n",
        "input_shape = (28, 28, 1)\n",
        "\n",
        "# the data, split between train and test sets\n",
        "(x_train, y_train), (x_test, y_test) = keras.datasets.mnist.load_data()\n",
        "# Scale images to the [0, 1] range\n",
        "x_train = x_train.astype(\"float32\") / 255\n",
        "x_test = x_test.astype(\"float32\") / 255\n",
        "# Make sure images have shape (28, 28, 1)\n",
        "x_train = np.expand_dims(x_train, -1)\n",
        "x_test = np.expand_dims(x_test, -1)\n",
        "\n",
        "# convert class vectors to binary class matrices\n",
        "y_train = keras.utils.to_categorical(y_train, num_classes)\n",
        "y_test_not_one_hot = y_test[750:10000]\n",
        "y_test = keras.utils.to_categorical(y_test, num_classes)\n",
        "\n",
        "# split test set into calibration set\n",
        "x_cal = x_test[0:750]\n",
        "y_cal = y_test[0:750]\n",
        "x_test = x_test[750:10000]\n",
        "y_test = y_test[750:10000]\n",
        "\n",
        "\n",
        "# x_cal = x_test[9250:10000]\n",
        "# y_cal = y_test[9250:10000]\n",
        "# x_test = x_test[0:9250]\n",
        "# y_test = y_test[0:9250]"
      ],
      "metadata": {
        "id": "hXAsY2jo1_y7",
        "colab": {
          "base_uri": "https://localhost:8080/"
        },
        "outputId": "30f58c53-6f8b-4898-bf45-d37d7d611c9a"
      },
      "execution_count": 4,
      "outputs": [
        {
          "output_type": "stream",
          "name": "stdout",
          "text": [
            "Downloading data from https://storage.googleapis.com/tensorflow/tf-keras-datasets/mnist.npz\n",
            "11493376/11490434 [==============================] - 0s 0us/step\n",
            "11501568/11490434 [==============================] - 0s 0us/step\n"
          ]
        }
      ]
    },
    {
      "cell_type": "markdown",
      "source": [
        "Initialize CNN model"
      ],
      "metadata": {
        "id": "jNU51mw7fU3A"
      }
    },
    {
      "cell_type": "code",
      "source": [
        "model = keras.Sequential(\n",
        "    [\n",
        "        keras.Input(shape=input_shape),\n",
        "        layers.Conv2D(64, kernel_size=(8, 8), strides=(2,2), padding=\"same\", activation=\"relu\", input_shape=x_train.shape[1:]),\n",
        "        layers.Conv2D(128, kernel_size=(6, 6), strides=(2,2), padding=\"valid\", activation=\"relu\"),\n",
        "        layers.Conv2D(128, kernel_size=(5, 5), strides=(1,1), padding=\"valid\", activation=\"relu\"),\n",
        "        layers.Flatten(),\n",
        "        layers.Dropout(0.5),\n",
        "        layers.Dense(10, activation=tf.nn.softmax),\n",
        "    ]\n",
        ")\n",
        "\n",
        "batch_size = 500\n",
        "epochs = 8\n",
        "\n",
        "opt = keras.optimizers.Adam(learning_rate=0.001)\n",
        "model.compile(loss=\"categorical_crossentropy\", optimizer=opt, metrics=[\"accuracy\"])\n",
        "\n",
        "model.summary()"
      ],
      "metadata": {
        "id": "9_iCpdEz2HSB",
        "colab": {
          "base_uri": "https://localhost:8080/"
        },
        "outputId": "7db3f1d6-5f17-49ac-eaf1-33f20380d0ea"
      },
      "execution_count": 5,
      "outputs": [
        {
          "output_type": "stream",
          "name": "stdout",
          "text": [
            "Model: \"sequential\"\n",
            "_________________________________________________________________\n",
            " Layer (type)                Output Shape              Param #   \n",
            "=================================================================\n",
            " conv2d (Conv2D)             (None, 14, 14, 64)        4160      \n",
            "                                                                 \n",
            " conv2d_1 (Conv2D)           (None, 5, 5, 128)         295040    \n",
            "                                                                 \n",
            " conv2d_2 (Conv2D)           (None, 1, 1, 128)         409728    \n",
            "                                                                 \n",
            " flatten (Flatten)           (None, 128)               0         \n",
            "                                                                 \n",
            " dropout (Dropout)           (None, 128)               0         \n",
            "                                                                 \n",
            " dense (Dense)               (None, 10)                1290      \n",
            "                                                                 \n",
            "=================================================================\n",
            "Total params: 710,218\n",
            "Trainable params: 710,218\n",
            "Non-trainable params: 0\n",
            "_________________________________________________________________\n"
          ]
        }
      ]
    },
    {
      "cell_type": "markdown",
      "source": [
        "Train model\n"
      ],
      "metadata": {
        "id": "HEN5GHtXts6c"
      }
    },
    {
      "cell_type": "code",
      "source": [
        "try:\n",
        "  keras.backend.set_learning_phase(False)\n",
        "  model = load_model('deepKNN_model.h5')\n",
        "  print(\"loaded model successfully\")\n",
        "except: \n",
        "  model.fit(x_train, y_train, batch_size=batch_size, epochs=epochs, validation_split=0.1) #0.1\n",
        "  model.save('deepKNN_model.h5')  # creates a HDF5 file\n",
        "  print(\"saved model successfully\")"
      ],
      "metadata": {
        "colab": {
          "base_uri": "https://localhost:8080/"
        },
        "id": "40vD00Gi--3N",
        "outputId": "2d164846-ab38-4663-abaf-0dea1c7a3614"
      },
      "execution_count": 6,
      "outputs": [
        {
          "output_type": "stream",
          "name": "stderr",
          "text": [
            "/usr/local/lib/python3.7/dist-packages/keras/backend.py:450: UserWarning: `tf.keras.backend.set_learning_phase` is deprecated and will be removed after 2020-10-11. To update it, simply pass a True/False value to the `training` argument of the `__call__` method of your layer or model.\n",
            "  warnings.warn('`tf.keras.backend.set_learning_phase` is deprecated and '\n"
          ]
        },
        {
          "output_type": "stream",
          "name": "stdout",
          "text": [
            "loaded model successfully\n"
          ]
        }
      ]
    },
    {
      "cell_type": "markdown",
      "source": [
        "Evaluate model"
      ],
      "metadata": {
        "id": "hpLgAqfwuBOH"
      }
    },
    {
      "cell_type": "code",
      "source": [
        "score = model.evaluate(x_test, y_test, verbose=0)\n",
        "print(\"Test loss:\", score[0])\n",
        "print(\"Test accuracy:\", score[1])"
      ],
      "metadata": {
        "colab": {
          "base_uri": "https://localhost:8080/"
        },
        "id": "0k9rrKu2_6dT",
        "outputId": "00c4bb9a-10f7-4820-8581-34016060116a"
      },
      "execution_count": 7,
      "outputs": [
        {
          "output_type": "stream",
          "name": "stdout",
          "text": [
            "Test loss: 0.027652248740196228\n",
            "Test accuracy: 0.9914594888687134\n"
          ]
        }
      ]
    },
    {
      "cell_type": "markdown",
      "source": [
        "Plot image"
      ],
      "metadata": {
        "id": "qzmF9TLSuNPe"
      }
    },
    {
      "cell_type": "code",
      "source": [
        "def plot_image(img):\n",
        "  plt.imshow(img.reshape((28, 28)), cmap='gray', interpolation='none')\n",
        "  cbar = plt.colorbar()\n",
        "  cbar.set_label('Pixel Intensity')\n",
        "  plt.show()"
      ],
      "metadata": {
        "id": "6r73aUUQfBvC"
      },
      "execution_count": 8,
      "outputs": []
    },
    {
      "cell_type": "markdown",
      "source": [
        "Generate Adversarial Examples"
      ],
      "metadata": {
        "id": "5peKiYbPuO9S"
      }
    },
    {
      "cell_type": "code",
      "source": [
        "# import the necessary packages\n",
        "from tensorflow.keras.losses import MSE\n",
        "import tensorflow as tf\n",
        "def generate_image_adversary(model, image, label, eps):\n",
        "  # cast the image\n",
        "  image = tf.cast(image.reshape(1, 28, 28, 1), tf.float32)\n",
        "  # record our gradients\n",
        "  with tf.GradientTape() as tape:\n",
        "    # explicitly indicate that our image should be tacked for\n",
        "    # gradient updates\n",
        "    tape.watch(image)\n",
        "    # use our model to make predictions on the input image and\n",
        "    # then compute the loss\n",
        "    pred = model(image)\n",
        "    loss = MSE(label, pred)\n",
        "\n",
        "    # calculate the gradients of loss with respect to the image, then\n",
        "    # compute the sign of the gradient\n",
        "    gradient = tape.gradient(loss, image)\n",
        "    signedGrad = tf.sign(gradient)\n",
        "    # construct the image adversary\n",
        "    adversary = (image + (signedGrad * eps)).numpy()\n",
        "    # return the image adversary to the calling function\n",
        "    return adversary.reshape(28, 28, 1)"
      ],
      "metadata": {
        "id": "Xwul9XrXGnlu"
      },
      "execution_count": 9,
      "outputs": []
    },
    {
      "cell_type": "code",
      "source": [
        "epsilons = [0.05, 0.1, 0.15, 0.2, 0.25]\n",
        "fgsm_adversarials = {}\n",
        "\n",
        "def load_adversaries(adversaries):  \n",
        "  adversaries = {}\n",
        "  for eps in epsilons:\n",
        "    eps_str = str(eps)\n",
        "    eps_str = eps_str.translate(str.maketrans('', '', string.punctuation))\n",
        "    path = 'adv_datasets/adversaries' + eps_str + '.npy'\n",
        "    adversaries[eps] = np.load(path)\n",
        "  return adversaries\n",
        "\n",
        "def save_adversaries(adversaries):\n",
        "  for eps in epsilons:\n",
        "    eps_str = str(eps)\n",
        "    eps_str = eps_str.translate(str.maketrans('', '', string.punctuation))\n",
        "    filename = 'adv_datasets/adversaries' + eps_str + '.npy'\n",
        "    np.save(filename, adversaries[eps])\n",
        "\n",
        "try:\n",
        "  epsilons.insert(0, 0.0)\n",
        "  fgsm_adversarials = load_adversaries()\n",
        "  print('loaded adversaries dataset successfully')\n",
        "except:\n",
        "  for eps in epsilons:\n",
        "    adv = []\n",
        "    for i in range(x_test.shape[0]):\n",
        "      adv.append(generate_image_adversary(model, x_test[i], y_test[i], eps))\n",
        "    fgsm_adversarials[eps] = np.array(adv)\n",
        "  epsilons.insert(0, 0.0)\n",
        "  fgsm_adversarials[0.0] = x_test\n",
        "  save_adversaries(fgsm_adversarials)\n",
        "  print('saved adversaries dataset successfully')"
      ],
      "metadata": {
        "colab": {
          "base_uri": "https://localhost:8080/"
        },
        "id": "dZDacbiljIqC",
        "outputId": "12da9fb2-b9e6-4e52-c59d-bc7993e35592"
      },
      "execution_count": 10,
      "outputs": [
        {
          "output_type": "stream",
          "name": "stdout",
          "text": [
            "loaded adversaries dataset successfully\n"
          ]
        }
      ]
    },
    {
      "cell_type": "markdown",
      "source": [
        "Test model on adversarial attacks"
      ],
      "metadata": {
        "id": "ag3lTS_6uXlK"
      }
    },
    {
      "cell_type": "code",
      "source": [
        "accuracies_plot = []\n",
        "for eps in epsilons:\n",
        "  adversary_score = model.evaluate(fgsm_adversarials[eps], y_test, verbose=0)\n",
        "  accuracies_plot.append(adversary_score[1] * 100)\n",
        "  \n",
        "plt.figure(figsize=(5,5))\n",
        "plt.plot(epsilons, accuracies_plot, linestyle='--', marker='o', color='b')\n",
        "plt.yticks(np.arange(0, 101, step=10))\n",
        "plt.xticks(np.arange(0, .26, step=0.05))\n",
        "plt.xlabel(\"Epsilon\")\n",
        "plt.ylabel(\"Accuracy\")\n",
        "plt.title(\"Accuracy vs Epsilon\")\n",
        "plt.show()"
      ],
      "metadata": {
        "colab": {
          "base_uri": "https://localhost:8080/",
          "height": 350
        },
        "id": "N8h0dWvU46HD",
        "outputId": "89526c5e-a1f3-4e7a-dfd4-c64458be287e"
      },
      "execution_count": 11,
      "outputs": [
        {
          "output_type": "display_data",
          "data": {
            "text/plain": [
              "<Figure size 360x360 with 1 Axes>"
            ],
            "image/png": "[encoded data removed]"
          },
          "metadata": {
            "needs_background": "light"
          }
        }
      ]
    },
    {
      "cell_type": "markdown",
      "source": [
        "Plot some adversarial examples"
      ],
      "metadata": {
        "id": "mpwkx6_vubcU"
      }
    },
    {
      "cell_type": "code",
      "source": [
        "cnt = 0\n",
        "plt.figure(figsize=(10,15))\n",
        "for eps in epsilons:\n",
        "  adv_img = fgsm_adversarials[eps][5:10]\n",
        "  true_label = y_test[5:10]\n",
        "\n",
        "  adv_results = model.predict(fgsm_adversarials[eps][5:10])\n",
        "  predicted_labels = []\n",
        "  for result in adv_results:\n",
        "    predicted_labels.append(np.argmax(result))\n",
        "\n",
        "  for i in range(5):\n",
        "      cnt += 1\n",
        "      plt.subplot(len(epsilons), 5, cnt)\n",
        "      plt.xticks([], [])\n",
        "      plt.yticks([], [])\n",
        "      if i == 0:\n",
        "        plt.ylabel(\"Eps: {}\".format(eps), fontsize=14)\n",
        "      plt.title(\"Pred. label: {}\".format(predicted_labels[i]))\n",
        "      plt.imshow(np.squeeze(adv_img[i]), cmap=\"gray\")\n",
        "# plt.tight_layout()\n",
        "plt.show()"
      ],
      "metadata": {
        "colab": {
          "base_uri": "https://localhost:8080/",
          "height": 846
        },
        "id": "xWlEh8ax2Wif",
        "outputId": "2530e4f3-aa89-40b9-9fb1-c357bc3f16f8"
      },
      "execution_count": 12,
      "outputs": [
        {
          "output_type": "display_data",
          "data": {
            "text/plain": [
              "<Figure size 720x1080 with 30 Axes>"
            ],
            "image/png": "[encoded data removed]"
          },
          "metadata": {}
        }
      ]
    },
    {
      "cell_type": "markdown",
      "source": [
        "KNN for patterns"
      ],
      "metadata": {
        "id": "qOXIfd2XHS_O"
      }
    },
    {
      "cell_type": "code",
      "source": [
        "# # reformat training data\n",
        "# x_train_knn = np.squeeze(x_train, -1)\n",
        "# x_train_knn = x_train_knn.reshape((60000, 784))\n",
        "\n",
        "# # index training data\n",
        "# index = pynndescent.NNDescent(x_train_knn)\n",
        "\n",
        "# # prepare for faster query\n",
        "# index.prepare()\n",
        "\n",
        "# # reformat test data\n",
        "# x_test_knn = np.squeeze(x_test, -1)\n",
        "# x_test_knn = x_test_knn.reshape((10000, 784))\n",
        "\n",
        "# # find neighbors for test data\n",
        "# neighbors = index.query(x_test_knn)\n",
        "\n",
        "# ## create gold standard from KDTree ###\n",
        "# from sklearn.neighbors import KDTree\n",
        "# tree_index = KDTree(x_train)\n",
        "\n",
        "# tree_neighbors = tree_index.query(x_test, k=10)\n",
        "\n",
        "# def accuracy_per_query_point(approx_neighbors, true_neighbors):\n",
        "#     approx_indices = approx_neighbors[0]\n",
        "#     result = np.zeros(approx_indices.shape[0])\n",
        "#     for i in range(approx_indices.shape[0]):\n",
        "#         n_correct = np.intersect1d(approx_indices[i], true_neighbors[i]).shape[0]\n",
        "#         result[i] = n_correct / true_neighbors.shape[1]\n",
        "#     return result\n",
        "\n",
        "# tree_N = np.load('test_true_neighbors.npy')\n",
        "\n",
        "# accuracy_stats = accuracy_per_query_point(neighbors, tree_N)\n",
        "# sns.set(rc={\"figure.figsize\":(10,6)})\n",
        "\n",
        "# sns.distplot(accuracy_stats, kde=False)\n",
        "# plt.title(\"Distribution of accuracy per query point\")\n",
        "# plt.xlabel(\"Accuracy\")\n",
        "# print(f\"Average accuracy of {np.mean(accuracy_stats)}\")"
      ],
      "metadata": {
        "id": "37tY9-h39-5T"
      },
      "execution_count": 13,
      "outputs": []
    },
    {
      "cell_type": "markdown",
      "source": [
        "KNN for first CNN layer"
      ],
      "metadata": {
        "id": "B8Q8QQKfuiK-"
      }
    },
    {
      "cell_type": "markdown",
      "source": [
        "Get activations on each layer"
      ],
      "metadata": {
        "id": "ypCORPPYuCnD"
      }
    },
    {
      "cell_type": "code",
      "source": [
        "def reshaped_layer(model, x):\n",
        "    #function to get the layer wise output representation of the model for data x\n",
        "    layer_output = []\n",
        "\n",
        "    for i in [0,1,2,5]: # 0-2 conv2d, 5-dense\n",
        "        layer = model.layers[i]\n",
        "        l_op = K.function([model.layers[0].input], [layer.output])([x])[0]\n",
        "        layer_output.append(l_op)\n",
        "\n",
        "    reshaped_output_layer = []\n",
        "    \n",
        "    for output in layer_output[0:3]:\n",
        "        reshaped_output_layer.append(output.reshape(output.shape[0], output.shape[1]*output.shape[2]*output.shape[3]))\n",
        "        \n",
        "    reshaped_output_layer.append(layer_output[3])\n",
        "    \n",
        "    for layer in reshaped_output_layer:\n",
        "        # assert layer.dtype == np.float32\n",
        "        layer /= np.linalg.norm(layer, axis=1).reshape(-1, 1)\n",
        "    return(reshaped_output_layer)"
      ],
      "metadata": {
        "id": "bsYotmhJWx8O"
      },
      "execution_count": 14,
      "outputs": []
    },
    {
      "cell_type": "markdown",
      "source": [
        "Index trainingset knn"
      ],
      "metadata": {
        "id": "GZ6NnXKwRGEi"
      }
    },
    {
      "cell_type": "code",
      "source": [
        "%%time\n",
        "def index_layer(layer):\n",
        "  layer_act = activations_train[layer]\n",
        "  index_act = pynndescent.NNDescent(layer_act) # index training data\n",
        "  index_act.prepare()# prepare for faster query\n",
        "  return index_act\n",
        "\n",
        "activations_train = reshaped_layer(model, x_train)\n",
        "\n",
        "index_act = {}\n",
        "for layer in range (0,4):\n",
        "  index_act[layer] = index_layer(layer)"
      ],
      "metadata": {
        "colab": {
          "base_uri": "https://localhost:8080/"
        },
        "id": "9TXtYx9avPz6",
        "outputId": "46172ae6-d4b6-4dff-a588-cc449dd49596"
      },
      "execution_count": 15,
      "outputs": [
        {
          "output_type": "stream",
          "name": "stderr",
          "text": [
            "/usr/local/lib/python3.7/dist-packages/numba/np/ufunc/parallel.py:363: NumbaWarning: The TBB threading layer requires TBB version 2019.5 or later i.e., TBB_INTERFACE_VERSION >= 11005. Found TBB_INTERFACE_VERSION = 9107. The TBB threading layer is disabled.\n",
            "  warnings.warn(problem)\n"
          ]
        },
        {
          "output_type": "stream",
          "name": "stdout",
          "text": [
            "CPU times: user 11min 27s, sys: 5.29 s, total: 11min 32s\n",
            "Wall time: 3min 53s\n"
          ]
        }
      ]
    },
    {
      "cell_type": "markdown",
      "source": [
        "Find Neigbours"
      ],
      "metadata": {
        "id": "-FCe9Kq0RLY9"
      }
    },
    {
      "cell_type": "code",
      "source": [
        "k_neighbours = 75\n",
        "def find_neighbours(activations, index, layer, knn_eps):\n",
        "  act = activations[layer]\n",
        "  neighbors = index.query(act, k=k_neighbours, epsilon=knn_eps)\n",
        "  return neighbors\n",
        "\n",
        "def correct_neighbours_count(neihgbours):\n",
        "  correct_neighbours = [0] * (k_neighbours + 1)\n",
        "  for i in range(0, neihgbours[0].shape[0]):\n",
        "    correct = 0\n",
        "    for j in neihgbours[0][i]:\n",
        "      if (np.argmax(y_train[j]) == (np.argmax(y_test[i]))):\n",
        "        correct += 1\n",
        "    correct_neighbours[correct] += 1\n",
        "  return correct_neighbours\n",
        "\n",
        "def compare_neigbours(neighbours, layer, eps):\n",
        "  plt.figure(figsize=(15,5))\n",
        "  x_ax = np.arange(len(neighbours[layer][0.0]))\n",
        "  plt.bar(x_ax-0.2, neighbours[layer][0.0], 0.4, label = 'Epsilon: 0.0')\n",
        "  plt.bar(x_ax+0.2, neighbours[layer][eps], 0.4, label = 'Epsilon: ' + str(eps))\n",
        "\n",
        "  plt.xlabel(\"Neigbours\")\n",
        "  plt.ylabel(\"Number of correct neigbours\")\n",
        "  plt.title(\"Number of correct neigbours on layer number: \" + str(layer+1))\n",
        "  plt.legend()\n",
        "\n",
        "  plt.xticks(x_ax);\n",
        "  plt.show() "
      ],
      "metadata": {
        "id": "vN0zmLu51IYz"
      },
      "execution_count": 16,
      "outputs": []
    },
    {
      "cell_type": "markdown",
      "source": [
        "Get activations on each layer"
      ],
      "metadata": {
        "id": "q9kmaI6C2ZWd"
      }
    },
    {
      "cell_type": "code",
      "source": [
        "def get_activations(dataset):\n",
        "  activations = {}\n",
        "  for eps in epsilons:\n",
        "    activations[eps] = reshaped_layer(model, dataset[eps])\n",
        "  return activations\n",
        "\n",
        "activations = get_activations(fgsm_adversarials)"
      ],
      "metadata": {
        "id": "4i4Cl-XHrpsL"
      },
      "execution_count": 17,
      "outputs": []
    },
    {
      "cell_type": "code",
      "source": [
        "%%time\n",
        "# With GPU\n",
        "# 7 min\n",
        "neighbors = {}\n",
        "for layer in range (0,4):\n",
        "  neighbors[layer] = {} # useless?\n",
        "  for eps in epsilons:\n",
        "    neighbors[layer][eps] = find_neighbours(activations[eps], index_act[layer], layer, 0.1)"
      ],
      "metadata": {
        "id": "bIXj_A2LYaGG",
        "colab": {
          "base_uri": "https://localhost:8080/"
        },
        "outputId": "59bb352c-dc5c-4c00-9371-01fe3d724abb"
      },
      "execution_count": 18,
      "outputs": [
        {
          "output_type": "stream",
          "name": "stdout",
          "text": [
            "CPU times: user 6min 49s, sys: 2.18 s, total: 6min 52s\n",
            "Wall time: 6min 47s\n"
          ]
        }
      ]
    },
    {
      "cell_type": "code",
      "source": [
        "correct_neighbours = {}\n",
        "for layer in range (0,4):\n",
        "  correct_neighbours[layer] = {}\n",
        "  for eps in epsilons:\n",
        "    correct_neighbours[layer][eps] = correct_neighbours_count(neighbors[layer][eps])"
      ],
      "metadata": {
        "id": "HP59_0wGDbLe"
      },
      "execution_count": 19,
      "outputs": []
    },
    {
      "cell_type": "code",
      "source": [
        "compare_neigbours(correct_neighbours, 3, 0.2)"
      ],
      "metadata": {
        "id": "R8FSDrFEg3M8",
        "colab": {
          "base_uri": "https://localhost:8080/",
          "height": 350
        },
        "outputId": "88bae381-f92c-43b7-c536-cf1e7db70dcf"
      },
      "execution_count": 20,
      "outputs": [
        {
          "output_type": "display_data",
          "data": {
            "text/plain": [
              "<Figure size 1080x360 with 1 Axes>"
            ],
            "image/png": "[encoded data removed]"
          },
          "metadata": {
            "needs_background": "light"
          }
        }
      ]
    },
    {
      "cell_type": "markdown",
      "source": [
        "Calibration set"
      ],
      "metadata": {
        "id": "X3aDIbZFVkNI"
      }
    },
    {
      "cell_type": "code",
      "source": [
        "activations_calib = reshaped_layer(model, x_cal)\n",
        "neigbours_calib = {}\n",
        "for layer in range (0,4):\n",
        "  neigbours_calib[layer] = find_neighbours(activations_calib, index_act[layer], layer, 0.1)[0]"
      ],
      "metadata": {
        "id": "r0c49p1zRh4Y"
      },
      "execution_count": 21,
      "outputs": []
    },
    {
      "cell_type": "code",
      "source": [
        "# Returns how many neighbours does not match real label\n",
        "def nonconformity_calibration(neihgbours_arr, y_true, y_predicted):\n",
        "  nonconformity = []\n",
        "  for i in range(0, neihgbours_arr.shape[0]):\n",
        "    incorrect = 0\n",
        "    for j in neihgbours_arr[i]:\n",
        "      if (np.argmax(y_true[j]) != (np.argmax(y_predicted[i]))):\n",
        "        incorrect += 1\n",
        "    nonconformity.append(incorrect)\n",
        "  return np.array(nonconformity)"
      ],
      "metadata": {
        "id": "parOfY6ZLmsN"
      },
      "execution_count": 22,
      "outputs": []
    },
    {
      "cell_type": "code",
      "source": [
        "# nonconformity of calib\n",
        "nonconformity_calib = np.zeros(neigbours_calib[0].shape[0])\n",
        "for layer in range (0,4):\n",
        "  nonconformity_calib += nonconformity_calibration(neigbours_calib[layer], y_train, y_cal)\n",
        "\n",
        "# sort\n",
        "nonconformity_calib =  np.sort(nonconformity_calib)\n",
        "# trim zeros\n",
        "nonconformity_calib = np.trim_zeros(nonconformity_calib, trim='f')"
      ],
      "metadata": {
        "id": "ABrf9OOwTn06"
      },
      "execution_count": 30,
      "outputs": []
    },
    {
      "cell_type": "code",
      "source": [
        "# calculate_nonconformity for each class based on calibration\n",
        "def calculate_nonconformity(eps):\n",
        "  nonconformity_for_class = np.full((x_test.shape[0], num_classes), k_neighbours * 4, dtype=np.float32)\n",
        "\n",
        "  for i in range(0, x_test.shape[0]):\n",
        "    for layer in range(0,4):\n",
        "      neighours_for_layer = neighbors[layer][eps][0]\n",
        "      for neigh in neighours_for_layer[i]:\n",
        "        nonconformity_for_class[i][np.argmax(y_train[neigh])] -= 1\n",
        "\n",
        "  return nonconformity_for_class\n",
        "\n",
        "def calculate_p_values(nonconformity_for_class, nonconformity):\n",
        "  p_values = np.empty((x_test.shape[0], num_classes),  dtype=np.float32)\n",
        "  for i in range(0, x_test.shape[0]):\n",
        "    for j in range(0, num_classes):\n",
        "      insert_index = bisect_left(nonconformity, nonconformity_for_class[i][j])\n",
        "      p_values[i][j] = (nonconformity.shape[0] - insert_index) / nonconformity.shape[0]\n",
        "  return p_values\n",
        "\n",
        "def predict_labels():\n",
        "  knn_predicted_labels = []\n",
        "  for i in range(0, x_test.shape[0]):\n",
        "    knn_predicted_labels.append(np.argmin(nonconformity_for_class[i]))\n",
        "  return np.array(knn_predicted_labels)"
      ],
      "metadata": {
        "id": "4dAiFP5rkr5D"
      },
      "execution_count": 64,
      "outputs": []
    },
    {
      "cell_type": "code",
      "source": [
        "nonconformity_for_class = calculate_nonconformity(0.0)\n",
        "p_values = calculate_p_values(nonconformity_for_class, nonconformity_calib)\n",
        "knn_predicted_labels = predict_labels()"
      ],
      "metadata": {
        "id": "lZNf4sVyvRtR"
      },
      "execution_count": 92,
      "outputs": []
    },
    {
      "cell_type": "code",
      "source": [
        "def model_accuracy(labels1, labels2):\n",
        "  correct = 0\n",
        "  for i in range(9250):\n",
        "    if labels1[i] == labels2[i]:\n",
        "      correct += 1\n",
        "  return (correct/9250 * 100)\n",
        "\n",
        "model_accuracy = model_accuracy(knn_predicted_labels, y_test_not_one_hot)\n",
        "print(model_accuracy)"
      ],
      "metadata": {
        "colab": {
          "base_uri": "https://localhost:8080/"
        },
        "id": "IjMgMdD5DvWC",
        "outputId": "1a700a25-d981-4785-f35b-e1a03fc40c27"
      },
      "execution_count": 66,
      "outputs": [
        {
          "output_type": "stream",
          "name": "stdout",
          "text": [
            "99.0054054054054\n"
          ]
        }
      ]
    },
    {
      "cell_type": "code",
      "source": [
        "def calculate_performance_per_cred():\n",
        "  credibility = np.max(p_values, axis=1)\n",
        "  distribution = np.zeros(10)\n",
        "  correct_labels = np.zeros(10)\n",
        "\n",
        "  for i in range(credibility.shape[0]):\n",
        "    bin = credibility[i] // 0.1 / 10\n",
        "    bin_index = int(bin*10)\n",
        "    distribution[bin_index] += 1\n",
        "    if (knn_predicted_labels[i] == y_test_not_one_hot[i]):\n",
        "      correct_labels[bin_index] += 1\n",
        "\n",
        "  for i in range(correct_labels.shape[0]):\n",
        "    correct_labels[i] /=  distribution[i]\n",
        "\n",
        "  return distribution, correct_labels \n",
        "\n",
        "print(dis_test)\n",
        "print(accuracies_per_cred)"
      ],
      "metadata": {
        "colab": {
          "base_uri": "https://localhost:8080/"
        },
        "id": "sBqRBe_fGN3b",
        "outputId": "cd08bb53-1bfa-4933-a662-a56da8ce4519"
      },
      "execution_count": 141,
      "outputs": [
        {
          "output_type": "stream",
          "name": "stdout",
          "text": [
            "[ 266.  385.  411.  320.  254.  379.  198.  245.  395. 6397.]\n",
            "[0.78947368 0.95584416 0.98053528 0.98125    0.99212598 0.99736148\n",
            " 0.99494949 1.         1.         0.99984368]\n"
          ]
        }
      ]
    },
    {
      "cell_type": "code",
      "source": [
        "def count_probabilites_distribution():\n",
        "  distribution = np.zeros(10)\n",
        "  credibility = np.max(p_values, axis=1)\n",
        "  begin = 0.0\n",
        "  end = 0.1\n",
        "  for i in range(10):\n",
        "    if i == 9:\n",
        "      distribution[i] = ((begin <= credibility) & (credibility <= end)).sum()\n",
        "    else:\n",
        "      distribution[i] = ((begin <= credibility) & (credibility < end)).sum()\n",
        "    begin += 0.1\n",
        "    end += 0.1\n",
        "  return distribution\n",
        "\n",
        "distribution = count_probabilites_distribution()\n",
        "\n",
        "def plot_reliability(confidence, predicted_labels, true_labels):\n",
        "\n",
        "    bars_begin = [0.0, 0.1, 0.2, 0.3, 0.4, 0.5, 0.6, 0.7, 0.8, 0.9]\n",
        "    bars_end = [0.1, 0.2, 0.3, 0.4, 0.5, 0.6, 0.7, 0.8, 0.9, 1.0]\n",
        "    bars_center = [0.05, 0.15, 0.25, 0.35, 0.45, 0.55, 0.65, 0.75, 0.85, 0.95]\n",
        "    \n",
        "    num_points, reliability_diag = calculate_performance_per_cred()\n",
        "\n",
        "    fig, ax1 = plt.subplots()\n",
        "    ax1.bar(bars_center, reliability_diag, width=.1, alpha=0.8, edgecolor = \"black\")\n",
        "    ax1.set_ylim([0, 1.])\n",
        "\n",
        "    ax2 = ax1.twinx()\n",
        "\n",
        "    ax2.plot(bars_center, num_points, color='r', linestyle='-', linewidth=6.0)\n",
        "\n",
        "    ax2.set_ylabel('Number of points in dataset', color='r')\n",
        "    ax1.set_xlabel('Prediction Credibility')\n",
        "    ax1.set_ylabel('Prediction Accuracy')\n",
        "    ax2.tick_params(colors='r')\n",
        "    plt.show()"
      ],
      "metadata": {
        "id": "E_kkVTkOtfgf"
      },
      "execution_count": 178,
      "outputs": []
    },
    {
      "cell_type": "code",
      "source": [
        "plot_reliability(p_values, knn_predicted_labels, y_test_not_one_hot)"
      ],
      "metadata": {
        "colab": {
          "base_uri": "https://localhost:8080/",
          "height": 283
        },
        "id": "2mo5-c7z6B3Q",
        "outputId": "99b5ee51-1a57-4f2f-ce70-c1c44f847b03"
      },
      "execution_count": 179,
      "outputs": [
        {
          "output_type": "display_data",
          "data": {
            "text/plain": [
              "<Figure size 432x288 with 2 Axes>"
            ],
            "image/png": "[encoded data removed]"
          },
          "metadata": {
            "needs_background": "light"
          }
        }
      ]
    }
  ]
}