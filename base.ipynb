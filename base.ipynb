{
  "cells": [
    {
      "cell_type": "markdown",
      "metadata": {
        "id": "view-in-github",
        "colab_type": "text"
      },
      "source": [
        "<a href=\"https://colab.research.google.com/github/Topolewski-Kamil/dKnn/blob/main/base.ipynb\" target=\"_parent\"><img src=\"https://colab.research.google.com/assets/colab-badge.svg\" alt=\"Open In Colab\"/></a>"
      ]
    },
    {
      "cell_type": "code",
      "source": [
        "model_str = ''\n",
        "neihbours_nnd_index = ''\n",
        "adv_ex = ''\n",
        "neihbours_nnd = ''\n",
        "neihbours_lsh = ''\n",
        "\n",
        "# model_str = 'a'\n",
        "# neihbours_nnd_index = 'a'\n",
        "# adv_ex = 'a'\n",
        "# neihbours_nnd = 'a'\n",
        "# neihbours_lsh = 'a'\n",
        "\n",
        "compute = False\n",
        "compute2 = False"
      ],
      "metadata": {
        "id": "2H1UpcjLzCHk"
      },
      "execution_count": 1,
      "outputs": []
    },
    {
      "cell_type": "markdown",
      "metadata": {
        "id": "7bimNvVLP0XD"
      },
      "source": [
        "Mount drive"
      ]
    },
    {
      "cell_type": "code",
      "execution_count": 2,
      "metadata": {
        "colab": {
          "base_uri": "https://localhost:8080/"
        },
        "id": "PLe7HBrK7CbQ",
        "outputId": "93b57360-4f35-4216-9e79-b688f3c48de4"
      },
      "outputs": [
        {
          "output_type": "stream",
          "name": "stdout",
          "text": [
            "Drive already mounted at /content/drive; to attempt to forcibly remount, call drive.mount(\"/content/drive\", force_remount=True).\n",
            "/content/drive/My Drive/disseration\n"
          ]
        }
      ],
      "source": [
        "from google.colab import drive\n",
        "drive.mount('/content/drive')\n",
        "%cd /content/drive/My Drive/disseration"
      ]
    },
    {
      "cell_type": "markdown",
      "metadata": {
        "id": "PJn05KsnfDLI"
      },
      "source": [
        "Import modules"
      ]
    },
    {
      "cell_type": "code",
      "execution_count": 3,
      "metadata": {
        "id": "SnZbGpex18E5",
        "colab": {
          "base_uri": "https://localhost:8080/"
        },
        "outputId": "f09946c0-de14-4699-8e0a-e70596cd24fa"
      },
      "outputs": [
        {
          "output_type": "stream",
          "name": "stdout",
          "text": [
            "Requirement already satisfied: pynndescent in /usr/local/lib/python3.7/dist-packages (0.5.6)\n",
            "Requirement already satisfied: scipy>=1.0 in /usr/local/lib/python3.7/dist-packages (from pynndescent) (1.4.1)\n",
            "Requirement already satisfied: joblib>=0.11 in /usr/local/lib/python3.7/dist-packages (from pynndescent) (1.1.0)\n",
            "Requirement already satisfied: scikit-learn>=0.18 in /usr/local/lib/python3.7/dist-packages (from pynndescent) (1.0.2)\n",
            "Requirement already satisfied: llvmlite>=0.30 in /usr/local/lib/python3.7/dist-packages (from pynndescent) (0.34.0)\n",
            "Requirement already satisfied: numba>=0.51.2 in /usr/local/lib/python3.7/dist-packages (from pynndescent) (0.51.2)\n",
            "Requirement already satisfied: setuptools in /usr/local/lib/python3.7/dist-packages (from numba>=0.51.2->pynndescent) (57.4.0)\n",
            "Requirement already satisfied: numpy>=1.15 in /usr/local/lib/python3.7/dist-packages (from numba>=0.51.2->pynndescent) (1.21.6)\n",
            "Requirement already satisfied: threadpoolctl>=2.0.0 in /usr/local/lib/python3.7/dist-packages (from scikit-learn>=0.18->pynndescent) (3.1.0)\n",
            "Requirement already satisfied: falconn in /usr/local/lib/python3.7/dist-packages (1.3.1)\n",
            "Requirement already satisfied: annoy in /usr/local/lib/python3.7/dist-packages (1.17.0)\n",
            "Requirement already satisfied: faiss-gpu in /usr/local/lib/python3.7/dist-packages (1.7.2)\n"
          ]
        }
      ],
      "source": [
        "%tensorflow_version 2.x\n",
        "\n",
        "import numpy as np\n",
        "import string\n",
        "import os\n",
        "from bisect import bisect_left\n",
        "import pickle\n",
        "\n",
        "import keras\n",
        "import tensorflow as tf\n",
        "from tensorflow import keras\n",
        "from keras import layers\n",
        "from keras import backend as K\n",
        "from keras.models import load_model\n",
        "from keras.losses import MSE\n",
        "from keras.models import Sequential\n",
        "from keras.layers import Conv2D, Lambda, MaxPooling2D\n",
        "from keras.layers import Dense, Dropout, Flatten\n",
        "from tensorflow.keras.layers import BatchNormalization\n",
        "from keras.preprocessing.image import ImageDataGenerator\n",
        "\n",
        "from keras.utils.np_utils import to_categorical\n",
        "\n",
        "import matplotlib\n",
        "import matplotlib.pyplot as plt\n",
        "import seaborn as sns\n",
        "\n",
        "# approximate nearest neighbours libraries\n",
        "!pip install pynndescent\n",
        "!pip install falconn\n",
        "!pip install annoy\n",
        "!pip install faiss-gpu\n",
        "\n",
        "import faiss\n",
        "import pynndescent\n",
        "import falconn\n",
        "import annoy"
      ]
    },
    {
      "cell_type": "markdown",
      "metadata": {
        "id": "XvbVxy5tfCwQ"
      },
      "source": [
        "Mnist dataset"
      ]
    },
    {
      "cell_type": "code",
      "execution_count": 4,
      "metadata": {
        "id": "hXAsY2jo1_y7"
      },
      "outputs": [],
      "source": [
        "num_classes = 10\n",
        "input_shape = (28, 28, 1)\n",
        "\n",
        "# import mnist data\n",
        "(x_train, y_train), (x_test, y_test) = keras.datasets.mnist.load_data()\n",
        "\n",
        "# Scale to [0, 1] size\n",
        "x_train = x_train.astype(\"float32\") / 255\n",
        "x_test = x_test.astype(\"float32\") / 255\n",
        "\n",
        "# Make images shape (28, 28, 1)\n",
        "x_train = np.expand_dims(x_train, -1)\n",
        "x_test = np.expand_dims(x_test, -1)\n",
        "\n",
        "# keep raw labels in separate array\n",
        "y_test_raw = y_test[750:10000]\n",
        "y_train_raw = y_train\n",
        "y_cal_raw = y_test[0:750]\n",
        "\n",
        "# convert labels to one hot enconding\n",
        "y_train = keras.utils.to_categorical(y_train, num_classes)\n",
        "y_test = keras.utils.to_categorical(y_test, num_classes)\n",
        "\n",
        "# split test set into calibration set\n",
        "x_cal = x_test[0:750] \n",
        "y_cal = y_test[0:750]\n",
        "x_test = x_test[750:10000]\n",
        "y_test = y_test[750:10000]"
      ]
    },
    {
      "cell_type": "markdown",
      "metadata": {
        "id": "jNU51mw7fU3A"
      },
      "source": [
        "Initialize CNN model"
      ]
    },
    {
      "cell_type": "code",
      "source": [
        "if compute2:\n",
        "  model = keras.Sequential(\n",
        "      [\n",
        "          keras.Input(shape=input_shape),\n",
        "          layers.Conv2D(64, kernel_size=(8, 8), strides=(2,2), padding='same', activation='relu', input_shape=x_train.shape[1:]),\n",
        "          layers.Conv2D(128, kernel_size=(6, 6), strides=(2,2), padding='valid', activation='relu'),\n",
        "          layers.Conv2D(128, kernel_size=(5, 5), strides=(1,1), padding='valid', activation='relu'),\n",
        "          layers.Flatten(),\n",
        "          layers.Dropout(0.5),\n",
        "          layers.Dense(10, activation=tf.nn.softmax),\n",
        "      ]\n",
        "  )\n",
        "\n",
        "  batch_size = 500\n",
        "  epochs = 8\n",
        "\n",
        "  adam_opt = keras.optimizers.Adam(learning_rate=0.001)\n",
        "  model.compile(loss=\"categorical_crossentropy\", optimizer=adam_opt, metrics=[\"accuracy\"])\n",
        "\n",
        "  neighbours_layers_indexes = [0,1,2]\n",
        "  knn_layers_count = len(neighbours_layers_indexes)"
      ],
      "metadata": {
        "id": "IrTFfvZfd8t1"
      },
      "execution_count": 5,
      "outputs": []
    },
    {
      "cell_type": "markdown",
      "metadata": {
        "id": "HEN5GHtXts6c"
      },
      "source": [
        "Train model\n"
      ]
    },
    {
      "cell_type": "code",
      "execution_count": 6,
      "metadata": {
        "id": "40vD00Gi--3N"
      },
      "outputs": [],
      "source": [
        "if compute2:\n",
        "  # try loading model from files\n",
        "  try:\n",
        "    model = load_model(model_str + 'deepKNN_model_new.h5')\n",
        "    print(\"loaded model from disc\")\n",
        "\n",
        "  # otherwise train from scratch\n",
        "  except OSError:\n",
        "    print(\"failed to load model from disc\")\n",
        "    model.fit(x_train, y_train, batch_size=batch_size, epochs=epochs, validation_split=0.1)\n",
        "    # model.save('deepKNN_model_new.h5')  # creates a HDF5 file\n",
        "    print(\"saved model successfully\")"
      ]
    },
    {
      "cell_type": "markdown",
      "metadata": {
        "id": "hpLgAqfwuBOH"
      },
      "source": [
        "Evaluate model"
      ]
    },
    {
      "cell_type": "code",
      "execution_count": 7,
      "metadata": {
        "id": "0k9rrKu2_6dT"
      },
      "outputs": [],
      "source": [
        "if compute2:\n",
        "  score = model.evaluate(x_test, y_test, verbose=0)\n",
        "  print(\"Test accuracy:\", score[1])"
      ]
    },
    {
      "cell_type": "markdown",
      "metadata": {
        "id": "5peKiYbPuO9S"
      },
      "source": [
        "Generate Adversarial Examples"
      ]
    },
    {
      "cell_type": "code",
      "execution_count": 8,
      "metadata": {
        "id": "Xwul9XrXGnlu"
      },
      "outputs": [],
      "source": [
        "def generate_image_adversary(model, image, label, eps):\n",
        "\n",
        "  # Make images shape (1, 28, 28, 1)\n",
        "  image = tf.cast(image.reshape(1, 28, 28, 1), tf.float32)\n",
        "\n",
        "  # record our gradients\n",
        "  with tf.GradientTape() as tape:\n",
        "\n",
        "    # start tracing image by the Tape\n",
        "    tape.watch(image)\n",
        "\n",
        "    #compute prediction\n",
        "    pred = model(image)\n",
        "\n",
        "    # compute loss\n",
        "    loss = MSE(label, pred)\n",
        "\n",
        "    # calculate the gradient of loss function \n",
        "    grad = tape.gradient(loss, image)\n",
        "\n",
        "    # compute the sign of the gradient\n",
        "    sign = tf.sign(grad)\n",
        "\n",
        "    # create perturbation\n",
        "    perturbation = sign * eps\n",
        "\n",
        "    # apply perturbation to image\n",
        "    adversary = (image + perturbation).numpy()\n",
        "\n",
        "    # Make images shape (28, 28, 1)\n",
        "    adversary = adversary.reshape(28, 28, 1)\n",
        "    \n",
        "    return adversary"
      ]
    },
    {
      "cell_type": "code",
      "execution_count": 9,
      "metadata": {
        "id": "dZDacbiljIqC"
      },
      "outputs": [],
      "source": [
        "def load_adversarial(folder):\n",
        "  adversaries = {}\n",
        "  for eps in epsilons:\n",
        "    eps_str = str(eps)\n",
        "    eps_str = eps_str.translate(str.maketrans('', '', string.punctuation))\n",
        "    path = folder + 'adv_datasets/adversaries' + eps_str + adv_ex + '.npy'\n",
        "    adversaries[eps] = np.load(path)\n",
        "  return adversaries\n",
        "\n",
        "def save_adversarial(adversaries, folder):\n",
        "  for eps in epsilons:\n",
        "    eps_str = str(eps)\n",
        "    eps_str = eps_str.translate(str.maketrans('', '', string.punctuation))\n",
        "    filename = folder + 'adv_datasets/adversaries' + eps_str + '.npy'\n",
        "    np.save(filename, adversaries[eps])\n",
        "    print('saved ' + str(eps))"
      ]
    },
    {
      "cell_type": "code",
      "execution_count": 10,
      "metadata": {
        "id": "dFNscG2vGTTk"
      },
      "outputs": [],
      "source": [
        "if compute2:\n",
        "  epsilons = [0.025, 0.05, 0.075, 0.1, 0.125, 0.15]\n",
        "  try:\n",
        "    fgsm_adversarials = load_adversarial('')\n",
        "    epsilons.insert(0, 0.0)\n",
        "    fgsm_adversarials[0.0] = x_test\n",
        "    print('loaded adversarial datasets from disc')\n",
        "  except FileNotFoundError:\n",
        "    print('failed to load adversarial datasets from disc')\n",
        "    fgsm_adversarials = {}\n",
        "    for eps in epsilons:\n",
        "      adv = []\n",
        "      for i in range(x_test.shape[0]):\n",
        "        adv.append(generate_image_adversary(model, x_test[i], y_test[i], eps))\n",
        "      fgsm_adversarials[eps] = np.array(adv)\n",
        "      # save_adversarial(fgsm_adversarials, '')\n",
        "    epsilons.insert(0, 0.0)\n",
        "    fgsm_adversarials[0.0] = x_test"
      ]
    },
    {
      "cell_type": "markdown",
      "metadata": {
        "id": "ag3lTS_6uXlK"
      },
      "source": [
        "Test model on adversarial attacks"
      ]
    },
    {
      "cell_type": "code",
      "execution_count": 11,
      "metadata": {
        "id": "N8h0dWvU46HD"
      },
      "outputs": [],
      "source": [
        "def plot_accuracy_vs_epsilon(model, fgsm_adversarials):\n",
        "  accuracies_plot = []\n",
        "  for eps in epsilons:\n",
        "    adversary_score = model.evaluate(fgsm_adversarials[eps], y_test, verbose=0)\n",
        "    accuracies_plot.append(adversary_score[1] * 100)\n",
        "    print(adversary_score)\n",
        "\n",
        "  plt.figure(figsize=(5,5))\n",
        "  plt.plot(epsilons, accuracies_plot, linestyle='--', marker='o', color='b', label = 'DNN')\n",
        "\n",
        "  plt.yticks(np.arange(0, 101, step=10))\n",
        "  plt.xticks(np.arange(0, 0.16, step=0.025))\n",
        "  plt.xlabel(\"Epsilon\")\n",
        "  plt.ylabel(\"Accuracy\")\n",
        "  plt.title(\"Accuracy vs Epsilon\")\n",
        "  plt.legend()\n",
        "\n",
        "if compute2:\n",
        "  plot_accuracy_vs_epsilon(model, fgsm_adversarials)\n",
        "  plt.show()"
      ]
    },
    {
      "cell_type": "markdown",
      "metadata": {
        "id": "mpwkx6_vubcU"
      },
      "source": [
        "Plot some adversarial examples"
      ]
    },
    {
      "cell_type": "code",
      "execution_count": 12,
      "metadata": {
        "id": "xWlEh8ax2Wif"
      },
      "outputs": [],
      "source": [
        "def plot_adv_examples():\n",
        "  counter = 0\n",
        "  plt.figure(figsize=(10,15))\n",
        "\n",
        "  for eps in epsilons:\n",
        "    adv_img = fgsm_adversarials[eps][10:15]\n",
        "    true_label = y_test[10:15]\n",
        "\n",
        "    adv_results = model.predict(fgsm_adversarials[eps][10:15])\n",
        "    predicted_labels = []\n",
        "    for result in adv_results:\n",
        "      predicted_labels.append(np.argmax(result))\n",
        "\n",
        "    for i in range(5):\n",
        "        counter += 1\n",
        "        plt.subplot(len(epsilons), 5, counter)\n",
        "        plt.xticks([], [])\n",
        "        plt.yticks([], [])\n",
        "\n",
        "        if i == 0:\n",
        "          plt.ylabel('Eps: '+ str(eps), fontsize=14)\n",
        "\n",
        "        label = np.argmax(true_label[i])\n",
        "        if predicted_labels[i] != label:\n",
        "          incorrect_label = plt.title('Pred. label: ' + str(predicted_labels[i]))\n",
        "          plt.setp(incorrect_label, color='r')\n",
        "        else:\n",
        "          if eps == 0.0:\n",
        "            plt.title(r\"$\\bf{\" + 'True label:' + str(label) + \"}$\" + '\\n\\nPred. label:' + str(predicted_labels[i]))\n",
        "          else:\n",
        "            plt.title('Pred. label: ' + str(predicted_labels[i]))\n",
        "\n",
        "        plt.imshow(np.squeeze(adv_img[i]), cmap=\"gray\")\n",
        "  plt.show()\n",
        "\n",
        "if compute2:\n",
        "  plot_adv_examples()"
      ]
    },
    {
      "cell_type": "markdown",
      "source": [
        "Functions for saving and loading precalulated neighbours"
      ],
      "metadata": {
        "id": "YZstnzNU1a4Q"
      }
    },
    {
      "cell_type": "code",
      "source": [
        "def save_pickle(save_object, filename):\n",
        "  with open(filename, 'wb') as f:\n",
        "    pickle.dump(save_object, f)\n",
        "\n",
        "def load_pickle(filename):\n",
        "  with open(filename, 'rb') as f:\n",
        "    loaded_object = pickle.load(f)\n",
        "    return loaded_object"
      ],
      "metadata": {
        "id": "k6FvfQiGxqkA"
      },
      "execution_count": 13,
      "outputs": []
    },
    {
      "cell_type": "markdown",
      "metadata": {
        "id": "ypCORPPYuCnD"
      },
      "source": [
        "Function getting activations on each layer"
      ]
    },
    {
      "cell_type": "code",
      "execution_count": 37,
      "metadata": {
        "id": "vbe44bA_cgDt"
      },
      "outputs": [],
      "source": [
        "def get_activations(model, dataset, neighbours_layers_indexes):\n",
        "    reshaped_output_layer = []\n",
        "    for i in neighbours_layers_indexes: # 0,1,2-convolutions layer, 5-dense layer\n",
        "        layer = model.layers[i]\n",
        "        lay_act = K.function([model.layers[0].input], [layer.output])([dataset])[0]\n",
        "        if i != 4:\n",
        "          reshaped_output_layer.append(lay_act.reshape(lay_act.shape[0], lay_act.shape[1]*lay_act.shape[2]*lay_act.shape[3]))\n",
        "        else: \n",
        "          reshaped_output_layer.append(lay_act)\n",
        "    \n",
        "    for layer in reshaped_output_layer:\n",
        "        layer /= np.linalg.norm(layer, axis=1).reshape(-1, 1)\n",
        "\n",
        "    return reshaped_output_layer"
      ]
    },
    {
      "cell_type": "markdown",
      "metadata": {
        "id": "GZ6NnXKwRGEi"
      },
      "source": [
        "Index trainingset knn"
      ]
    },
    {
      "cell_type": "code",
      "execution_count": 15,
      "metadata": {
        "id": "9TXtYx9avPz6"
      },
      "outputs": [],
      "source": [
        "if compute2:\n",
        "  activations_train = get_activations(model, x_train, neighbours_layers_indexes)\n",
        "\n",
        "def index_layer(activations_train):\n",
        "  index_act = pynndescent.NNDescent(activations_train) # index training data\n",
        "  index_act.prepare() # prepare for faster query\n",
        "  return index_act\n",
        "\n",
        "if compute:\n",
        "  try: \n",
        "    index_act = load_pickle(neihbours_nnd_index + 'neighbours_index_new.pkl')\n",
        "    print('loaded neighbours index from disc')\n",
        "  except FileNotFoundError:\n",
        "    print('failed to load neighbours index from disc')\n",
        "    index_act = {}\n",
        "    for layer in range (knn_layers_count):\n",
        "      index_act[layer] = index_layer(activations_train[layer])\n",
        "    # save_pickle(index_act, 'neighbours_index_new.pkl')"
      ]
    },
    {
      "cell_type": "markdown",
      "source": [
        "Find Neigbours on each layer of training data"
      ],
      "metadata": {
        "id": "5hLfbSdE1Fh8"
      }
    },
    {
      "cell_type": "code",
      "execution_count": 16,
      "metadata": {
        "id": "bIXj_A2LYaGG"
      },
      "outputs": [],
      "source": [
        "# get activations of test set on each layer\n",
        "if compute2:\n",
        "  activations = {}\n",
        "  for eps in epsilons:\n",
        "    activations[eps] = get_activations(model, fgsm_adversarials[eps], neighbours_layers_indexes)\n",
        "\n",
        "k_neighbours = 75\n",
        "def find_neighbours(activations, index, knn_eps):\n",
        "  neighbors = index.query(activations, k=k_neighbours, epsilon=knn_eps)\n",
        "  neighbors_labels = y_train_raw[neighbors[0]]\n",
        "  return neighbors_labels\n",
        "  \n",
        "if compute:\n",
        "  try:\n",
        "    neighbors = load_pickle(neihbours_nnd + 'neighbours_new.pkl')\n",
        "    print('loaded neighbours from disc')\n",
        "  except FileNotFoundError:\n",
        "    print('failed to load neighbours from disc')\n",
        "    neighbors = {}\n",
        "    for layer in range (knn_layers_count):\n",
        "      neighbors[layer] = {}\n",
        "      for eps in epsilons:\n",
        "        neighbors[layer][eps] = find_neighbours(activations[eps][layer], index_act[layer], 0.1)\n",
        "    # save_pickle(neighbors, 'neighbours_new.pkl')"
      ]
    },
    {
      "cell_type": "markdown",
      "source": [
        "Calculate correct neighbours"
      ],
      "metadata": {
        "id": "_-E-W-P88ZsA"
      }
    },
    {
      "cell_type": "code",
      "execution_count": 17,
      "metadata": {
        "id": "HP59_0wGDbLe"
      },
      "outputs": [],
      "source": [
        "def correct_neighbours_count(neihgbours):\n",
        "  correct_neighbours = [0] * (k_neighbours + 1)\n",
        "  for i in range(0, neihgbours.shape[0]):\n",
        "    correct = np.sum(neihgbours[i] == y_test_raw[i])\n",
        "    correct_neighbours[correct] += 1\n",
        "  return correct_neighbours\n",
        "\n",
        "def compare_neigbours(neighbours, layer, eps):\n",
        "  plt.figure(figsize=(15,5))\n",
        "  x_ax = np.arange(len(neighbours[layer][0.0]))\n",
        "  plt.bar(x_ax-0.2, neighbours[layer][0.0], 0.4, label = 'Epsilon: 0.0')\n",
        "  plt.bar(x_ax+0.2, neighbours[layer][eps], 0.4, label = 'Epsilon: ' + str(eps))\n",
        "\n",
        "  plt.xlabel(\"Neigbours\")\n",
        "  plt.ylabel(\"Number of correct neigbours\")\n",
        "  plt.title(\"Number of correct neigbours on layer number: \" + str(layer+1))\n",
        "  plt.legend()\n",
        "\n",
        "  plt.xticks(x_ax);\n",
        "  plt.show() \n",
        "\n",
        "if compute:\n",
        "  correct_neighbours = {}\n",
        "  for layer in range (knn_layers_count):\n",
        "    correct_neighbours[layer] = {}\n",
        "    for eps in epsilons:\n",
        "      correct_neighbours[layer][eps] = correct_neighbours_count(neighbors[layer][eps])\n",
        "\n",
        "  compare_neigbours(correct_neighbours, 0, 0.15)"
      ]
    },
    {
      "cell_type": "markdown",
      "metadata": {
        "id": "X3aDIbZFVkNI"
      },
      "source": [
        "Calibration set"
      ]
    },
    {
      "cell_type": "code",
      "execution_count": 50,
      "metadata": {
        "id": "r0c49p1zRh4Y"
      },
      "outputs": [],
      "source": [
        "if compute2:\n",
        "  activations_calib = get_activations(model, x_cal, neighbours_layers_indexes)\n",
        "\n",
        "if compute:\n",
        "  neigbours_calib = {}\n",
        "  for layer in range (knn_layers_count):\n",
        "    neigbours_calib[layer] = find_neighbours(activations_calib[layer], index_act[layer], 0.1)\n",
        "\n",
        "# Returns how many neighbours does not match real label\n",
        "def count_not_matching_labels(neihgbours_arr):\n",
        "  nonconformity = []\n",
        "  for i in range(0, neihgbours_arr.shape[0]):\n",
        "    incorrect = np.sum(neihgbours_arr[i] != y_cal_raw[i])\n",
        "    nonconformity.append(incorrect)\n",
        "\n",
        "  return np.array(nonconformity)\n",
        "\n",
        "def calibrate_nonconformity(neigbours_calib, knn_layers_count):\n",
        "  nonconformity_calib = np.zeros(neigbours_calib[0].shape[0])\n",
        "  for layer in range(knn_layers_count):\n",
        "    nonconformity_calib += count_not_matching_labels(neigbours_calib[layer])\n",
        "  # sort\n",
        "  nonconformity_calib =  np.sort(nonconformity_calib)\n",
        "  # trim zeros\n",
        "  nonconformity_calib = np.trim_zeros(nonconformity_calib, trim='f')\n",
        "\n",
        "  return nonconformity_calib\n",
        "\n",
        "if compute:\n",
        "  nonconformity_calib = calibrate_nonconformity(neigbours_calib, knn_layers_count)"
      ]
    },
    {
      "cell_type": "markdown",
      "metadata": {
        "id": "nS4yb4bLOrw2"
      },
      "source": [
        "Calculate p-values, credibility and predicted labels"
      ]
    },
    {
      "cell_type": "code",
      "execution_count": 54,
      "metadata": {
        "id": "4dAiFP5rkr5D"
      },
      "outputs": [],
      "source": [
        "# calculate_nonconformity for each class based on calibration\n",
        "def calculate_nonconformity(eps, neighbors, knn_layers_count):\n",
        "  nonconformity_for_class = np.full((x_test.shape[0], num_classes), k_neighbours * knn_layers_count, dtype=np.float32)\n",
        "  for i in range(x_test.shape[0]):\n",
        "    for layer in range(knn_layers_count):\n",
        "      for neighbour in neighbors[layer][eps][i]:\n",
        "        nonconformity_for_class[i][neighbour] -= 1\n",
        "\n",
        "  return nonconformity_for_class\n",
        "\n",
        "def calculate_p_values(nonconformity_for_class, nonconformity):\n",
        "  p_values = np.empty((x_test.shape[0], num_classes),  dtype=np.float32)\n",
        "  for i in range(x_test.shape[0]):\n",
        "    for j in range(num_classes):\n",
        "      insert_index = bisect_left(nonconformity, nonconformity_for_class[i][j])\n",
        "      p_values[i][j] = (nonconformity.shape[0] - insert_index) / nonconformity.shape[0]\n",
        "  return p_values\n",
        "\n",
        "def predict_labels(eps, nonconformity_for_class):\n",
        "  knn_predicted_labels = []\n",
        "  for i in range(x_test.shape[0]):\n",
        "    knn_predicted_labels.append(np.argmin(nonconformity_for_class[eps][i]))\n",
        "  return np.array(knn_predicted_labels)\n",
        "\n",
        "def calculate_performance_parameters(neighbors, nonconformity_calib, knn_layers_count):\n",
        "  nonconformity_for_class = {}\n",
        "  p_values = {}\n",
        "  knn_predicted_labels = {}\n",
        "  for eps in epsilons:\n",
        "    nonconformity_for_class[eps] = calculate_nonconformity(eps, neighbors, knn_layers_count)\n",
        "    p_values[eps] = calculate_p_values(nonconformity_for_class[eps], nonconformity_calib)\n",
        "    knn_predicted_labels[eps] = predict_labels(eps, nonconformity_for_class)\n",
        "  return p_values, knn_predicted_labels\n",
        "\n",
        "  \n",
        "if compute:\n",
        "  p_values, knn_predicted_labels = calculate_performance_parameters(neighbors, nonconformity_calib)"
      ]
    },
    {
      "cell_type": "markdown",
      "source": [
        "Plot performance in respect to credibility"
      ],
      "metadata": {
        "id": "LBuqeIIWVXlI"
      }
    },
    {
      "cell_type": "code",
      "execution_count": 20,
      "metadata": {
        "id": "E_kkVTkOtfgf"
      },
      "outputs": [],
      "source": [
        "def calculate_performance_per_cred(confidence, predicted_labels):\n",
        "  credibility = np.max(confidence, axis=1)\n",
        "  distribution = np.zeros(10)\n",
        "  correct_labels = np.zeros(10)\n",
        "\n",
        "  for i in range(credibility.shape[0]):\n",
        "    bin = credibility[i] // 0.1 / 10\n",
        "    bin_index = int(bin*10)\n",
        "    distribution[bin_index] += 1\n",
        "    if (predicted_labels[i] == y_test_raw[i]):\n",
        "      correct_labels[bin_index] += 1\n",
        "\n",
        "  for i in range(correct_labels.shape[0]):\n",
        "    if correct_labels[i] != 0 and distribution[i] != 0:\n",
        "      correct_labels[i] /=  distribution[i]\n",
        "\n",
        "  return distribution, correct_labels \n",
        "\n",
        "def plot_reliability(model_type, eps, confidence, predicted_labels):\n",
        "\n",
        "    # if model_type == 'DkNN':\n",
        "      # confidence = p_values[eps]\n",
        "      # predicted_labels = knn_predicted_labels[eps]\n",
        "    if model_type == 'Softmax':\n",
        "      softmax_probabilities = model.predict(fgsm_adversarials[eps])\n",
        "      softmax_classes = softmax_probabilities.argmax(axis=-1)\n",
        "      confidence = softmax_probabilities\n",
        "      # predicted_labels = softmax_classes\n",
        "\n",
        "    bars_begin = [0.0, 0.1, 0.2, 0.3, 0.4, 0.5, 0.6, 0.7, 0.8, 0.9]\n",
        "    bars_end = [0.1, 0.2, 0.3, 0.4, 0.5, 0.6, 0.7, 0.8, 0.9, 1.0]\n",
        "    bars_center = [0.05, 0.15, 0.25, 0.35, 0.45, 0.55, 0.65, 0.75, 0.85, 0.95]\n",
        "\n",
        "    num_points, reliability_diag = calculate_performance_per_cred(confidence, predicted_labels)\n",
        "\n",
        "    fig, ax1 = plt.subplots()\n",
        "    ax1.bar(bars_center, reliability_diag, width=.1, alpha=0.8, edgecolor = \"black\")\n",
        "    ax1.set_ylim([0, 1.])\n",
        "\n",
        "    ax2 = ax1.twinx()\n",
        "\n",
        "    ax2.plot(bars_center, num_points, color='r', linestyle='-', linewidth=6.0)\n",
        "\n",
        "    plt.title(\"Reliability Diagram: \" + model_type + ', eps: ' + str(eps))\n",
        "    ax2.set_ylabel('Number of points in dataset', color='r')\n",
        "    ax1.set_xlabel('Prediction Credibility')\n",
        "    ax1.set_ylabel('Prediction Accuracy')\n",
        "    ax2.tick_params(colors='r')\n",
        "    plt.show()"
      ]
    },
    {
      "cell_type": "code",
      "execution_count": 21,
      "metadata": {
        "id": "rlFQQiFAzjaZ"
      },
      "outputs": [],
      "source": [
        "if compute:\n",
        "  # plot_reliability('DkNN', 0.0, p_values[0.0], knn_predicted_labels[0.0])\n",
        "  # plot_reliability('Softmax', eps = 0.0)\n",
        "  plot_reliability('DkNN', 0.15, p_values[0.15], knn_predicted_labels[0.15])"
      ]
    },
    {
      "cell_type": "code",
      "source": [
        "def test_model_accuracy(labels1, labels2):\n",
        "  correct_labels = np.sum(labels1 == labels2)\n",
        "  return correct_labels / labels1.shape[0] * 100\n",
        "\n",
        "if compute2:\n",
        "  accuracies_plot_knn = []\n",
        "  # accuracies_plot_knn_annoy = []\n",
        "  for eps in epsilons:\n",
        "    model_accuracy = test_model_accuracy(knn_predicted_labels[eps], y_test_raw)\n",
        "    accuracies_plot_knn.append(model_accuracy)\n",
        "\n",
        "    # model_accuracy_lsh = test_model_accuracy(knn_predicted_labels_annoy[eps], y_test_raw)\n",
        "    # accuracies_plot_knn_annoy.append(model_accuracy_lsh)\n",
        "\n",
        "  plot_accuracy_vs_epsilon()\n",
        "  plt.plot(epsilons, accuracies_plot_knn, linestyle='--', marker='^', color='r', label = 'DkNN - NND')\n",
        "  # plt.plot(epsilons, accuracies_plot_knn_annoy, linestyle='--', marker='s', color='g', label = 'DkNN - Annoy')\n",
        "  plt.legend(loc='center left', bbox_to_anchor=(1, 0.5))\n",
        "  plt.show()"
      ],
      "metadata": {
        "id": "V7Po5v_B491V"
      },
      "execution_count": 22,
      "outputs": []
    },
    {
      "cell_type": "markdown",
      "source": [
        "# Faiss"
      ],
      "metadata": {
        "id": "7AdRK5UIM-Gf"
      }
    },
    {
      "cell_type": "code",
      "source": [
        "# neighbours_index_faiss = {}\n",
        "# dim = activations_train[layer].shape[1]\n",
        "# ind = faiss.IndexLSH(dim, dim * 2)\n",
        "# for layer in range(knn_layers_count):\n",
        "#   neighbours_index_faiss[layer] = faiss.IndexLSH(activations_train[layer].shape[1], dim * 4)\n",
        "#   neighbours_index_faiss[layer].add(activations_train[layer])"
      ],
      "metadata": {
        "id": "xFG9hGqKU5BY"
      },
      "execution_count": 23,
      "outputs": []
    },
    {
      "cell_type": "code",
      "source": [
        "# neighbors_faiss = {}\n",
        "# for layer in range(knn_layers_count):\n",
        "#   neighbors_faiss[layer] = {}\n",
        "#   for eps in epsilons:\n",
        "#     neighbors_faiss[layer][eps] = neighbours_index_faiss[layer].search(activations[eps][layer], 75)[0]"
      ],
      "metadata": {
        "id": "zpVOj8kwVOmc"
      },
      "execution_count": 24,
      "outputs": []
    },
    {
      "cell_type": "markdown",
      "source": [
        "\n",
        "# Annoy"
      ],
      "metadata": {
        "id": "GjfSOrW6vXcT"
      }
    },
    {
      "cell_type": "code",
      "source": [
        "def save_annoy_index(neighbours_annoy):\n",
        "  for layer in range(knn_layers_count):\n",
        "    neighbours_annoy[layer].save('annoy/index/annoy_index_' + str(layer) + '.ann')\n",
        "\n",
        "def load_annoy_index():\n",
        "  neighbours_index_annoy = {}\n",
        "  for layer in range (knn_layers_count):\n",
        "    neighbours_index_annoy[layer] = annoy.AnnoyIndex(activations_train[layer].shape[1], 'angular')\n",
        "    neighbours_index_annoy[layer].load('annoy/index/annoy_index_' + str(layer) + '.ann')\n",
        "  return neighbours_index_annoy\n",
        "\n",
        "def load_annoy_neighbours():\n",
        "  neighbors_annoy = {}\n",
        "  for layer in range(knn_layers_count):\n",
        "    neighbors_annoy[layer] = load_pickle('annoy/neighbours/neighbours_annoy_layer_' + str(layer + 1) + '.pkl')\n",
        "    for eps in epsilons:\n",
        "      neighbors_annoy[layer][eps] = y_train_raw[neighbors_annoy[layer][eps]]\n",
        "  return neighbors_annoy"
      ],
      "metadata": {
        "id": "ZWp8e003N6iK"
      },
      "execution_count": 25,
      "outputs": []
    },
    {
      "cell_type": "markdown",
      "source": [
        "Indexing"
      ],
      "metadata": {
        "id": "49Ca_UJwR9Fh"
      }
    },
    {
      "cell_type": "code",
      "source": [
        "try:\n",
        "  neighbours_index_annoy = load_annoy_index()\n",
        "  print('loaded annoy index successfully')\n",
        "except OSError:\n",
        "  print('failed to load annoy indexes successfully')\n",
        "  neighbours_index_annoy = {}\n",
        "  for layer in range(knn_layers_count):\n",
        "    neighbours_index_annoy[layer] = annoy.AnnoyIndex(activations_train[layer].shape[1], 'angular')\n",
        "\n",
        "  for layer in range(knn_layers_count):\n",
        "    for i in range(activations_train[layer].shape[0]):\n",
        "      neighbours_index_annoy[layer].add_item(i, activations_train[layer][i])\n",
        "    neighbours_index_annoy[layer].build(50) # build 50 trees"
      ],
      "metadata": {
        "colab": {
          "base_uri": "https://localhost:8080/",
          "height": 0
        },
        "id": "GAW50HyhvW2Z",
        "outputId": "cbce65d3-dabc-4d8a-bf49-7a61f212d5c1"
      },
      "execution_count": 26,
      "outputs": [
        {
          "output_type": "error",
          "ename": "NameError",
          "evalue": "ignored",
          "traceback": [
            "\u001b[0;31m---------------------------------------------------------------------------\u001b[0m",
            "\u001b[0;31mNameError\u001b[0m                                 Traceback (most recent call last)",
            "\u001b[0;32m<ipython-input-26-be0b81a90119>\u001b[0m in \u001b[0;36m<module>\u001b[0;34m()\u001b[0m\n\u001b[1;32m      1\u001b[0m \u001b[0;32mtry\u001b[0m\u001b[0;34m:\u001b[0m\u001b[0;34m\u001b[0m\u001b[0;34m\u001b[0m\u001b[0m\n\u001b[0;32m----> 2\u001b[0;31m   \u001b[0mneighbours_index_annoy\u001b[0m \u001b[0;34m=\u001b[0m \u001b[0mload_annoy_index\u001b[0m\u001b[0;34m(\u001b[0m\u001b[0;34m)\u001b[0m\u001b[0;34m\u001b[0m\u001b[0;34m\u001b[0m\u001b[0m\n\u001b[0m\u001b[1;32m      3\u001b[0m   \u001b[0mprint\u001b[0m\u001b[0;34m(\u001b[0m\u001b[0;34m'loaded annoy index successfully'\u001b[0m\u001b[0;34m)\u001b[0m\u001b[0;34m\u001b[0m\u001b[0;34m\u001b[0m\u001b[0m\n\u001b[1;32m      4\u001b[0m \u001b[0;32mexcept\u001b[0m \u001b[0mOSError\u001b[0m\u001b[0;34m:\u001b[0m\u001b[0;34m\u001b[0m\u001b[0;34m\u001b[0m\u001b[0m\n\u001b[1;32m      5\u001b[0m   \u001b[0mprint\u001b[0m\u001b[0;34m(\u001b[0m\u001b[0;34m'failed to load annoy indexes successfully'\u001b[0m\u001b[0;34m)\u001b[0m\u001b[0;34m\u001b[0m\u001b[0;34m\u001b[0m\u001b[0m\n",
            "\u001b[0;32m<ipython-input-25-021989985358>\u001b[0m in \u001b[0;36mload_annoy_index\u001b[0;34m()\u001b[0m\n\u001b[1;32m      5\u001b[0m \u001b[0;32mdef\u001b[0m \u001b[0mload_annoy_index\u001b[0m\u001b[0;34m(\u001b[0m\u001b[0;34m)\u001b[0m\u001b[0;34m:\u001b[0m\u001b[0;34m\u001b[0m\u001b[0;34m\u001b[0m\u001b[0m\n\u001b[1;32m      6\u001b[0m   \u001b[0mneighbours_index_annoy\u001b[0m \u001b[0;34m=\u001b[0m \u001b[0;34m{\u001b[0m\u001b[0;34m}\u001b[0m\u001b[0;34m\u001b[0m\u001b[0;34m\u001b[0m\u001b[0m\n\u001b[0;32m----> 7\u001b[0;31m   \u001b[0;32mfor\u001b[0m \u001b[0mlayer\u001b[0m \u001b[0;32min\u001b[0m \u001b[0mrange\u001b[0m \u001b[0;34m(\u001b[0m\u001b[0mknn_layers_count\u001b[0m\u001b[0;34m)\u001b[0m\u001b[0;34m:\u001b[0m\u001b[0;34m\u001b[0m\u001b[0;34m\u001b[0m\u001b[0m\n\u001b[0m\u001b[1;32m      8\u001b[0m     \u001b[0mneighbours_index_annoy\u001b[0m\u001b[0;34m[\u001b[0m\u001b[0mlayer\u001b[0m\u001b[0;34m]\u001b[0m \u001b[0;34m=\u001b[0m \u001b[0mannoy\u001b[0m\u001b[0;34m.\u001b[0m\u001b[0mAnnoyIndex\u001b[0m\u001b[0;34m(\u001b[0m\u001b[0mactivations_train\u001b[0m\u001b[0;34m[\u001b[0m\u001b[0mlayer\u001b[0m\u001b[0;34m]\u001b[0m\u001b[0;34m.\u001b[0m\u001b[0mshape\u001b[0m\u001b[0;34m[\u001b[0m\u001b[0;36m1\u001b[0m\u001b[0;34m]\u001b[0m\u001b[0;34m,\u001b[0m \u001b[0;34m'angular'\u001b[0m\u001b[0;34m)\u001b[0m\u001b[0;34m\u001b[0m\u001b[0;34m\u001b[0m\u001b[0m\n\u001b[1;32m      9\u001b[0m     \u001b[0mneighbours_index_annoy\u001b[0m\u001b[0;34m[\u001b[0m\u001b[0mlayer\u001b[0m\u001b[0;34m]\u001b[0m\u001b[0;34m.\u001b[0m\u001b[0mload\u001b[0m\u001b[0;34m(\u001b[0m\u001b[0;34m'annoy/index/annoy_index_'\u001b[0m \u001b[0;34m+\u001b[0m \u001b[0mstr\u001b[0m\u001b[0;34m(\u001b[0m\u001b[0mlayer\u001b[0m\u001b[0;34m)\u001b[0m \u001b[0;34m+\u001b[0m \u001b[0;34m'.ann'\u001b[0m\u001b[0;34m)\u001b[0m\u001b[0;34m\u001b[0m\u001b[0;34m\u001b[0m\u001b[0m\n",
            "\u001b[0;31mNameError\u001b[0m: name 'knn_layers_count' is not defined"
          ]
        }
      ]
    },
    {
      "cell_type": "markdown",
      "source": [
        "Neighbours"
      ],
      "metadata": {
        "id": "kdLTc_NRSAd9"
      }
    },
    {
      "cell_type": "code",
      "source": [
        "try:\n",
        "  neighbors_annoy = load_annoy_neighbours()\n",
        "  print('loaded annoy neighbours')\n",
        "except FileNotFoundError:\n",
        "  print('failed to loaded annoy neighbours')\n",
        "  neighbors_annoy = {}\n",
        "  for layer in range(knn_layers_count):\n",
        "    neighbors_annoy[layer] = {}\n",
        "    for eps in epsilons:\n",
        "      arr = []\n",
        "      for act in activations[eps][layer]:\n",
        "        indexes = neighbours_index_annoy[layer].get_nns_by_vector(act, k_neighbours)\n",
        "        arr.append(y_train_raw[indexes])\n",
        "      neighbors_annoy[layer][eps] = np.array(arr)"
      ],
      "metadata": {
        "id": "t3CnMadVxlaf"
      },
      "execution_count": null,
      "outputs": []
    },
    {
      "cell_type": "markdown",
      "source": [
        "Calibrate"
      ],
      "metadata": {
        "id": "GEvK4LhD1HXb"
      }
    },
    {
      "cell_type": "code",
      "source": [
        "try:\n",
        "  nonconformity_calib_annoy = load_pickle('annoy/calib_annoy.pkl')\n",
        "except FileNotFoundError:\n",
        "  neigbours_calib_annoy = {}\n",
        "  for layer in range(knn_layers_count):\n",
        "    arr = []\n",
        "    for act in activations_calib[layer]:\n",
        "      calib_indexes = neighbours_index_annoy[layer].get_nns_by_vector(act, k_neighbours)\n",
        "      arr.append(y_train_raw[calib_indexes])\n",
        "    neigbours_calib_annoy[layer] = np.array(arr)\n",
        "    \n",
        "  nonconformity_calib_annoy = calibrate_nonconformity(neigbours_calib_annoy)"
      ],
      "metadata": {
        "id": "T0fktHHlGHPE"
      },
      "execution_count": null,
      "outputs": []
    },
    {
      "cell_type": "code",
      "source": [
        "# calculate p-values and predicted labels\n",
        "p_values_annoy, knn_predicted_labels_annoy = calculate_performance_parameters(neighbors_annoy, nonconformity_calib_annoy)"
      ],
      "metadata": {
        "id": "YjQQJBquWv2K"
      },
      "execution_count": null,
      "outputs": []
    },
    {
      "cell_type": "code",
      "source": [
        "plot_reliability('DkNN', 0.0, p_values_annoy[0.0], knn_predicted_labels_annoy[0.0])\n",
        "plot_reliability('DkNN', 0.15, p_values_annoy[0.15], knn_predicted_labels_annoy[0.15])"
      ],
      "metadata": {
        "id": "X1R438hvZFwJ"
      },
      "execution_count": null,
      "outputs": []
    },
    {
      "cell_type": "code",
      "source": [
        "# def test_model_accuracy(labels1, labels2):\n",
        "#   correct_labels = np.sum(labels1 == labels2)\n",
        "#   return correct_labels / labels1.shape[0] * 100\n",
        "\n",
        "# accuracies_plot_knn = []\n",
        "# accuracies_plot_knn_annoy = []\n",
        "# for eps in epsilons:\n",
        "#   model_accuracy = test_model_accuracy(knn_predicted_labels[eps], y_test_raw)\n",
        "#   accuracies_plot_knn.append(model_accuracy)\n",
        "\n",
        "#   model_accuracy_lsh = test_model_accuracy(knn_predicted_labels_annoy[eps], y_test_raw)\n",
        "#   accuracies_plot_knn_annoy.append(model_accuracy_lsh)\n",
        "\n",
        "# plot_accuracy_vs_epsilon()\n",
        "# plt.plot(epsilons, accuracies_plot_knn, linestyle='--', marker='^', color='r', label = 'DkNN - NND')\n",
        "# plt.plot(epsilons, accuracies_plot_knn_annoy, linestyle='--', marker='s', color='g', label = 'DkNN - Annoy')\n",
        "# plt.legend(loc='center left', bbox_to_anchor=(1, 0.5))\n",
        "# plt.show()"
      ],
      "metadata": {
        "id": "pnp6AUiZZs9K"
      },
      "execution_count": null,
      "outputs": []
    },
    {
      "cell_type": "markdown",
      "source": [
        "# Falconn"
      ],
      "metadata": {
        "id": "zX-XkLDgVqvT"
      }
    },
    {
      "cell_type": "code",
      "source": [
        "def LSH_index(dataset, center):\n",
        "  number_of_tables = 50\n",
        "  dataset -= center\n",
        "  params_cp = falconn.LSHConstructionParameters()\n",
        "  params_cp.dimension = len(dataset[0])\n",
        "  params_cp.lsh_family = falconn.LSHFamily.CrossPolytope\n",
        "  params_cp.distance_function = falconn.DistanceFunction.EuclideanSquared\n",
        "  params_cp.l = number_of_tables\n",
        "  # we set one rotation, since the data is dense enough,\n",
        "  # for sparse data set it to 2\n",
        "  params_cp.num_rotations = 1\n",
        "  params_cp.seed = 5721840\n",
        "  # we want to use all the available threads to set up\n",
        "  params_cp.num_setup_threads = 0\n",
        "  params_cp.storage_hash_table = falconn.StorageHashTable.BitPackedFlatHashTable\n",
        "  # we build 18-bit hashes so that each table has\n",
        "  # 2^18 bins; this is a good choise since 2^18 is of the same\n",
        "  # order of magnitude as the number of data points\n",
        "  falconn.compute_number_of_hash_functions(18, params_cp)\n",
        "  table = falconn.LSHIndex(params_cp)\n",
        "  table.setup(dataset)\n",
        "  query_object = table.construct_query_object()\n",
        "\n",
        "  return query_object\n",
        "\n",
        "index_act_lsh = {}\n",
        "center_arr = []\n",
        "for layer in range(knn_layers_count):\n",
        "  center = np.mean(activations_train[layer], axis=0)\n",
        "  center_arr.append(center)\n",
        "  index_act_lsh[layer] = LSH_index(activations_train[layer], center)"
      ],
      "metadata": {
        "id": "gvZWIWWqVu5_"
      },
      "execution_count": null,
      "outputs": []
    },
    {
      "cell_type": "markdown",
      "source": [
        "Neighbours LSH"
      ],
      "metadata": {
        "id": "iE3Inp6dHUnt"
      }
    },
    {
      "cell_type": "code",
      "source": [
        "def LSH_fin_neighbours(query_arr, index, center):\n",
        "  query_arr -= center\n",
        "  closest_labels = []\n",
        "\n",
        "  for (j, query) in enumerate(query_arr):\n",
        "      a = index.find_k_nearest_neighbors(query, 75)\n",
        "      y_label = y_train[a]\n",
        "      y_label_2 = []\n",
        "      for i in range(y_label.shape[0]):\n",
        "          y_label_2.append(np.argmax(y_label[i]))\n",
        "      closest_labels.append(y_label_2)\n",
        "  return np.array(closest_labels)\n",
        "\n",
        "try:\n",
        "  neighbors_lsh = load_pickle(neihbours_lsh + 'lsh/neighbours_lsh_new.pkl')\n",
        "  print('loaded neighbours from disc')\n",
        "except FileNotFoundError:\n",
        "  neighbors_lsh = {}\n",
        "  for layer in range (knn_layers_count):\n",
        "    neighbors_lsh[layer] = {}\n",
        "    for eps in epsilons:\n",
        "      neighbors_lsh[layer][eps] = LSH_fin_neighbours(activations[eps][layer], index_act_lsh[layer], center_arr[layer])\n",
        "  # save_pickle(neighbors_lsh, 'neighbours_lsh_new.pkl')\n",
        "  "
      ],
      "metadata": {
        "id": "B668atGMV5N7"
      },
      "execution_count": null,
      "outputs": []
    },
    {
      "cell_type": "code",
      "source": [
        "  neigbours_calib_annoy = {}\n",
        "  for layer in range(knn_layers_count):\n",
        "    arr = []\n",
        "    for act in activations_calib[layer]:\n",
        "      calib_indexes = neighbours_index_annoy[layer].get_nns_by_vector(act, k_neighbours)\n",
        "      arr.append(y_train_raw[calib_indexes])\n",
        "    neigbours_calib_annoy[layer] = np.array(arr)\n",
        "    \n",
        "  nonconformity_calib_annoy = calibrate_nonconformity(neigbours_calib_annoy, knn_layers_count)"
      ],
      "metadata": {
        "id": "krlMUy254k5n"
      },
      "execution_count": null,
      "outputs": []
    },
    {
      "cell_type": "markdown",
      "source": [
        "Calibration LSH"
      ],
      "metadata": {
        "id": "5PPnZwySHcRd"
      }
    },
    {
      "cell_type": "code",
      "execution_count": null,
      "metadata": {
        "id": "fIPj4vLIO2SP"
      },
      "outputs": [],
      "source": [
        "neigbours_calib_lsh = {}\n",
        "for layer in range(knn_layers_count):\n",
        "  center = np.mean(activations_calib[layer], axis=0)\n",
        "  neigbours_calib_lsh[layer] = LSH_fin_neighbours(activations_calib[layer], index_act_lsh[layer], center)\n",
        "\n",
        "nonconformity_calib_lsh = calibrate_nonconformity(neigbours_calib_lsh, knn_layers_count)"
      ]
    },
    {
      "cell_type": "markdown",
      "source": [
        "Credibility LSH"
      ],
      "metadata": {
        "id": "LStPlGBTHgny"
      }
    },
    {
      "cell_type": "code",
      "source": [
        "# pattern_nonconformity_lsh = {}\n",
        "# p_values_lsh = {}\n",
        "# knn_predicted_labels_lsh = {}\n",
        "# for eps in epsilons:\n",
        "#   pattern_nonconformity_lsh[eps] = calculate_nonconformity(eps, neighbors_lsh)\n",
        "#   p_values_lsh[eps] = calculate_p_values(pattern_nonconformity_lsh[eps], nonconformity_calib_lsh)\n",
        "#   knn_predicted_labels_lsh[eps] = predict_labels(eps, pattern_nonconformity_lsh)\n",
        "\n",
        "# calculate p-values and predicted labels\n",
        "p_values_lsh, knn_predicted_labels_lsh = calculate_performance_parameters(neighbors_lsh, nonconformity_calib_lsh, knn_layers_count)"
      ],
      "metadata": {
        "id": "HWYQKNs1xUzT"
      },
      "execution_count": null,
      "outputs": []
    },
    {
      "cell_type": "code",
      "source": [
        "plot_reliability('DkNN', 0.0, p_values_lsh[0.0], knn_predicted_labels_lsh[0.0])\n",
        "plot_reliability('DkNN', 0.15, p_values_lsh[0.15], knn_predicted_labels_lsh[0.15])"
      ],
      "metadata": {
        "id": "LIwatt4p7EVv"
      },
      "execution_count": null,
      "outputs": []
    },
    {
      "cell_type": "code",
      "source": [
        "def test_model_accuracy(labels1, labels2):\n",
        "  correct_labels = np.sum(labels1 == labels2)\n",
        "  return correct_labels / labels1.shape[0] * 100\n",
        "\n",
        "accuracies_plot_knn = []\n",
        "accuracies_plot_knn_annoy = []\n",
        "accuracies_plot_knn_lsh = []\n",
        "\n",
        "for eps in epsilons:\n",
        "  model_accuracy = test_model_accuracy(knn_predicted_labels[eps], y_test_raw)\n",
        "  accuracies_plot_knn.append(model_accuracy)\n",
        "\n",
        "  model_accuracy_annoy = test_model_accuracy(knn_predicted_labels_annoy[eps], y_test_raw)\n",
        "  accuracies_plot_knn_annoy.append(model_accuracy_annoy)\n",
        "\n",
        "  model_accuracy_lsh = test_model_accuracy(knn_predicted_labels_lsh[eps], y_test_raw)\n",
        "  accuracies_plot_knn_lsh.append(model_accuracy_lsh)\n",
        "\n",
        "\n",
        "plot_accuracy_vs_epsilon()\n",
        "plt.plot(epsilons, accuracies_plot_knn, linestyle='--', marker='o', color='r', label = 'DkNN - PyNND')\n",
        "plt.plot(epsilons, accuracies_plot_knn_annoy, linestyle='--', marker='^', color='g', label = 'DkNN - Annoy')\n",
        "plt.plot(epsilons, accuracies_plot_knn_lsh, linestyle='--', marker='*', color='c', label = 'DkNN - Falconn')\n",
        "plt.legend(loc='center left', bbox_to_anchor=(1, 0.5))\n",
        "plt.show()"
      ],
      "metadata": {
        "id": "Zd08exUYL9C0"
      },
      "execution_count": null,
      "outputs": []
    },
    {
      "cell_type": "markdown",
      "source": [
        "Adversarial Training"
      ],
      "metadata": {
        "id": "itL8kEWVWuTU"
      }
    },
    {
      "cell_type": "code",
      "source": [
        "adv_model = keras.Sequential(\n",
        "    [\n",
        "        keras.Input(shape=input_shape),\n",
        "        layers.Conv2D(64, kernel_size=(8, 8), strides=(2,2), padding=\"same\", activation=\"relu\", input_shape=x_train.shape[1:]),\n",
        "        layers.Conv2D(128, kernel_size=(6, 6), strides=(2,2), padding=\"valid\", activation=\"relu\"),\n",
        "        layers.Conv2D(128, kernel_size=(5, 5), strides=(1,1), padding=\"valid\", activation=\"relu\"),\n",
        "        layers.Flatten(),\n",
        "        layers.Dropout(0.5),\n",
        "        layers.Dense(10, activation=tf.nn.softmax),\n",
        "    ]\n",
        ")\n",
        "\n",
        "batch_size = 500\n",
        "epochs = 8\n",
        "\n",
        "adam_opt = keras.optimizers.Adam(learning_rate=0.001)\n",
        "adv_model.compile(loss=\"categorical_crossentropy\", optimizer=adam_opt, metrics=[\"accuracy\"])\n",
        "\n",
        "adv_model.summary()"
      ],
      "metadata": {
        "id": "4XK_NZSUiouQ"
      },
      "execution_count": null,
      "outputs": []
    },
    {
      "cell_type": "code",
      "source": [
        "try:\n",
        "  advarsarial_training_arr = np.load('adversarial_training.npy')\n",
        "  print('loaded training adversarial')\n",
        "except FileNotFoundError:\n",
        "  advarsarial_training = []\n",
        "  for i in range(x_train.shape[0]):\n",
        "    advarsarial_training.append(generate_image_adversary(model, x_train[i], y_train[i], 0.1))\n",
        "  advarsarial_training_arr = np.array(advarsarial_training)\n",
        "\n",
        "amount = 10000\n",
        "x_train_adv = np.append(x_train, advarsarial_training_arr[0:amount], axis=0)\n",
        "y_train_adv = np.append(y_train,y_train[0:amount],axis=0)\n",
        "\n",
        "adv_model.fit(x_train_adv, y_train_adv, batch_size=batch_size, epochs=epochs+4, validation_split=0.1)\n"
      ],
      "metadata": {
        "id": "tIJmCMoakTWH"
      },
      "execution_count": null,
      "outputs": []
    },
    {
      "cell_type": "code",
      "source": [
        "score1 = model.evaluate(fgsm_adversarials[0.1], y_test, verbose=0)\n",
        "score2 = adv_model.evaluate(fgsm_adversarials[0.0], y_test, verbose=0)\n",
        "score3 = adv_model.evaluate(fgsm_adversarials[0.1], y_test, verbose=0)"
      ],
      "metadata": {
        "id": "ZEKV2_9krzPy"
      },
      "execution_count": null,
      "outputs": []
    },
    {
      "cell_type": "markdown",
      "source": [
        "# Kaggle Model "
      ],
      "metadata": {
        "id": "Tg2Ofoob7hU9"
      }
    },
    {
      "cell_type": "code",
      "source": [
        "model2=Sequential()\n",
        "\n",
        "#model.add(Lambda(standardize,input_shape=(28,28,1)))    \n",
        "model2.add(Conv2D(filters=64, kernel_size = (3,3), activation=\"relu\", input_shape=(28,28,1)))\n",
        "model2.add(Conv2D(filters=64, kernel_size = (3,3), activation=\"relu\"))\n",
        "model2.add(MaxPooling2D(pool_size=(2,2)))\n",
        "model2.add(BatchNormalization())\n",
        "\n",
        "model2.add(Conv2D(filters=128, kernel_size = (3,3), activation=\"relu\"))\n",
        "model2.add(Conv2D(filters=128, kernel_size = (3,3), activation=\"relu\"))\n",
        "model2.add(MaxPooling2D(pool_size=(2,2)))\n",
        "model2.add(BatchNormalization())    \n",
        "\n",
        "model2.add(Conv2D(filters=256, kernel_size = (3,3), activation=\"relu\"))\n",
        "model2.add(MaxPooling2D(pool_size=(2,2)))\n",
        "model2.add(BatchNormalization())\n",
        "    \n",
        "model2.add(Flatten())\n",
        "model2.add(Dense(512,activation=\"relu\"))\n",
        "    \n",
        "model2.add(Dense(10,activation=\"softmax\"))\n",
        "    \n",
        "model2.compile(loss=\"categorical_crossentropy\", optimizer=\"adam\", metrics=[\"accuracy\"])\n",
        "\n",
        "batch_size2 = 500\n",
        "epochs2 = 8\n",
        "\n",
        "neighbours_layers_indexes2 = [2,6,9]\n",
        "knn_layers_count2 = len(neighbours_layers_indexes2)"
      ],
      "metadata": {
        "id": "K7tPxpQp7m4c"
      },
      "execution_count": 40,
      "outputs": []
    },
    {
      "cell_type": "code",
      "source": [
        "# try loading model from files\n",
        "try:\n",
        "  model2 = load_model(model_str + 'model2/deepKNN_model2.h5')\n",
        "  print(\"loaded model from disc\")\n",
        "\n",
        "# otherwise train from scratch\n",
        "except OSError:\n",
        "  print(\"failed to load model from disc\")\n",
        "  model2.fit(x_train, y_train, batch_size=batch_size2, epochs=epochs2, validation_split=0.1)\n",
        "  # model2.save('model2/deepKNN_model2.h5')  # creates a HDF5 file\n",
        "  print(\"saved model successfully\")"
      ],
      "metadata": {
        "colab": {
          "base_uri": "https://localhost:8080/"
        },
        "id": "_RjEgrD67zjO",
        "outputId": "d8ae3c62-2dd1-4c30-d759-71f1e92e6d7d"
      },
      "execution_count": 41,
      "outputs": [
        {
          "output_type": "stream",
          "name": "stdout",
          "text": [
            "loaded model from disc\n"
          ]
        }
      ]
    },
    {
      "cell_type": "markdown",
      "source": [
        "Evaluate model"
      ],
      "metadata": {
        "id": "QW41jH5C99vc"
      }
    },
    {
      "cell_type": "code",
      "source": [
        "score = model2.evaluate(x_test, y_test, verbose=0)\n",
        "print(\"Test loss:\", score[0])\n",
        "print(\"Test accuracy:\", score[1])"
      ],
      "metadata": {
        "colab": {
          "base_uri": "https://localhost:8080/"
        },
        "id": "1U5RtGud971G",
        "outputId": "aa556dd9-eb90-41e6-d8a5-6fb4a81861ed"
      },
      "execution_count": 42,
      "outputs": [
        {
          "output_type": "stream",
          "name": "stdout",
          "text": [
            "Test loss: 0.03317376971244812\n",
            "Test accuracy: 0.9910269975662231\n"
          ]
        }
      ]
    },
    {
      "cell_type": "code",
      "source": [
        "epsilons = [0.025, 0.05, 0.075, 0.1, 0.125, 0.15]\n",
        "# epsilons = [0.15]\n",
        "try:\n",
        "  fgsm_adversarials2 = load_adversarial('model2/')\n",
        "  epsilons.insert(0, 0.0)\n",
        "  fgsm_adversarials2[0.0] = x_test\n",
        "  print('loaded adversarial datasets from disc')\n",
        "except FileNotFoundError:\n",
        "  print('failed to load adversarial datasets from disc')\n",
        "  fgsm_adversarials2 = {}\n",
        "  for eps in epsilons:\n",
        "    adv = []\n",
        "    for i in range(x_test.shape[0]):\n",
        "      adv.append(generate_image_adversary(model2, x_test[i], y_test[i], eps))\n",
        "    fgsm_adversarials2[eps] = np.array(adv)\n",
        "  save_adversarial(fgsm_adversarials2, 'model2/')\n",
        "  epsilons.insert(0, 0.0)\n",
        "  fgsm_adversarials2[0.0] = x_test"
      ],
      "metadata": {
        "colab": {
          "base_uri": "https://localhost:8080/"
        },
        "id": "U5qf3FYZ8Z0G",
        "outputId": "63ca2d43-b3d6-4364-fd57-c05d3e0995f7"
      },
      "execution_count": 43,
      "outputs": [
        {
          "output_type": "stream",
          "name": "stdout",
          "text": [
            "loaded adversarial datasets from disc\n"
          ]
        }
      ]
    },
    {
      "cell_type": "code",
      "source": [
        "plot_accuracy_vs_epsilon(model2, fgsm_adversarials2)"
      ],
      "metadata": {
        "colab": {
          "base_uri": "https://localhost:8080/",
          "height": 471
        },
        "id": "7-pvWT-H_9Py",
        "outputId": "5a2ccaac-5e34-4e00-9842-b158c745c09a"
      },
      "execution_count": 44,
      "outputs": [
        {
          "output_type": "stream",
          "name": "stdout",
          "text": [
            "[0.03317376971244812, 0.9910269975662231]\n",
            "[0.11889306455850601, 0.972540557384491]\n",
            "[0.35289862751960754, 0.9158918857574463]\n",
            "[0.8676699995994568, 0.8101621866226196]\n",
            "[1.7617709636688232, 0.6564324498176575]\n",
            "[3.01385498046875, 0.49070268869400024]\n",
            "[4.500945091247559, 0.3430270254611969]\n"
          ]
        },
        {
          "output_type": "display_data",
          "data": {
            "text/plain": [
              "<Figure size 360x360 with 1 Axes>"
            ],
            "image/png": "[encoded data removed]"
          },
          "metadata": {
            "needs_background": "light"
          }
        }
      ]
    },
    {
      "cell_type": "code",
      "source": [
        "def get_activations_big_data(model, dataset):\n",
        "    reshaped_output_layer = []\n",
        "\n",
        "    for i in neighbours_layers_indexes2: # 0,1,2-convolutions layer, 5-dense layer\n",
        "        layer = model.layers[i]\n",
        "        lay_act_arr = []\n",
        "        chunk_size = 10000\n",
        "        for i in range(0, 10000, chunk_size):\n",
        "          lay_act = K.function([model.layers[0].input], [layer.output])([dataset[i:i+chunk_size]])[0]\n",
        "          lay_act_arr = np.array(lay_act)\n",
        "        for i in range(10000, len(dataset), chunk_size):\n",
        "          lay_act = K.function([model.layers[0].input], [layer.output])([dataset[i:i+chunk_size]])[0]\n",
        "          lay_act_arr = np.append(lay_act_arr, lay_act, axis=0)\n",
        "\n",
        "        if i != 4:\n",
        "          reshaped_output_layer.append(lay_act_arr.reshape(lay_act_arr.shape[0], lay_act_arr.shape[1]*lay_act_arr.shape[2]*lay_act_arr.shape[3]))\n",
        "        else: \n",
        "          reshaped_output_layer.append(lay_act_arr)\n",
        "    \n",
        "    for layer in reshaped_output_layer:\n",
        "        layer /= np.linalg.norm(layer, axis=1).reshape(-1, 1)\n",
        "\n",
        "    return reshaped_output_layer"
      ],
      "metadata": {
        "id": "mqr3pBwpAE7H"
      },
      "execution_count": 45,
      "outputs": []
    },
    {
      "cell_type": "code",
      "source": [
        "activations_train2 = get_activations_big_data(model2, x_train)\n",
        "\n",
        "try: \n",
        "  index_act2 = load_pickle('model2/neighbours_index.pkl')\n",
        "  print('loaded neighbours index from disc')\n",
        "except FileNotFoundError:\n",
        "  print('failed to load neighbours index from disc')\n",
        "  index_act2 = {}\n",
        "  for layer in range(knn_layers_count2):\n",
        "    index_act2[layer] = index_layer(activations_train2[layer])\n",
        "  # save_pickle(index_act2, 'model2/neighbours_index.pkl')"
      ],
      "metadata": {
        "colab": {
          "base_uri": "https://localhost:8080/"
        },
        "id": "xNfquC1IPzPX",
        "outputId": "c4b0ba42-8481-4bc3-fd26-03a56213d970"
      },
      "execution_count": 46,
      "outputs": [
        {
          "output_type": "stream",
          "name": "stdout",
          "text": [
            "loaded neighbours index from disc\n"
          ]
        }
      ]
    },
    {
      "cell_type": "code",
      "source": [
        "# get activations of test set on each layer\n",
        "activations2 = {}\n",
        "for eps in epsilons:\n",
        "  activations2[eps] = get_activations(model2, fgsm_adversarials2[eps], neighbours_layers_indexes2)\n",
        "\n",
        "try:\n",
        "  neighbors2 = load_pickle(neihbours_nnd + 'model2/neighbours.pkl')\n",
        "  print('loaded neighbours from disc')\n",
        "except FileNotFoundError:\n",
        "  print('failed to load neighbours from disc')\n",
        "  neighbors2 = {}\n",
        "  for layer in range(knn_layers_count2):\n",
        "    neighbors2[layer] = {}\n",
        "    for eps in epsilons:\n",
        "      neighbors2[layer][eps] = find_neighbours(activations2[eps][layer], index_act2[layer], 0.1)\n",
        "  # save_pickle(neighbors2, 'model2/neighbours.pkl')"
      ],
      "metadata": {
        "id": "6l5euUBjReaS"
      },
      "execution_count": 47,
      "outputs": []
    },
    {
      "cell_type": "code",
      "source": [
        "activations_calib2 = get_activations(model2, x_cal, neighbours_layers_indexes2)\n",
        "\n",
        "neigbours_calib2 = {}\n",
        "for layer in range(knn_layers_count2):\n",
        "  neigbours_calib2[layer] = find_neighbours(activations_calib2[layer], index_act2[layer], 0.1)\n",
        "\n",
        "nonconformity_calib2 = calibrate_nonconformity(neigbours_calib2, knn_layers_count2)"
      ],
      "metadata": {
        "id": "LXTt1OiRSkf5"
      },
      "execution_count": 51,
      "outputs": []
    },
    {
      "cell_type": "code",
      "source": [
        "p_values2, knn_predicted_labels2 = calculate_performance_parameters(neighbors2, nonconformity_calib2, knn_layers_count2)"
      ],
      "metadata": {
        "id": "7xjQqFn2S2Qt"
      },
      "execution_count": 55,
      "outputs": []
    },
    {
      "cell_type": "code",
      "source": [
        "plot_reliability('DkNN', 0.15, p_values2[0.15], knn_predicted_labels2[0.15])"
      ],
      "metadata": {
        "colab": {
          "base_uri": "https://localhost:8080/",
          "height": 295
        },
        "id": "ITT7PvIDS5WX",
        "outputId": "d577a199-9d65-4983-989d-96759a50c0cd"
      },
      "execution_count": 56,
      "outputs": [
        {
          "output_type": "display_data",
          "data": {
            "text/plain": [
              "<Figure size 432x288 with 2 Axes>"
            ],
            "image/png": "[encoded data removed]"
          },
          "metadata": {
            "needs_background": "light"
          }
        }
      ]
    },
    {
      "cell_type": "code",
      "source": [
        "def accuracy_per_model(knn_predicted_labels):\n",
        "  accuracies_plot_knn = []\n",
        "  for eps in epsilons:\n",
        "    model_accuracy = test_model_accuracy(knn_predicted_labels[eps], y_test_raw)\n",
        "    accuracies_plot_knn.append(model_accuracy)\n",
        "  return accuracies_plot_knn\n",
        "\n",
        "# accuracies_plot_knn = accuracy_per_model(knn_predicted_labels)\n",
        "# accuracies_plot_knn_annoy = accuracy_per_model(knn_predicted_labels_annoy)\n",
        "# accuracies_plot_knn_lsh = accuracy_per_model(knn_predicted_labels_lsh)\n",
        "accuracies_plot_knn_2 = accuracy_per_model(knn_predicted_labels2)\n",
        "\n",
        "\n",
        "plot_accuracy_vs_epsilon(model2, fgsm_adversarials2)\n",
        "# plt.plot(epsilons, accuracies_plot_knn, linestyle='--', marker='o', color='r', label = 'DkNN - PyNND')\n",
        "# plt.plot(epsilons, accuracies_plot_knn_annoy, linestyle='--', marker='^', color='g', label = 'DkNN - Annoy')\n",
        "# plt.plot(epsilons, accuracies_plot_knn_lsh, linestyle='--', marker='*', color='c', label = 'DkNN - Falconn')\n",
        "plt.plot(epsilons, accuracies_plot_knn_2, linestyle='--', marker='*', color='c', label = 'DkNN - New Model')\n",
        "\n",
        "plt.legend(loc='center left', bbox_to_anchor=(1, 0.5))\n",
        "plt.show()"
      ],
      "metadata": {
        "id": "ZsSAacDtS9Gu"
      },
      "execution_count": null,
      "outputs": []
    }
  ],
  "metadata": {
    "accelerator": "GPU",
    "colab": {
      "collapsed_sections": [],
      "machine_shape": "hm",
      "name": "base.ipynb",
      "provenance": [],
      "include_colab_link": true
    },
    "kernelspec": {
      "display_name": "Python 3",
      "name": "python3"
    },
    "language_info": {
      "name": "python"
    }
  },
  "nbformat": 4,
  "nbformat_minor": 0
}